{
  "cells": [
    {
      "cell_type": "markdown",
      "metadata": {
        "id": "view-in-github",
        "colab_type": "text"
      },
      "source": [
        "<a href=\"https://colab.research.google.com/github/vzml/data_science/blob/main/project_1_year.ipynb\" target=\"_parent\"><img src=\"https://colab.research.google.com/assets/colab-badge.svg\" alt=\"Open In Colab\"/></a>"
      ]
    },
    {
      "cell_type": "markdown",
      "metadata": {
        "id": "mHyGw35yaIYP"
      },
      "source": [
        "## . Постановка задачи"
      ]
    },
    {
      "cell_type": "markdown",
      "metadata": {
        "id": "WRPDpSzAaIYU"
      },
      "source": [
        "## разработать сервис для предсказания стоимости домов на основе истории предложений."
      ]
    },
    {
      "cell_type": "markdown",
      "metadata": {
        "id": "s3dO3jPgaIYW"
      },
      "source": [
        "## В данные включены следующие признаки\n",
        "'status' - статус продажи\n",
        "'private pool’ и 'PrivatePool' - наличие частного бассейна,\n",
        "'propertyType' - тип недвижимости, поместья, свойства,\n",
        "'street' - адрес дома\n",
        "'baths' - количество ванных комнат\n",
        "'homeFacts' - сведения о строении дома, содержит несколько отдельных данных, имеющих влияние на оценку недвижимости, дома, квартиры\n",
        "'fireplace' - сведения о наличии камина (ов) в доме\n",
        "'city' - город\n",
        "'schools' - сведения о школах в районе\n",
        "'sqft' - площадь дома в футах\n",
        "'zipcode' - почтовый индекс\n",
        "'beds' - количество спален в доме\n",
        "'state' - государство/штаты\n",
        "'stories' - этажность недвижимости\n",
        "'mls-id' и 'MlsId' - идентификатор MLS (Multiple Listing Service - Служба множественного листинга)\n",
        "'target' - целевой признак, который необходимо спрогнозировать - цена недвижимости\n"
      ]
    },
    {
      "cell_type": "markdown",
      "metadata": {
        "id": "YaHIi7uzaIYX"
      },
      "source": [
        "### Установим необходимые библиотеки"
      ]
    },
    {
      "cell_type": "code",
      "execution_count": null,
      "metadata": {
        "id": "Gv4uJck7aIYY",
        "outputId": "7ea9122f-d5a8-433c-fcba-029781e204e1"
      },
      "outputs": [
        {
          "name": "stdout",
          "output_type": "stream",
          "text": [
            "Requirement already satisfied: category_encoders in c:\\users\\vezem\\appdata\\local\\programs\\python\\python311\\lib\\site-packages (2.6.3)\n",
            "Requirement already satisfied: numpy>=1.14.0 in c:\\users\\vezem\\appdata\\local\\programs\\python\\python311\\lib\\site-packages (from category_encoders) (1.24.2)\n",
            "Requirement already satisfied: scikit-learn>=0.20.0 in c:\\users\\vezem\\appdata\\local\\programs\\python\\python311\\lib\\site-packages (from category_encoders) (1.2.2)\n",
            "Requirement already satisfied: scipy>=1.0.0 in c:\\users\\vezem\\appdata\\local\\programs\\python\\python311\\lib\\site-packages (from category_encoders) (1.11.2)\n",
            "Requirement already satisfied: statsmodels>=0.9.0 in c:\\users\\vezem\\appdata\\local\\programs\\python\\python311\\lib\\site-packages (from category_encoders) (0.14.0)\n",
            "Requirement already satisfied: pandas>=1.0.5 in c:\\users\\vezem\\appdata\\local\\programs\\python\\python311\\lib\\site-packages (from category_encoders) (2.0.0)\n",
            "Requirement already satisfied: patsy>=0.5.1 in c:\\users\\vezem\\appdata\\local\\programs\\python\\python311\\lib\\site-packages (from category_encoders) (0.5.3)\n",
            "Requirement already satisfied: python-dateutil>=2.8.2 in c:\\users\\vezem\\appdata\\roaming\\python\\python311\\site-packages (from pandas>=1.0.5->category_encoders) (2.8.2)\n",
            "Requirement already satisfied: pytz>=2020.1 in c:\\users\\vezem\\appdata\\local\\programs\\python\\python311\\lib\\site-packages (from pandas>=1.0.5->category_encoders) (2023.3)\n",
            "Requirement already satisfied: tzdata>=2022.1 in c:\\users\\vezem\\appdata\\local\\programs\\python\\python311\\lib\\site-packages (from pandas>=1.0.5->category_encoders) (2023.3)\n",
            "Requirement already satisfied: six in c:\\users\\vezem\\appdata\\roaming\\python\\python311\\site-packages (from patsy>=0.5.1->category_encoders) (1.16.0)\n",
            "Requirement already satisfied: joblib>=1.1.1 in c:\\users\\vezem\\appdata\\local\\programs\\python\\python311\\lib\\site-packages (from scikit-learn>=0.20.0->category_encoders) (1.3.2)\n",
            "Requirement already satisfied: threadpoolctl>=2.0.0 in c:\\users\\vezem\\appdata\\local\\programs\\python\\python311\\lib\\site-packages (from scikit-learn>=0.20.0->category_encoders) (3.2.0)\n",
            "Requirement already satisfied: packaging>=21.3 in c:\\users\\vezem\\appdata\\roaming\\python\\python311\\site-packages (from statsmodels>=0.9.0->category_encoders) (23.0)\n"
          ]
        }
      ],
      "source": [
        "! pip install --upgrade category_encoders"
      ]
    },
    {
      "cell_type": "code",
      "execution_count": null,
      "metadata": {
        "id": "kLlL8USHaIYb"
      },
      "outputs": [],
      "source": [
        "import pandas as pd\n",
        "import numpy as np\n",
        "import pandas as pd\n",
        "import numpy as np\n",
        "\n",
        "from scipy import stats\n",
        "import statsmodels.api as sm\n",
        "from statsmodels import stats as sms\n",
        "\n",
        "import matplotlib.pyplot as plt\n",
        "import seaborn as sns"
      ]
    },
    {
      "cell_type": "code",
      "execution_count": null,
      "metadata": {
        "id": "D8t678OcaIYb"
      },
      "outputs": [],
      "source": [
        "import pandas as pd\n",
        "import numpy as np\n",
        "from statistics import median, mean\n",
        "from sklearn.preprocessing import MinMaxScaler\n",
        "import ast\n",
        "import pickle"
      ]
    },
    {
      "cell_type": "markdown",
      "metadata": {
        "id": "dszBESVnaIYb"
      },
      "source": [
        "## Подгрузим данные"
      ]
    },
    {
      "cell_type": "code",
      "execution_count": null,
      "metadata": {
        "id": "yaqtbqd-aIYc",
        "outputId": "1e70b9db-f904-4a63-edb6-ac0a50b824c0"
      },
      "outputs": [
        {
          "data": {
            "text/html": [
              "<div>\n",
              "<style scoped>\n",
              "    .dataframe tbody tr th:only-of-type {\n",
              "        vertical-align: middle;\n",
              "    }\n",
              "\n",
              "    .dataframe tbody tr th {\n",
              "        vertical-align: top;\n",
              "    }\n",
              "\n",
              "    .dataframe thead th {\n",
              "        text-align: right;\n",
              "    }\n",
              "</style>\n",
              "<table border=\"1\" class=\"dataframe\">\n",
              "  <thead>\n",
              "    <tr style=\"text-align: right;\">\n",
              "      <th></th>\n",
              "      <th>status</th>\n",
              "      <th>private pool</th>\n",
              "      <th>propertyType</th>\n",
              "      <th>street</th>\n",
              "      <th>baths</th>\n",
              "      <th>homeFacts</th>\n",
              "      <th>fireplace</th>\n",
              "      <th>city</th>\n",
              "      <th>schools</th>\n",
              "      <th>sqft</th>\n",
              "      <th>zipcode</th>\n",
              "      <th>beds</th>\n",
              "      <th>state</th>\n",
              "      <th>stories</th>\n",
              "      <th>mls-id</th>\n",
              "      <th>PrivatePool</th>\n",
              "      <th>MlsId</th>\n",
              "      <th>target</th>\n",
              "    </tr>\n",
              "  </thead>\n",
              "  <tbody>\n",
              "    <tr>\n",
              "      <th>0</th>\n",
              "      <td>Active</td>\n",
              "      <td>NaN</td>\n",
              "      <td>Single Family Home</td>\n",
              "      <td>240 Heather Ln</td>\n",
              "      <td>3.5</td>\n",
              "      <td>{'atAGlanceFacts': [{'factValue': '2019', 'fac...</td>\n",
              "      <td>Gas Logs</td>\n",
              "      <td>Southern Pines</td>\n",
              "      <td>[{'rating': ['4', '4', '7', 'NR', '4', '7', 'N...</td>\n",
              "      <td>2900</td>\n",
              "      <td>28387</td>\n",
              "      <td>4</td>\n",
              "      <td>NC</td>\n",
              "      <td>NaN</td>\n",
              "      <td>NaN</td>\n",
              "      <td>NaN</td>\n",
              "      <td>611019</td>\n",
              "      <td>$418,000</td>\n",
              "    </tr>\n",
              "    <tr>\n",
              "      <th>1</th>\n",
              "      <td>for sale</td>\n",
              "      <td>NaN</td>\n",
              "      <td>single-family home</td>\n",
              "      <td>12911 E Heroy Ave</td>\n",
              "      <td>3 Baths</td>\n",
              "      <td>{'atAGlanceFacts': [{'factValue': '2019', 'fac...</td>\n",
              "      <td>NaN</td>\n",
              "      <td>Spokane Valley</td>\n",
              "      <td>[{'rating': ['4/10', 'None/10', '4/10'], 'data...</td>\n",
              "      <td>1,947 sqft</td>\n",
              "      <td>99216</td>\n",
              "      <td>3 Beds</td>\n",
              "      <td>WA</td>\n",
              "      <td>2.0</td>\n",
              "      <td>NaN</td>\n",
              "      <td>NaN</td>\n",
              "      <td>201916904</td>\n",
              "      <td>$310,000</td>\n",
              "    </tr>\n",
              "    <tr>\n",
              "      <th>2</th>\n",
              "      <td>for sale</td>\n",
              "      <td>NaN</td>\n",
              "      <td>single-family home</td>\n",
              "      <td>2005 Westridge Rd</td>\n",
              "      <td>2 Baths</td>\n",
              "      <td>{'atAGlanceFacts': [{'factValue': '1961', 'fac...</td>\n",
              "      <td>yes</td>\n",
              "      <td>Los Angeles</td>\n",
              "      <td>[{'rating': ['8/10', '4/10', '8/10'], 'data': ...</td>\n",
              "      <td>3,000 sqft</td>\n",
              "      <td>90049</td>\n",
              "      <td>3 Beds</td>\n",
              "      <td>CA</td>\n",
              "      <td>1.0</td>\n",
              "      <td>NaN</td>\n",
              "      <td>yes</td>\n",
              "      <td>FR19221027</td>\n",
              "      <td>$2,895,000</td>\n",
              "    </tr>\n",
              "    <tr>\n",
              "      <th>3</th>\n",
              "      <td>for sale</td>\n",
              "      <td>NaN</td>\n",
              "      <td>single-family home</td>\n",
              "      <td>4311 Livingston Ave</td>\n",
              "      <td>8 Baths</td>\n",
              "      <td>{'atAGlanceFacts': [{'factValue': '2006', 'fac...</td>\n",
              "      <td>yes</td>\n",
              "      <td>Dallas</td>\n",
              "      <td>[{'rating': ['9/10', '9/10', '10/10', '9/10'],...</td>\n",
              "      <td>6,457 sqft</td>\n",
              "      <td>75205</td>\n",
              "      <td>5 Beds</td>\n",
              "      <td>TX</td>\n",
              "      <td>3.0</td>\n",
              "      <td>NaN</td>\n",
              "      <td>NaN</td>\n",
              "      <td>14191809</td>\n",
              "      <td>$2,395,000</td>\n",
              "    </tr>\n",
              "    <tr>\n",
              "      <th>4</th>\n",
              "      <td>for sale</td>\n",
              "      <td>NaN</td>\n",
              "      <td>lot/land</td>\n",
              "      <td>1524 Kiscoe St</td>\n",
              "      <td>NaN</td>\n",
              "      <td>{'atAGlanceFacts': [{'factValue': '', 'factLab...</td>\n",
              "      <td>NaN</td>\n",
              "      <td>Palm Bay</td>\n",
              "      <td>[{'rating': ['4/10', '5/10', '5/10'], 'data': ...</td>\n",
              "      <td>NaN</td>\n",
              "      <td>32908</td>\n",
              "      <td>NaN</td>\n",
              "      <td>FL</td>\n",
              "      <td>NaN</td>\n",
              "      <td>NaN</td>\n",
              "      <td>NaN</td>\n",
              "      <td>861745</td>\n",
              "      <td>$5,000</td>\n",
              "    </tr>\n",
              "  </tbody>\n",
              "</table>\n",
              "</div>"
            ],
            "text/plain": [
              "     status private pool        propertyType               street    baths   \n",
              "0    Active          NaN  Single Family Home       240 Heather Ln      3.5  \\\n",
              "1  for sale          NaN  single-family home    12911 E Heroy Ave  3 Baths   \n",
              "2  for sale          NaN  single-family home    2005 Westridge Rd  2 Baths   \n",
              "3  for sale          NaN  single-family home  4311 Livingston Ave  8 Baths   \n",
              "4  for sale          NaN            lot/land       1524 Kiscoe St      NaN   \n",
              "\n",
              "                                           homeFacts fireplace   \n",
              "0  {'atAGlanceFacts': [{'factValue': '2019', 'fac...  Gas Logs  \\\n",
              "1  {'atAGlanceFacts': [{'factValue': '2019', 'fac...       NaN   \n",
              "2  {'atAGlanceFacts': [{'factValue': '1961', 'fac...       yes   \n",
              "3  {'atAGlanceFacts': [{'factValue': '2006', 'fac...       yes   \n",
              "4  {'atAGlanceFacts': [{'factValue': '', 'factLab...       NaN   \n",
              "\n",
              "             city                                            schools   \n",
              "0  Southern Pines  [{'rating': ['4', '4', '7', 'NR', '4', '7', 'N...  \\\n",
              "1  Spokane Valley  [{'rating': ['4/10', 'None/10', '4/10'], 'data...   \n",
              "2     Los Angeles  [{'rating': ['8/10', '4/10', '8/10'], 'data': ...   \n",
              "3          Dallas  [{'rating': ['9/10', '9/10', '10/10', '9/10'],...   \n",
              "4        Palm Bay  [{'rating': ['4/10', '5/10', '5/10'], 'data': ...   \n",
              "\n",
              "         sqft zipcode    beds state stories mls-id PrivatePool       MlsId   \n",
              "0        2900   28387       4    NC     NaN    NaN         NaN      611019  \\\n",
              "1  1,947 sqft   99216  3 Beds    WA     2.0    NaN         NaN   201916904   \n",
              "2  3,000 sqft   90049  3 Beds    CA     1.0    NaN         yes  FR19221027   \n",
              "3  6,457 sqft   75205  5 Beds    TX     3.0    NaN         NaN    14191809   \n",
              "4         NaN   32908     NaN    FL     NaN    NaN         NaN      861745   \n",
              "\n",
              "       target  \n",
              "0    $418,000  \n",
              "1    $310,000  \n",
              "2  $2,895,000  \n",
              "3  $2,395,000  \n",
              "4      $5,000  "
            ]
          },
          "execution_count": 173,
          "metadata": {},
          "output_type": "execute_result"
        }
      ],
      "source": [
        "import os\n",
        "os.chdir(r'C:\\Users\\VEZem\\Desktop\\new\\LearnPandas\\data')\n",
        "\n",
        "data = pd.read_csv('data.csv')\n",
        "data.head()\n"
      ]
    },
    {
      "cell_type": "code",
      "execution_count": null,
      "metadata": {
        "id": "-vIPS_egaIYc",
        "outputId": "fd9d356a-b809-4508-a414-fc73ffc49f7c"
      },
      "outputs": [
        {
          "name": "stdout",
          "output_type": "stream",
          "text": [
            "(377185, 18)\n"
          ]
        }
      ],
      "source": [
        "print(data.shape)"
      ]
    },
    {
      "cell_type": "markdown",
      "metadata": {
        "id": "2_txfUGHaIYd"
      },
      "source": [
        "## Проведем очистку данных и подготовим их к построению модели."
      ]
    },
    {
      "cell_type": "code",
      "execution_count": null,
      "metadata": {
        "id": "02ionHOWaIYd",
        "outputId": "2a48672a-fcaf-41fa-b11f-679c3aa20fa0"
      },
      "outputs": [
        {
          "name": "stdout",
          "output_type": "stream",
          "text": [
            "<class 'pandas.core.frame.DataFrame'>\n",
            "RangeIndex: 377185 entries, 0 to 377184\n",
            "Data columns (total 18 columns):\n",
            " #   Column        Non-Null Count   Dtype \n",
            "---  ------        --------------   ----- \n",
            " 0   status        337267 non-null  object\n",
            " 1   private pool  4181 non-null    object\n",
            " 2   propertyType  342452 non-null  object\n",
            " 3   street        377183 non-null  object\n",
            " 4   baths         270847 non-null  object\n",
            " 5   homeFacts     377185 non-null  object\n",
            " 6   fireplace     103114 non-null  object\n",
            " 7   city          377151 non-null  object\n",
            " 8   schools       377185 non-null  object\n",
            " 9   sqft          336608 non-null  object\n",
            " 10  zipcode       377185 non-null  object\n",
            " 11  beds          285903 non-null  object\n",
            " 12  state         377185 non-null  object\n",
            " 13  stories       226469 non-null  object\n",
            " 14  mls-id        24942 non-null   object\n",
            " 15  PrivatePool   40311 non-null   object\n",
            " 16  MlsId         310305 non-null  object\n",
            " 17  target        374704 non-null  object\n",
            "dtypes: object(18)\n",
            "memory usage: 51.8+ MB\n",
            "None\n"
          ]
        }
      ],
      "source": [
        "print(data.info())"
      ]
    },
    {
      "cell_type": "code",
      "execution_count": null,
      "metadata": {
        "id": "yhsI_1dnaIYe",
        "outputId": "1def4a86-fc95-4ab3-b98c-27cd0d3cc91d"
      },
      "outputs": [
        {
          "data": {
            "text/plain": [
              "target\n",
              "$225,000     1462\n",
              "$275,000     1355\n",
              "$250,000     1312\n",
              "$350,000     1296\n",
              "$299,900     1276\n",
              "             ... \n",
              "$390,359        1\n",
              "$458,900+       1\n",
              "274,359         1\n",
              "$273,490+       1\n",
              "$171,306        1\n",
              "Name: count, Length: 43939, dtype: int64"
            ]
          },
          "execution_count": 176,
          "metadata": {},
          "output_type": "execute_result"
        }
      ],
      "source": [
        "data['target'].value_counts()"
      ]
    },
    {
      "cell_type": "code",
      "execution_count": null,
      "metadata": {
        "id": "npfCD4moaIYe"
      },
      "outputs": [],
      "source": [
        "df = data"
      ]
    },
    {
      "cell_type": "code",
      "execution_count": null,
      "metadata": {
        "id": "gfg7KL8raIYf",
        "outputId": "aab8ec04-6441-4470-efaf-46484e0e4131"
      },
      "outputs": [
        {
          "name": "stdout",
          "output_type": "stream",
          "text": [
            "Число найденных дубликатов: 50\n"
          ]
        }
      ],
      "source": [
        "mask = df.duplicated(subset=df.columns) # маска для фильтрации\n",
        "data_duplicates = df[mask] # фильтруем наш датасет\n",
        "print(f'Число найденных дубликатов: {data_duplicates.shape[0]}')\n",
        "df = df.drop_duplicates()"
      ]
    },
    {
      "cell_type": "code",
      "execution_count": null,
      "metadata": {
        "id": "DpLYCrA1aIYf",
        "outputId": "2eb45aec-269d-4a51-ee13-a2e988dd4c9a"
      },
      "outputs": [
        {
          "data": {
            "text/plain": [
              "private pool    372954\n",
              "mls-id          352193\n",
              "PrivatePool     336825\n",
              "fireplace       274024\n",
              "stories         150674\n",
              "baths           106308\n",
              "beds             91254\n",
              "MlsId            66869\n",
              "sqft             40550\n",
              "status           39917\n",
              "propertyType     34733\n",
              "target            2480\n",
              "city                34\n",
              "street               2\n",
              "zipcode              0\n",
              "schools              0\n",
              "state                0\n",
              "homeFacts            0\n",
              "dtype: int64"
            ]
          },
          "execution_count": 179,
          "metadata": {},
          "output_type": "execute_result"
        }
      ],
      "source": [
        "df.isnull().sum().sort_values(ascending=False)"
      ]
    },
    {
      "cell_type": "code",
      "execution_count": null,
      "metadata": {
        "id": "YNApKdHNaIYg",
        "outputId": "eb92c77d-a1a6-460c-cef4-4e349a26acf2"
      },
      "outputs": [
        {
          "name": "stdout",
          "output_type": "stream",
          "text": [
            "status - 11%\n",
            "private pool - 99%\n",
            "propertyType - 9%\n",
            "street - 0%\n",
            "baths - 28%\n",
            "homeFacts - 0%\n",
            "fireplace - 73%\n",
            "city - 0%\n",
            "schools - 0%\n",
            "sqft - 11%\n",
            "zipcode - 0%\n",
            "beds - 24%\n",
            "state - 0%\n",
            "stories - 40%\n",
            "mls-id - 93%\n",
            "PrivatePool - 89%\n",
            "MlsId - 18%\n",
            "target - 1%\n"
          ]
        }
      ],
      "source": [
        "for col in df.columns:\n",
        "    pct_missing = np.mean(df[col].isnull())\n",
        "    print('{} - {}%'.format(col, round(pct_missing*100)))"
      ]
    },
    {
      "cell_type": "markdown",
      "metadata": {
        "id": "rK7SnO1QaIYg"
      },
      "source": [
        "### переведем признак цены в числовой"
      ]
    },
    {
      "cell_type": "code",
      "execution_count": null,
      "metadata": {
        "id": "QxTl6HAbaIYg"
      },
      "outputs": [],
      "source": [
        "def convert_currency(val):\n",
        "    if val is not np.nan:\n",
        "        new_val = val.replace(',', '').replace('$', '').replace('+', '').replace('/mo', '').replace('- 1437', '')\n",
        "        return float(new_val)\n",
        "    else:\n",
        "        return np.nan"
      ]
    },
    {
      "cell_type": "code",
      "execution_count": null,
      "metadata": {
        "id": "trq_psDZaIYh",
        "outputId": "00e765f0-7730-484e-8efd-4d0e6e963684"
      },
      "outputs": [
        {
          "name": "stderr",
          "output_type": "stream",
          "text": [
            "C:\\Users\\VEZem\\AppData\\Local\\Temp\\ipykernel_12296\\2236488249.py:1: SettingWithCopyWarning: \n",
            "A value is trying to be set on a copy of a slice from a DataFrame.\n",
            "Try using .loc[row_indexer,col_indexer] = value instead\n",
            "\n",
            "See the caveats in the documentation: https://pandas.pydata.org/pandas-docs/stable/user_guide/indexing.html#returning-a-view-versus-a-copy\n",
            "  df['target'] = df['target'].apply(convert_currency)\n"
          ]
        },
        {
          "data": {
            "text/plain": [
              "0          418000.0\n",
              "1          310000.0\n",
              "2         2895000.0\n",
              "3         2395000.0\n",
              "4            5000.0\n",
              "            ...    \n",
              "377180    1249000.0\n",
              "377181     674999.0\n",
              "377182     528000.0\n",
              "377183      34500.0\n",
              "377184     204900.0\n",
              "Name: target, Length: 377135, dtype: float64"
            ]
          },
          "execution_count": 182,
          "metadata": {},
          "output_type": "execute_result"
        }
      ],
      "source": [
        "df['target'] = df['target'].apply(convert_currency)\n",
        "df['target']"
      ]
    },
    {
      "cell_type": "code",
      "execution_count": null,
      "metadata": {
        "id": "FF6R7y6taIYi",
        "outputId": "8abfed11-e701-4524-d2f1-c7f783453048"
      },
      "outputs": [
        {
          "data": {
            "text/plain": [
              "2480"
            ]
          },
          "execution_count": 183,
          "metadata": {},
          "output_type": "execute_result"
        }
      ],
      "source": [
        "df['target'].isnull().sum()"
      ]
    },
    {
      "cell_type": "markdown",
      "metadata": {
        "id": "jkgbxx8kaIYj"
      },
      "source": [
        "### Удалим с числом нолей более 30%"
      ]
    },
    {
      "cell_type": "code",
      "execution_count": null,
      "metadata": {
        "id": "Sv99HHMaaIYj",
        "outputId": "5f0159fe-78bb-41d7-b1a4-210c296fbe21"
      },
      "outputs": [
        {
          "data": {
            "text/plain": [
              "['private pool', 'baths', 'fireplace', 'stories', 'mls-id', 'PrivatePool']"
            ]
          },
          "execution_count": 184,
          "metadata": {},
          "output_type": "execute_result"
        }
      ],
      "source": [
        "df_col = [col for col in df.columns if df[col].isnull().sum() > 100000]\n",
        "df_col"
      ]
    },
    {
      "cell_type": "code",
      "execution_count": null,
      "metadata": {
        "id": "gnEMZ15qaIYk",
        "outputId": "62874247-4afd-4617-f646-894f2dbdf4f1"
      },
      "outputs": [
        {
          "name": "stderr",
          "output_type": "stream",
          "text": [
            "C:\\Users\\VEZem\\AppData\\Local\\Temp\\ipykernel_12296\\1864147182.py:1: SettingWithCopyWarning: \n",
            "A value is trying to be set on a copy of a slice from a DataFrame\n",
            "\n",
            "See the caveats in the documentation: https://pandas.pydata.org/pandas-docs/stable/user_guide/indexing.html#returning-a-view-versus-a-copy\n",
            "  df.drop(df_col, axis=1, inplace=True)\n"
          ]
        }
      ],
      "source": [
        "df.drop(df_col, axis=1, inplace=True)"
      ]
    },
    {
      "cell_type": "markdown",
      "metadata": {
        "id": "7_8eDL9waIYk"
      },
      "source": [
        "### Удалим неинформативные признаки"
      ]
    },
    {
      "cell_type": "code",
      "execution_count": null,
      "metadata": {
        "id": "6QXEBg4UaIYl"
      },
      "outputs": [],
      "source": [
        "df = df.drop(columns = ['MlsId'], axis = 1)"
      ]
    },
    {
      "cell_type": "code",
      "execution_count": null,
      "metadata": {
        "id": "xzynV8CEaIYl"
      },
      "outputs": [],
      "source": [
        "df = df.drop(columns = ['zipcode'], axis = 1)"
      ]
    },
    {
      "cell_type": "code",
      "execution_count": null,
      "metadata": {
        "id": "dkMFwlPyaIYm",
        "outputId": "c661de0f-d54d-4300-81cf-9f9a37ccc784"
      },
      "outputs": [
        {
          "data": {
            "text/plain": [
              "beds            91254\n",
              "sqft            40550\n",
              "status          39917\n",
              "propertyType    34733\n",
              "target           2480\n",
              "city               34\n",
              "street              2\n",
              "homeFacts           0\n",
              "schools             0\n",
              "state               0\n",
              "dtype: int64"
            ]
          },
          "execution_count": 188,
          "metadata": {},
          "output_type": "execute_result"
        }
      ],
      "source": [
        "df.isnull().sum().sort_values(ascending=False)"
      ]
    },
    {
      "cell_type": "code",
      "execution_count": null,
      "metadata": {
        "id": "XdnoJUjZaIYm",
        "outputId": "03b36bbf-18ad-41a0-911b-69fe752ec302"
      },
      "outputs": [
        {
          "data": {
            "text/plain": [
              "<Axes: >"
            ]
          },
          "execution_count": 189,
          "metadata": {},
          "output_type": "execute_result"
        },
        {
          "data": {
            "image/png": "[encoded data removed]",
            "text/plain": [
              "<Figure size 800x550 with 2 Axes>"
            ]
          },
          "metadata": {},
          "output_type": "display_data"
        }
      ],
      "source": [
        "sns.heatmap(df.isnull()) # смотрим, какие признаки остались"
      ]
    },
    {
      "cell_type": "code",
      "execution_count": null,
      "metadata": {
        "id": "DI9uXL2zaIYn"
      },
      "outputs": [],
      "source": [
        "df = df.dropna()"
      ]
    },
    {
      "cell_type": "code",
      "execution_count": null,
      "metadata": {
        "id": "SYbTbkcPaIYn",
        "outputId": "3a0fe166-c9d2-4fb5-e29c-bd03a2a60d1f"
      },
      "outputs": [
        {
          "data": {
            "text/html": [
              "<div>\n",
              "<style scoped>\n",
              "    .dataframe tbody tr th:only-of-type {\n",
              "        vertical-align: middle;\n",
              "    }\n",
              "\n",
              "    .dataframe tbody tr th {\n",
              "        vertical-align: top;\n",
              "    }\n",
              "\n",
              "    .dataframe thead th {\n",
              "        text-align: right;\n",
              "    }\n",
              "</style>\n",
              "<table border=\"1\" class=\"dataframe\">\n",
              "  <thead>\n",
              "    <tr style=\"text-align: right;\">\n",
              "      <th></th>\n",
              "      <th>target</th>\n",
              "    </tr>\n",
              "  </thead>\n",
              "  <tbody>\n",
              "    <tr>\n",
              "      <th>count</th>\n",
              "      <td>2.344060e+05</td>\n",
              "    </tr>\n",
              "    <tr>\n",
              "      <th>mean</th>\n",
              "      <td>6.633901e+05</td>\n",
              "    </tr>\n",
              "    <tr>\n",
              "      <th>std</th>\n",
              "      <td>1.890223e+06</td>\n",
              "    </tr>\n",
              "    <tr>\n",
              "      <th>min</th>\n",
              "      <td>1.000000e+00</td>\n",
              "    </tr>\n",
              "    <tr>\n",
              "      <th>25%</th>\n",
              "      <td>2.149000e+05</td>\n",
              "    </tr>\n",
              "    <tr>\n",
              "      <th>50%</th>\n",
              "      <td>3.400000e+05</td>\n",
              "    </tr>\n",
              "    <tr>\n",
              "      <th>75%</th>\n",
              "      <td>5.999000e+05</td>\n",
              "    </tr>\n",
              "    <tr>\n",
              "      <th>max</th>\n",
              "      <td>1.950000e+08</td>\n",
              "    </tr>\n",
              "  </tbody>\n",
              "</table>\n",
              "</div>"
            ],
            "text/plain": [
              "             target\n",
              "count  2.344060e+05\n",
              "mean   6.633901e+05\n",
              "std    1.890223e+06\n",
              "min    1.000000e+00\n",
              "25%    2.149000e+05\n",
              "50%    3.400000e+05\n",
              "75%    5.999000e+05\n",
              "max    1.950000e+08"
            ]
          },
          "execution_count": 191,
          "metadata": {},
          "output_type": "execute_result"
        }
      ],
      "source": [
        "df.describe()"
      ]
    },
    {
      "cell_type": "markdown",
      "metadata": {
        "id": "KkIO3_QcaIYn"
      },
      "source": [
        "### Сформируем новые признаки и с помощью коробки с усами посмотрим выбросы в данных."
      ]
    },
    {
      "cell_type": "code",
      "execution_count": null,
      "metadata": {
        "id": "Fj_r0cRAaIYo",
        "outputId": "1f7bea41-a6bf-49b6-cec3-16063c5a1895"
      },
      "outputs": [
        {
          "data": {
            "image/png": "[encoded data removed]",
            "text/plain": [
              "<Figure size 800x550 with 1 Axes>"
            ]
          },
          "metadata": {},
          "output_type": "display_data"
        }
      ],
      "source": [
        "df['target'].plot(kind='box', title='Распределение цены недвижимости')\n",
        "plt.show()"
      ]
    },
    {
      "cell_type": "code",
      "execution_count": null,
      "metadata": {
        "id": "n4keJnq6aIYo",
        "outputId": "c091931a-4a8f-49dd-e88b-9b0cef025dde"
      },
      "outputs": [
        {
          "data": {
            "image/png": "[encoded data removed]",
            "text/plain": [
              "<Figure size 800x550 with 1 Axes>"
            ]
          },
          "metadata": {},
          "output_type": "display_data"
        }
      ],
      "source": [
        "plt.hist(df['target'])\n",
        "\n",
        "# display histogram\n",
        "plt.show()"
      ]
    },
    {
      "cell_type": "code",
      "execution_count": null,
      "metadata": {
        "id": "zqotpBsWaIYp",
        "outputId": "01129a94-9374-4915-dc12-96a089670770"
      },
      "outputs": [
        {
          "data": {
            "text/plain": [
              "<Axes: >"
            ]
          },
          "execution_count": 194,
          "metadata": {},
          "output_type": "execute_result"
        },
        {
          "data": {
            "image/png": "[encoded data removed]",
            "text/plain": [
              "<Figure size 800x550 with 2 Axes>"
            ]
          },
          "metadata": {},
          "output_type": "display_data"
        }
      ],
      "source": [
        "sns.heatmap(df.isnull())"
      ]
    },
    {
      "cell_type": "code",
      "execution_count": null,
      "metadata": {
        "id": "MQSDxo9naIYp",
        "outputId": "0a79762a-fccc-4836-8e0b-23eef4a81e3b"
      },
      "outputs": [
        {
          "name": "stdout",
          "output_type": "stream",
          "text": [
            "<class 'pandas.core.frame.DataFrame'>\n",
            "Index: 234406 entries, 0 to 377182\n",
            "Data columns (total 10 columns):\n",
            " #   Column        Non-Null Count   Dtype  \n",
            "---  ------        --------------   -----  \n",
            " 0   status        234406 non-null  object \n",
            " 1   propertyType  234406 non-null  object \n",
            " 2   street        234406 non-null  object \n",
            " 3   homeFacts     234406 non-null  object \n",
            " 4   city          234406 non-null  object \n",
            " 5   schools       234406 non-null  object \n",
            " 6   sqft          234406 non-null  object \n",
            " 7   beds          234406 non-null  object \n",
            " 8   state         234406 non-null  object \n",
            " 9   target        234406 non-null  float64\n",
            "dtypes: float64(1), object(9)\n",
            "memory usage: 19.7+ MB\n"
          ]
        }
      ],
      "source": [
        "df.info()"
      ]
    },
    {
      "cell_type": "code",
      "execution_count": null,
      "metadata": {
        "id": "lkOLuAPRaIYq",
        "outputId": "2495f2c0-1336-44eb-bb15-35197c16f674"
      },
      "outputs": [
        {
          "data": {
            "text/plain": [
              "0    [{'rating': ['4', '4', '7', 'NR', '4', '7', 'N...\n",
              "1    [{'rating': ['4/10', 'None/10', '4/10'], 'data...\n",
              "2    [{'rating': ['8/10', '4/10', '8/10'], 'data': ...\n",
              "3    [{'rating': ['9/10', '9/10', '10/10', '9/10'],...\n",
              "5    [{'rating': [], 'data': {'Distance': [], 'Grad...\n",
              "Name: schools, dtype: object"
            ]
          },
          "execution_count": 196,
          "metadata": {},
          "output_type": "execute_result"
        }
      ],
      "source": [
        "df['schools'].head()"
      ]
    },
    {
      "cell_type": "code",
      "execution_count": null,
      "metadata": {
        "id": "ARretnTQaIYq",
        "outputId": "7bffeaa6-ce60-492d-884b-57dea9d0b281"
      },
      "outputs": [
        {
          "name": "stderr",
          "output_type": "stream",
          "text": [
            "c:\\Users\\VEZem\\AppData\\Local\\Programs\\Python\\Python311\\Lib\\site-packages\\numpy\\lib\\function_base.py:518: RuntimeWarning: Mean of empty slice.\n",
            "  avg = a.mean(axis, **keepdims_kw)\n"
          ]
        }
      ],
      "source": [
        "def process_school_ratings(data):\n",
        "\n",
        "\n",
        "    # Используем регулярные выражения, чтобы найти подстроки rating\n",
        "    s_rating = data['schools'].str.findall(r\"\\brating': ([\\s\\S]+?), 'data\\b\")\n",
        "\n",
        "    # Избавимся от лишней вложенности\n",
        "    s_rating = s_rating.apply(lambda x: x[0])\n",
        "\n",
        "    # Избавимся от лишних символов\n",
        "    s_rating = s_rating.replace('/10', '', regex=True)\n",
        "    s_rating = s_rating.str.replace('[a-zA-Z]', '', regex=True)\n",
        "\n",
        "    # Находим все цифры отдельно\n",
        "    s_rating = s_rating.str.findall(r'\\b([0-9])\\'')\n",
        "\n",
        "    # Преобразовываем в числа\n",
        "    s_rating = s_rating.apply(lambda x: [float(i) for i in x])\n",
        "\n",
        "    # Находим средний рейтинг для каждой школы\n",
        "    s_rating = s_rating.apply(lambda x: np.average([int(i) for i in x]))\n",
        "\n",
        "    # Создаем признак  в нашем наборе данных. Пропуски заполняем 1\n",
        "    data.loc[:, 'school_rating'] = s_rating.fillna(1).round()\n",
        "\n",
        "# Применяем функцию к df\n",
        "process_school_ratings(df)"
      ]
    },
    {
      "cell_type": "code",
      "execution_count": null,
      "metadata": {
        "id": "dnR_Ly9taIYr",
        "outputId": "ed072ea6-7067-4623-981f-b915ae0e5b68"
      },
      "outputs": [
        {
          "data": {
            "text/html": [
              "<div>\n",
              "<style scoped>\n",
              "    .dataframe tbody tr th:only-of-type {\n",
              "        vertical-align: middle;\n",
              "    }\n",
              "\n",
              "    .dataframe tbody tr th {\n",
              "        vertical-align: top;\n",
              "    }\n",
              "\n",
              "    .dataframe thead th {\n",
              "        text-align: right;\n",
              "    }\n",
              "</style>\n",
              "<table border=\"1\" class=\"dataframe\">\n",
              "  <thead>\n",
              "    <tr style=\"text-align: right;\">\n",
              "      <th></th>\n",
              "      <th>status</th>\n",
              "      <th>propertyType</th>\n",
              "      <th>street</th>\n",
              "      <th>homeFacts</th>\n",
              "      <th>city</th>\n",
              "      <th>schools</th>\n",
              "      <th>sqft</th>\n",
              "      <th>beds</th>\n",
              "      <th>state</th>\n",
              "      <th>target</th>\n",
              "      <th>school_rating</th>\n",
              "    </tr>\n",
              "  </thead>\n",
              "  <tbody>\n",
              "    <tr>\n",
              "      <th>0</th>\n",
              "      <td>Active</td>\n",
              "      <td>Single Family Home</td>\n",
              "      <td>240 Heather Ln</td>\n",
              "      <td>{'atAGlanceFacts': [{'factValue': '2019', 'fac...</td>\n",
              "      <td>Southern Pines</td>\n",
              "      <td>[{'rating': ['4', '4', '7', 'NR', '4', '7', 'N...</td>\n",
              "      <td>2900</td>\n",
              "      <td>4</td>\n",
              "      <td>NC</td>\n",
              "      <td>418000.0</td>\n",
              "      <td>5.0</td>\n",
              "    </tr>\n",
              "    <tr>\n",
              "      <th>1</th>\n",
              "      <td>for sale</td>\n",
              "      <td>single-family home</td>\n",
              "      <td>12911 E Heroy Ave</td>\n",
              "      <td>{'atAGlanceFacts': [{'factValue': '2019', 'fac...</td>\n",
              "      <td>Spokane Valley</td>\n",
              "      <td>[{'rating': ['4/10', 'None/10', '4/10'], 'data...</td>\n",
              "      <td>1,947 sqft</td>\n",
              "      <td>3 Beds</td>\n",
              "      <td>WA</td>\n",
              "      <td>310000.0</td>\n",
              "      <td>4.0</td>\n",
              "    </tr>\n",
              "  </tbody>\n",
              "</table>\n",
              "</div>"
            ],
            "text/plain": [
              "     status        propertyType             street   \n",
              "0    Active  Single Family Home     240 Heather Ln  \\\n",
              "1  for sale  single-family home  12911 E Heroy Ave   \n",
              "\n",
              "                                           homeFacts            city   \n",
              "0  {'atAGlanceFacts': [{'factValue': '2019', 'fac...  Southern Pines  \\\n",
              "1  {'atAGlanceFacts': [{'factValue': '2019', 'fac...  Spokane Valley   \n",
              "\n",
              "                                             schools        sqft    beds   \n",
              "0  [{'rating': ['4', '4', '7', 'NR', '4', '7', 'N...        2900       4  \\\n",
              "1  [{'rating': ['4/10', 'None/10', '4/10'], 'data...  1,947 sqft  3 Beds   \n",
              "\n",
              "  state    target  school_rating  \n",
              "0    NC  418000.0            5.0  \n",
              "1    WA  310000.0            4.0  "
            ]
          },
          "execution_count": 198,
          "metadata": {},
          "output_type": "execute_result"
        }
      ],
      "source": [
        "df.head(2)"
      ]
    },
    {
      "cell_type": "code",
      "execution_count": null,
      "metadata": {
        "id": "NH8iMcVnaIY0",
        "outputId": "ccb820bf-c874-4930-ca7d-646fb701f45f"
      },
      "outputs": [
        {
          "data": {
            "image/png": "[encoded data removed]",
            "text/plain": [
              "<Figure size 800x550 with 1 Axes>"
            ]
          },
          "metadata": {},
          "output_type": "display_data"
        }
      ],
      "source": [
        "df['school_rating'].plot(kind='box', title='Распределение рейтинга школ')\n",
        "plt.show()"
      ]
    },
    {
      "cell_type": "code",
      "execution_count": null,
      "metadata": {
        "id": "jdXfYXhtaIY1",
        "outputId": "19ea2fc8-6397-4670-ef03-f90c872cdca0"
      },
      "outputs": [
        {
          "data": {
            "text/plain": [
              "<Axes: xlabel='school_rating', ylabel='target'>"
            ]
          },
          "execution_count": 200,
          "metadata": {},
          "output_type": "execute_result"
        },
        {
          "data": {
            "image/png": "[encoded data removed]",
            "text/plain": [
              "<Figure size 800x550 with 1 Axes>"
            ]
          },
          "metadata": {},
          "output_type": "display_data"
        }
      ],
      "source": [
        "df.plot.scatter (x = 'school_rating', y ='target' )"
      ]
    },
    {
      "cell_type": "code",
      "execution_count": null,
      "metadata": {
        "id": "cTHGd8y3aIY2"
      },
      "outputs": [],
      "source": [
        "def process_homeFacts(facts, fact_labels):\n",
        "    facts = eval(facts)\n",
        "    homeFacts = {}\n",
        "    for item in facts['atAGlanceFacts']:\n",
        "        fact_labels.add(item['factLabel'])\n",
        "        homeFacts[item['factLabel']] = item['factValue']\n",
        "\n",
        "    return homeFacts\n",
        "def process_homeFacts_new(facts, fact_label):\n",
        "    if fact_label in facts:\n",
        "        return facts[fact_label]\n",
        "\n",
        "    return None"
      ]
    },
    {
      "cell_type": "code",
      "execution_count": null,
      "metadata": {
        "id": "TI3I2OkraIY3"
      },
      "outputs": [],
      "source": [
        "fact_labels = set()\n",
        "    # Распарсим колонку homeFacts и запишим значения в новую колонку homeFacts_new в виде словаря {factLabel_1: factValue_1, factLabel_2: factValue_2, ...}\n",
        "df['homeFacts_new'] = df['homeFacts'].apply(lambda x: process_homeFacts(x, fact_labels))\n",
        "\n",
        "    # Создаем в датасете новые колонки, имена которых содержатся во множестве fact_labels\n",
        "for item in fact_labels:\n",
        "    df[item] = df['homeFacts_new'].apply(lambda x: process_homeFacts_new(x, item))\n",
        "    # Удаляем колонки homeFacts и homeFacts_new\n",
        "df.drop(['homeFacts', 'homeFacts_new'], axis=1, inplace=True)"
      ]
    },
    {
      "cell_type": "code",
      "execution_count": null,
      "metadata": {
        "id": "Z-ZjqVjOaIY3",
        "outputId": "f7798158-8b9e-478d-ff06-f7ff1e8db2e9"
      },
      "outputs": [
        {
          "data": {
            "text/html": [
              "<div>\n",
              "<style scoped>\n",
              "    .dataframe tbody tr th:only-of-type {\n",
              "        vertical-align: middle;\n",
              "    }\n",
              "\n",
              "    .dataframe tbody tr th {\n",
              "        vertical-align: top;\n",
              "    }\n",
              "\n",
              "    .dataframe thead th {\n",
              "        text-align: right;\n",
              "    }\n",
              "</style>\n",
              "<table border=\"1\" class=\"dataframe\">\n",
              "  <thead>\n",
              "    <tr style=\"text-align: right;\">\n",
              "      <th></th>\n",
              "      <th>status</th>\n",
              "      <th>propertyType</th>\n",
              "      <th>street</th>\n",
              "      <th>city</th>\n",
              "      <th>schools</th>\n",
              "      <th>sqft</th>\n",
              "      <th>beds</th>\n",
              "      <th>state</th>\n",
              "      <th>target</th>\n",
              "      <th>school_rating</th>\n",
              "      <th>Price/sqft</th>\n",
              "      <th>Remodeled year</th>\n",
              "      <th>Parking</th>\n",
              "      <th>lotsize</th>\n",
              "      <th>Year built</th>\n",
              "      <th>Heating</th>\n",
              "      <th>Cooling</th>\n",
              "    </tr>\n",
              "  </thead>\n",
              "  <tbody>\n",
              "    <tr>\n",
              "      <th>0</th>\n",
              "      <td>Active</td>\n",
              "      <td>Single Family Home</td>\n",
              "      <td>240 Heather Ln</td>\n",
              "      <td>Southern Pines</td>\n",
              "      <td>[{'rating': ['4', '4', '7', 'NR', '4', '7', 'N...</td>\n",
              "      <td>2900</td>\n",
              "      <td>4</td>\n",
              "      <td>NC</td>\n",
              "      <td>418000.0</td>\n",
              "      <td>5.0</td>\n",
              "      <td>$144</td>\n",
              "      <td></td>\n",
              "      <td></td>\n",
              "      <td>None</td>\n",
              "      <td>2019</td>\n",
              "      <td>Central A/C, Heat Pump</td>\n",
              "      <td></td>\n",
              "    </tr>\n",
              "    <tr>\n",
              "      <th>1</th>\n",
              "      <td>for sale</td>\n",
              "      <td>single-family home</td>\n",
              "      <td>12911 E Heroy Ave</td>\n",
              "      <td>Spokane Valley</td>\n",
              "      <td>[{'rating': ['4/10', 'None/10', '4/10'], 'data...</td>\n",
              "      <td>1,947 sqft</td>\n",
              "      <td>3 Beds</td>\n",
              "      <td>WA</td>\n",
              "      <td>310000.0</td>\n",
              "      <td>4.0</td>\n",
              "      <td>$159/sqft</td>\n",
              "      <td></td>\n",
              "      <td></td>\n",
              "      <td>5828 sqft</td>\n",
              "      <td>2019</td>\n",
              "      <td></td>\n",
              "      <td></td>\n",
              "    </tr>\n",
              "    <tr>\n",
              "      <th>2</th>\n",
              "      <td>for sale</td>\n",
              "      <td>single-family home</td>\n",
              "      <td>2005 Westridge Rd</td>\n",
              "      <td>Los Angeles</td>\n",
              "      <td>[{'rating': ['8/10', '4/10', '8/10'], 'data': ...</td>\n",
              "      <td>3,000 sqft</td>\n",
              "      <td>3 Beds</td>\n",
              "      <td>CA</td>\n",
              "      <td>2895000.0</td>\n",
              "      <td>7.0</td>\n",
              "      <td>$965/sqft</td>\n",
              "      <td>1967</td>\n",
              "      <td>Attached Garage</td>\n",
              "      <td>8,626 sqft</td>\n",
              "      <td>1961</td>\n",
              "      <td>Forced Air</td>\n",
              "      <td>Central</td>\n",
              "    </tr>\n",
              "  </tbody>\n",
              "</table>\n",
              "</div>"
            ],
            "text/plain": [
              "     status        propertyType             street            city   \n",
              "0    Active  Single Family Home     240 Heather Ln  Southern Pines  \\\n",
              "1  for sale  single-family home  12911 E Heroy Ave  Spokane Valley   \n",
              "2  for sale  single-family home  2005 Westridge Rd     Los Angeles   \n",
              "\n",
              "                                             schools        sqft    beds   \n",
              "0  [{'rating': ['4', '4', '7', 'NR', '4', '7', 'N...        2900       4  \\\n",
              "1  [{'rating': ['4/10', 'None/10', '4/10'], 'data...  1,947 sqft  3 Beds   \n",
              "2  [{'rating': ['8/10', '4/10', '8/10'], 'data': ...  3,000 sqft  3 Beds   \n",
              "\n",
              "  state     target  school_rating Price/sqft Remodeled year          Parking   \n",
              "0    NC   418000.0            5.0       $144                                  \\\n",
              "1    WA   310000.0            4.0  $159/sqft                                   \n",
              "2    CA  2895000.0            7.0  $965/sqft           1967  Attached Garage   \n",
              "\n",
              "      lotsize Year built                 Heating  Cooling  \n",
              "0        None       2019  Central A/C, Heat Pump           \n",
              "1   5828 sqft       2019                                   \n",
              "2  8,626 sqft       1961              Forced Air  Central  "
            ]
          },
          "execution_count": 203,
          "metadata": {},
          "output_type": "execute_result"
        }
      ],
      "source": [
        "df.head(3)"
      ]
    },
    {
      "cell_type": "code",
      "execution_count": null,
      "metadata": {
        "id": "U6ecPqI1aIY4"
      },
      "outputs": [],
      "source": [
        "\n",
        "df['propertyType'] = df['propertyType'].str.lower()\n",
        "df['propertyType'] = df['propertyType'].apply(lambda x: x+' other')\n",
        "\n",
        "lst_propertyType = ['single', 'condo', ['land', 'lot'], ['townhouse','townhome'], 'multi', 'traditional',\n",
        "    ['coop', 'co-op'], ['ranch', 'farm'], 'high rise', ['low-rise', 'low'], 'detached', 'mobile', ['contemporary','modern'],\n",
        "    ['1 story', '1', 'one story'], ['2 story', '2', '2 stories', 'two stories', 'two story', 'stories'], ['3 stor', '3'], ['colonial', 'transitional', 'historical'],\n",
        "    ['garden', 'cluster home'],\n",
        "    ['craft', 'cottage', 'tri-level', 'bungalow', 'cape', 'spanish', 'mediterranean', 'victorian', 'florida', 'french', 'georgian', 'loft', 'art', 'tudor'],\n",
        "    ['other', 'custom', 'manufactured']]\n",
        "\n",
        "mask_nan = df['propertyType'].isna()\n",
        "\n",
        "for item in lst_propertyType:\n",
        "    if type(item)==list:\n",
        "        for ind, prprt in enumerate(item):\n",
        "            df['propertyType'].where(~(df[~mask_nan].propertyType.str.contains(prprt) ), other=item[0], inplace=True)\n",
        "    else:\n",
        "            df['propertyType'].where(~(df[~mask_nan].propertyType.str.contains(item) ), other=item, inplace=True)"
      ]
    },
    {
      "cell_type": "code",
      "execution_count": null,
      "metadata": {
        "id": "W5pvrPTRaIY4"
      },
      "outputs": [],
      "source": [
        "df = df.drop(columns = ['schools'], axis = 1)"
      ]
    },
    {
      "cell_type": "code",
      "execution_count": null,
      "metadata": {
        "id": "592TEaNUaIY4",
        "outputId": "69db0984-e2c6-421e-9514-ecfa00e1b3eb"
      },
      "outputs": [
        {
          "name": "stdout",
          "output_type": "stream",
          "text": [
            "<class 'pandas.core.frame.DataFrame'>\n",
            "Index: 234406 entries, 0 to 377182\n",
            "Data columns (total 16 columns):\n",
            " #   Column          Non-Null Count   Dtype  \n",
            "---  ------          --------------   -----  \n",
            " 0   status          234406 non-null  object \n",
            " 1   propertyType    234406 non-null  object \n",
            " 2   street          234406 non-null  object \n",
            " 3   city            234406 non-null  object \n",
            " 4   sqft            234406 non-null  object \n",
            " 5   beds            234406 non-null  object \n",
            " 6   state           234406 non-null  object \n",
            " 7   target          234406 non-null  float64\n",
            " 8   school_rating   234406 non-null  float64\n",
            " 9   Price/sqft      231623 non-null  object \n",
            " 10  Remodeled year  223956 non-null  object \n",
            " 11  Parking         234406 non-null  object \n",
            " 12  lotsize         219919 non-null  object \n",
            " 13  Year built      234403 non-null  object \n",
            " 14  Heating         234406 non-null  object \n",
            " 15  Cooling         234406 non-null  object \n",
            "dtypes: float64(2), object(14)\n",
            "memory usage: 30.4+ MB\n"
          ]
        }
      ],
      "source": [
        "df.info()"
      ]
    },
    {
      "cell_type": "code",
      "execution_count": null,
      "metadata": {
        "id": "cLNFTphjaIY5",
        "outputId": "a3eef82c-d06d-4dd7-9c84-c57b37352fb3"
      },
      "outputs": [
        {
          "data": {
            "text/html": [
              "<div>\n",
              "<style scoped>\n",
              "    .dataframe tbody tr th:only-of-type {\n",
              "        vertical-align: middle;\n",
              "    }\n",
              "\n",
              "    .dataframe tbody tr th {\n",
              "        vertical-align: top;\n",
              "    }\n",
              "\n",
              "    .dataframe thead th {\n",
              "        text-align: right;\n",
              "    }\n",
              "</style>\n",
              "<table border=\"1\" class=\"dataframe\">\n",
              "  <thead>\n",
              "    <tr style=\"text-align: right;\">\n",
              "      <th></th>\n",
              "      <th>status</th>\n",
              "      <th>propertyType</th>\n",
              "      <th>street</th>\n",
              "      <th>city</th>\n",
              "      <th>sqft</th>\n",
              "      <th>beds</th>\n",
              "      <th>state</th>\n",
              "      <th>target</th>\n",
              "      <th>school_rating</th>\n",
              "      <th>Price/sqft</th>\n",
              "      <th>Remodeled year</th>\n",
              "      <th>Parking</th>\n",
              "      <th>lotsize</th>\n",
              "      <th>Year built</th>\n",
              "      <th>Heating</th>\n",
              "      <th>Cooling</th>\n",
              "    </tr>\n",
              "  </thead>\n",
              "  <tbody>\n",
              "    <tr>\n",
              "      <th>0</th>\n",
              "      <td>Active</td>\n",
              "      <td>single</td>\n",
              "      <td>240 Heather Ln</td>\n",
              "      <td>Southern Pines</td>\n",
              "      <td>2900</td>\n",
              "      <td>4</td>\n",
              "      <td>NC</td>\n",
              "      <td>418000.0</td>\n",
              "      <td>5.0</td>\n",
              "      <td>$144</td>\n",
              "      <td></td>\n",
              "      <td></td>\n",
              "      <td>None</td>\n",
              "      <td>2019</td>\n",
              "      <td>Central A/C, Heat Pump</td>\n",
              "      <td></td>\n",
              "    </tr>\n",
              "    <tr>\n",
              "      <th>1</th>\n",
              "      <td>for sale</td>\n",
              "      <td>single</td>\n",
              "      <td>12911 E Heroy Ave</td>\n",
              "      <td>Spokane Valley</td>\n",
              "      <td>1,947 sqft</td>\n",
              "      <td>3 Beds</td>\n",
              "      <td>WA</td>\n",
              "      <td>310000.0</td>\n",
              "      <td>4.0</td>\n",
              "      <td>$159/sqft</td>\n",
              "      <td></td>\n",
              "      <td></td>\n",
              "      <td>5828 sqft</td>\n",
              "      <td>2019</td>\n",
              "      <td></td>\n",
              "      <td></td>\n",
              "    </tr>\n",
              "    <tr>\n",
              "      <th>2</th>\n",
              "      <td>for sale</td>\n",
              "      <td>single</td>\n",
              "      <td>2005 Westridge Rd</td>\n",
              "      <td>Los Angeles</td>\n",
              "      <td>3,000 sqft</td>\n",
              "      <td>3 Beds</td>\n",
              "      <td>CA</td>\n",
              "      <td>2895000.0</td>\n",
              "      <td>7.0</td>\n",
              "      <td>$965/sqft</td>\n",
              "      <td>1967</td>\n",
              "      <td>Attached Garage</td>\n",
              "      <td>8,626 sqft</td>\n",
              "      <td>1961</td>\n",
              "      <td>Forced Air</td>\n",
              "      <td>Central</td>\n",
              "    </tr>\n",
              "  </tbody>\n",
              "</table>\n",
              "</div>"
            ],
            "text/plain": [
              "     status propertyType             street            city        sqft   \n",
              "0    Active       single     240 Heather Ln  Southern Pines        2900  \\\n",
              "1  for sale       single  12911 E Heroy Ave  Spokane Valley  1,947 sqft   \n",
              "2  for sale       single  2005 Westridge Rd     Los Angeles  3,000 sqft   \n",
              "\n",
              "     beds state     target  school_rating Price/sqft Remodeled year   \n",
              "0       4    NC   418000.0            5.0       $144                 \\\n",
              "1  3 Beds    WA   310000.0            4.0  $159/sqft                  \n",
              "2  3 Beds    CA  2895000.0            7.0  $965/sqft           1967   \n",
              "\n",
              "           Parking     lotsize Year built                 Heating  Cooling  \n",
              "0                         None       2019  Central A/C, Heat Pump           \n",
              "1                    5828 sqft       2019                                   \n",
              "2  Attached Garage  8,626 sqft       1961              Forced Air  Central  "
            ]
          },
          "execution_count": 207,
          "metadata": {},
          "output_type": "execute_result"
        }
      ],
      "source": [
        "df.head(3)"
      ]
    },
    {
      "cell_type": "code",
      "execution_count": null,
      "metadata": {
        "id": "_XQhA9pCaIY5"
      },
      "outputs": [],
      "source": [
        "df = df.dropna()"
      ]
    },
    {
      "cell_type": "code",
      "execution_count": null,
      "metadata": {
        "id": "S9j3QJYUaIY6",
        "outputId": "2f7619ec-df71-44d8-9911-0450deaff8e3"
      },
      "outputs": [
        {
          "name": "stdout",
          "output_type": "stream",
          "text": [
            "<class 'pandas.core.frame.DataFrame'>\n",
            "Index: 210581 entries, 1 to 377182\n",
            "Data columns (total 16 columns):\n",
            " #   Column          Non-Null Count   Dtype  \n",
            "---  ------          --------------   -----  \n",
            " 0   status          210581 non-null  object \n",
            " 1   propertyType    210581 non-null  object \n",
            " 2   street          210581 non-null  object \n",
            " 3   city            210581 non-null  object \n",
            " 4   sqft            210581 non-null  object \n",
            " 5   beds            210581 non-null  object \n",
            " 6   state           210581 non-null  object \n",
            " 7   target          210581 non-null  float64\n",
            " 8   school_rating   210581 non-null  float64\n",
            " 9   Price/sqft      210581 non-null  object \n",
            " 10  Remodeled year  210581 non-null  object \n",
            " 11  Parking         210581 non-null  object \n",
            " 12  lotsize         210581 non-null  object \n",
            " 13  Year built      210581 non-null  object \n",
            " 14  Heating         210581 non-null  object \n",
            " 15  Cooling         210581 non-null  object \n",
            "dtypes: float64(2), object(14)\n",
            "memory usage: 27.3+ MB\n"
          ]
        }
      ],
      "source": [
        "df.info()"
      ]
    },
    {
      "cell_type": "code",
      "execution_count": null,
      "metadata": {
        "id": "htF8xdkZaIY6"
      },
      "outputs": [],
      "source": [
        "def drop_if_not_4(word):\n",
        "    if word in City_kist:\n",
        "        return word\n",
        "    else:\n",
        "        return 'other'"
      ]
    },
    {
      "cell_type": "code",
      "execution_count": null,
      "metadata": {
        "id": "75kQ7hlbaIY6"
      },
      "outputs": [],
      "source": [
        "City_kist = list(df['city'].value_counts().head().index)"
      ]
    },
    {
      "cell_type": "code",
      "execution_count": null,
      "metadata": {
        "id": "UVtEKyw8aIY7",
        "outputId": "bd4c8509-b1ec-4401-deb4-c1e7c1cfc718"
      },
      "outputs": [
        {
          "data": {
            "text/plain": [
              "1               other\n",
              "2               other\n",
              "3              Dallas\n",
              "5               other\n",
              "8               other\n",
              "             ...     \n",
              "377173          other\n",
              "377174    San Antonio\n",
              "377175        Houston\n",
              "377181          other\n",
              "377182          other\n",
              "Name: city, Length: 210581, dtype: object"
            ]
          },
          "execution_count": 212,
          "metadata": {},
          "output_type": "execute_result"
        }
      ],
      "source": [
        "df['city'] = df['city'].apply (drop_if_not_4)\n",
        "df['city']"
      ]
    },
    {
      "cell_type": "code",
      "execution_count": null,
      "metadata": {
        "id": "0A3HE6cNaIY8",
        "outputId": "1df07cd7-72aa-42c7-b8e3-d5c7c251bda7"
      },
      "outputs": [
        {
          "data": {
            "text/html": [
              "<div>\n",
              "<style scoped>\n",
              "    .dataframe tbody tr th:only-of-type {\n",
              "        vertical-align: middle;\n",
              "    }\n",
              "\n",
              "    .dataframe tbody tr th {\n",
              "        vertical-align: top;\n",
              "    }\n",
              "\n",
              "    .dataframe thead th {\n",
              "        text-align: right;\n",
              "    }\n",
              "</style>\n",
              "<table border=\"1\" class=\"dataframe\">\n",
              "  <thead>\n",
              "    <tr style=\"text-align: right;\">\n",
              "      <th></th>\n",
              "      <th>status</th>\n",
              "      <th>propertyType</th>\n",
              "      <th>street</th>\n",
              "      <th>city</th>\n",
              "      <th>sqft</th>\n",
              "      <th>beds</th>\n",
              "      <th>state</th>\n",
              "      <th>target</th>\n",
              "      <th>school_rating</th>\n",
              "      <th>Price/sqft</th>\n",
              "      <th>Remodeled year</th>\n",
              "      <th>Parking</th>\n",
              "      <th>lotsize</th>\n",
              "      <th>Year built</th>\n",
              "      <th>Heating</th>\n",
              "      <th>Cooling</th>\n",
              "    </tr>\n",
              "  </thead>\n",
              "  <tbody>\n",
              "    <tr>\n",
              "      <th>1</th>\n",
              "      <td>for sale</td>\n",
              "      <td>single</td>\n",
              "      <td>12911 E Heroy Ave</td>\n",
              "      <td>other</td>\n",
              "      <td>1,947 sqft</td>\n",
              "      <td>3 Beds</td>\n",
              "      <td>WA</td>\n",
              "      <td>310000.0</td>\n",
              "      <td>4.0</td>\n",
              "      <td>$159/sqft</td>\n",
              "      <td></td>\n",
              "      <td></td>\n",
              "      <td>5828 sqft</td>\n",
              "      <td>2019</td>\n",
              "      <td></td>\n",
              "      <td></td>\n",
              "    </tr>\n",
              "    <tr>\n",
              "      <th>2</th>\n",
              "      <td>for sale</td>\n",
              "      <td>single</td>\n",
              "      <td>2005 Westridge Rd</td>\n",
              "      <td>other</td>\n",
              "      <td>3,000 sqft</td>\n",
              "      <td>3 Beds</td>\n",
              "      <td>CA</td>\n",
              "      <td>2895000.0</td>\n",
              "      <td>7.0</td>\n",
              "      <td>$965/sqft</td>\n",
              "      <td>1967</td>\n",
              "      <td>Attached Garage</td>\n",
              "      <td>8,626 sqft</td>\n",
              "      <td>1961</td>\n",
              "      <td>Forced Air</td>\n",
              "      <td>Central</td>\n",
              "    </tr>\n",
              "    <tr>\n",
              "      <th>3</th>\n",
              "      <td>for sale</td>\n",
              "      <td>single</td>\n",
              "      <td>4311 Livingston Ave</td>\n",
              "      <td>Dallas</td>\n",
              "      <td>6,457 sqft</td>\n",
              "      <td>5 Beds</td>\n",
              "      <td>TX</td>\n",
              "      <td>2395000.0</td>\n",
              "      <td>9.0</td>\n",
              "      <td>$371/sqft</td>\n",
              "      <td>2006</td>\n",
              "      <td>Detached Garage</td>\n",
              "      <td>8,220 sqft</td>\n",
              "      <td>2006</td>\n",
              "      <td>Forced Air</td>\n",
              "      <td>Central</td>\n",
              "    </tr>\n",
              "  </tbody>\n",
              "</table>\n",
              "</div>"
            ],
            "text/plain": [
              "     status propertyType               street    city        sqft    beds   \n",
              "1  for sale       single    12911 E Heroy Ave   other  1,947 sqft  3 Beds  \\\n",
              "2  for sale       single    2005 Westridge Rd   other  3,000 sqft  3 Beds   \n",
              "3  for sale       single  4311 Livingston Ave  Dallas  6,457 sqft  5 Beds   \n",
              "\n",
              "  state     target  school_rating Price/sqft Remodeled year          Parking   \n",
              "1    WA   310000.0            4.0  $159/sqft                                  \\\n",
              "2    CA  2895000.0            7.0  $965/sqft           1967  Attached Garage   \n",
              "3    TX  2395000.0            9.0  $371/sqft           2006  Detached Garage   \n",
              "\n",
              "      lotsize Year built     Heating  Cooling  \n",
              "1   5828 sqft       2019                       \n",
              "2  8,626 sqft       1961  Forced Air  Central  \n",
              "3  8,220 sqft       2006  Forced Air  Central  "
            ]
          },
          "execution_count": 213,
          "metadata": {},
          "output_type": "execute_result"
        }
      ],
      "source": [
        "df.head(3)"
      ]
    },
    {
      "cell_type": "code",
      "execution_count": null,
      "metadata": {
        "id": "_htXf1L7aIY8",
        "outputId": "f2b7f2ae-0051-434f-8c02-2b62e561f8ed"
      },
      "outputs": [
        {
          "name": "stdout",
          "output_type": "stream",
          "text": [
            "<class 'pandas.core.frame.DataFrame'>\n",
            "Index: 210581 entries, 1 to 377182\n",
            "Data columns (total 16 columns):\n",
            " #   Column          Non-Null Count   Dtype  \n",
            "---  ------          --------------   -----  \n",
            " 0   status          210581 non-null  object \n",
            " 1   propertyType    210581 non-null  object \n",
            " 2   street          210581 non-null  object \n",
            " 3   city            210581 non-null  object \n",
            " 4   sqft            210581 non-null  object \n",
            " 5   beds            210581 non-null  object \n",
            " 6   state           210581 non-null  object \n",
            " 7   target          210581 non-null  float64\n",
            " 8   school_rating   210581 non-null  float64\n",
            " 9   Price/sqft      210581 non-null  object \n",
            " 10  Remodeled year  210581 non-null  object \n",
            " 11  Parking         210581 non-null  object \n",
            " 12  lotsize         210581 non-null  object \n",
            " 13  Year built      210581 non-null  object \n",
            " 14  Heating         210581 non-null  object \n",
            " 15  Cooling         210581 non-null  object \n",
            "dtypes: float64(2), object(14)\n",
            "memory usage: 27.3+ MB\n"
          ]
        }
      ],
      "source": [
        "df.info()"
      ]
    },
    {
      "cell_type": "code",
      "execution_count": null,
      "metadata": {
        "id": "MzELpofWaIY8"
      },
      "outputs": [],
      "source": [
        "import category_encoders as ce # импортируем библиотеку для работы с кодировщиками\n",
        "\n",
        "ord_encoder = ce.OrdinalEncoder()\n",
        "data_bin_3 = ord_encoder.fit_transform(df[['state']])"
      ]
    },
    {
      "cell_type": "code",
      "execution_count": null,
      "metadata": {
        "id": "xgxRTvVBaIY9",
        "outputId": "8408eb34-ed03-4fb4-e0e3-f11df810cb2a"
      },
      "outputs": [
        {
          "data": {
            "text/html": [
              "<div>\n",
              "<style scoped>\n",
              "    .dataframe tbody tr th:only-of-type {\n",
              "        vertical-align: middle;\n",
              "    }\n",
              "\n",
              "    .dataframe tbody tr th {\n",
              "        vertical-align: top;\n",
              "    }\n",
              "\n",
              "    .dataframe thead th {\n",
              "        text-align: right;\n",
              "    }\n",
              "</style>\n",
              "<table border=\"1\" class=\"dataframe\">\n",
              "  <thead>\n",
              "    <tr style=\"text-align: right;\">\n",
              "      <th></th>\n",
              "      <th>state</th>\n",
              "    </tr>\n",
              "  </thead>\n",
              "  <tbody>\n",
              "    <tr>\n",
              "      <th>1</th>\n",
              "      <td>WA</td>\n",
              "    </tr>\n",
              "    <tr>\n",
              "      <th>2</th>\n",
              "      <td>CA</td>\n",
              "    </tr>\n",
              "    <tr>\n",
              "      <th>3</th>\n",
              "      <td>TX</td>\n",
              "    </tr>\n",
              "    <tr>\n",
              "      <th>5</th>\n",
              "      <td>PA</td>\n",
              "    </tr>\n",
              "    <tr>\n",
              "      <th>8</th>\n",
              "      <td>IA</td>\n",
              "    </tr>\n",
              "    <tr>\n",
              "      <th>...</th>\n",
              "      <td>...</td>\n",
              "    </tr>\n",
              "    <tr>\n",
              "      <th>377173</th>\n",
              "      <td>OH</td>\n",
              "    </tr>\n",
              "    <tr>\n",
              "      <th>377174</th>\n",
              "      <td>TX</td>\n",
              "    </tr>\n",
              "    <tr>\n",
              "      <th>377175</th>\n",
              "      <td>TX</td>\n",
              "    </tr>\n",
              "    <tr>\n",
              "      <th>377181</th>\n",
              "      <td>IL</td>\n",
              "    </tr>\n",
              "    <tr>\n",
              "      <th>377182</th>\n",
              "      <td>NY</td>\n",
              "    </tr>\n",
              "  </tbody>\n",
              "</table>\n",
              "<p>210581 rows × 1 columns</p>\n",
              "</div>"
            ],
            "text/plain": [
              "       state\n",
              "1         WA\n",
              "2         CA\n",
              "3         TX\n",
              "5         PA\n",
              "8         IA\n",
              "...      ...\n",
              "377173    OH\n",
              "377174    TX\n",
              "377175    TX\n",
              "377181    IL\n",
              "377182    NY\n",
              "\n",
              "[210581 rows x 1 columns]"
            ]
          },
          "execution_count": 216,
          "metadata": {},
          "output_type": "execute_result"
        }
      ],
      "source": [
        "df[['state']]"
      ]
    },
    {
      "cell_type": "code",
      "execution_count": null,
      "metadata": {
        "id": "mkSgJUcaaIY-",
        "outputId": "160b13f2-97e3-411a-d070-9e43878fe675"
      },
      "outputs": [
        {
          "data": {
            "text/plain": [
              "state\n",
              "7        51432\n",
              "3        45461\n",
              "2        17189\n",
              "10       13315\n",
              "6        12170\n",
              "17       10798\n",
              "1         8708\n",
              "16        8035\n",
              "11        7005\n",
              "13        5583\n",
              "12        5003\n",
              "23        4001\n",
              "20        3942\n",
              "4         3513\n",
              "19        2691\n",
              "9         2517\n",
              "8         2304\n",
              "22        2198\n",
              "18        1006\n",
              "15         868\n",
              "24         682\n",
              "27         589\n",
              "25         513\n",
              "21         400\n",
              "28         209\n",
              "5          191\n",
              "26          75\n",
              "14          73\n",
              "29          57\n",
              "31          30\n",
              "32          12\n",
              "34           5\n",
              "30           3\n",
              "33           3\n",
              "Name: count, dtype: int64"
            ]
          },
          "execution_count": 217,
          "metadata": {},
          "output_type": "execute_result"
        }
      ],
      "source": [
        "data_bin_3.value_counts()"
      ]
    },
    {
      "cell_type": "code",
      "execution_count": null,
      "metadata": {
        "id": "5l__XX3MaIY-",
        "outputId": "c65f2c93-d039-466c-c7bd-580eb16ad15e"
      },
      "outputs": [
        {
          "data": {
            "text/plain": [
              "1          1\n",
              "2          2\n",
              "3          3\n",
              "5          4\n",
              "8          5\n",
              "          ..\n",
              "377173    16\n",
              "377174     3\n",
              "377175     3\n",
              "377181    13\n",
              "377182     6\n",
              "Name: state, Length: 210581, dtype: int32"
            ]
          },
          "execution_count": 218,
          "metadata": {},
          "output_type": "execute_result"
        }
      ],
      "source": [
        "df['state'] = data_bin_3\n",
        "df['state']"
      ]
    },
    {
      "cell_type": "code",
      "execution_count": null,
      "metadata": {
        "id": "y4HEw1haaIY_",
        "outputId": "c46f106c-ba0c-4029-f692-cf7aab878f61"
      },
      "outputs": [
        {
          "data": {
            "text/plain": [
              "street\n",
              "Address Not Disclosed                 430\n",
              "(undisclosed Address)                 103\n",
              "Address Not Available                  81\n",
              "Undisclosed Address                    34\n",
              "REGIONAL EXPRESS Plan in Evers Way      9\n",
              "                                     ... \n",
              "3230 Potters House Way                  1\n",
              "115 Timberland Loop                     1\n",
              "8109 Dancing Fox St                     1\n",
              "6031 Connecticut Ct                     1\n",
              "15509 Linden Blvd                       1\n",
              "Name: count, Length: 192494, dtype: int64"
            ]
          },
          "execution_count": 219,
          "metadata": {},
          "output_type": "execute_result"
        }
      ],
      "source": [
        "df['street'].value_counts()"
      ]
    },
    {
      "cell_type": "code",
      "execution_count": null,
      "metadata": {
        "id": "7ZT3vjfTaIY_"
      },
      "outputs": [],
      "source": [
        "df = df.drop(columns = ['street'], axis = 1)"
      ]
    },
    {
      "cell_type": "code",
      "execution_count": null,
      "metadata": {
        "id": "79LkoEKVaIY_",
        "outputId": "c7c9cd65-da81-4d2c-9711-3e46b0d5fbac"
      },
      "outputs": [
        {
          "data": {
            "text/plain": [
              "city\n",
              "other          177896\n",
              "Houston         10793\n",
              "San Antonio      7155\n",
              "Las Vegas        5170\n",
              "Miami            4905\n",
              "Dallas           4662\n",
              "Name: count, dtype: int64"
            ]
          },
          "execution_count": 221,
          "metadata": {},
          "output_type": "execute_result"
        }
      ],
      "source": [
        "df['city'].value_counts()"
      ]
    },
    {
      "cell_type": "code",
      "execution_count": null,
      "metadata": {
        "id": "r8Od4jSmaIZA"
      },
      "outputs": [],
      "source": [
        "df = df.drop(columns = ['city'], axis = 1)"
      ]
    },
    {
      "cell_type": "code",
      "execution_count": null,
      "metadata": {
        "id": "B4fQJvMpaIZA"
      },
      "outputs": [],
      "source": [
        "# Cooling\n",
        "df['Cooling'] = df['Cooling'].fillna('0')\n",
        "df['Cooling'] = df['Cooling'].apply(lambda x: 0 if x.lower() in ['','no data', 'none'] else 1)\n",
        "# Heating\n",
        "df['Heating'] = df['Heating'].fillna('0')\n",
        "df['Heating'] = df['Heating'].apply(lambda x: 0 if x.lower() in ['','no data', 'none'] else 1)\n",
        "# Parking\n",
        "df['Parking'] = df['Parking'].fillna('0')\n",
        "df['Parking'] = df['Parking'].apply(lambda x: 0 if x.lower() in ['','no data', 'none'] else 1)"
      ]
    },
    {
      "cell_type": "code",
      "execution_count": null,
      "metadata": {
        "id": "0RsJG12yaIZB",
        "outputId": "a24af75e-e1ea-4d90-d59f-d3190a1f6aa5"
      },
      "outputs": [
        {
          "name": "stdout",
          "output_type": "stream",
          "text": [
            "<class 'pandas.core.frame.DataFrame'>\n",
            "Index: 210581 entries, 1 to 377182\n",
            "Data columns (total 14 columns):\n",
            " #   Column          Non-Null Count   Dtype  \n",
            "---  ------          --------------   -----  \n",
            " 0   status          210581 non-null  object \n",
            " 1   propertyType    210581 non-null  object \n",
            " 2   sqft            210581 non-null  object \n",
            " 3   beds            210581 non-null  object \n",
            " 4   state           210581 non-null  int32  \n",
            " 5   target          210581 non-null  float64\n",
            " 6   school_rating   210581 non-null  float64\n",
            " 7   Price/sqft      210581 non-null  object \n",
            " 8   Remodeled year  210581 non-null  object \n",
            " 9   Parking         210581 non-null  int64  \n",
            " 10  lotsize         210581 non-null  object \n",
            " 11  Year built      210581 non-null  object \n",
            " 12  Heating         210581 non-null  int64  \n",
            " 13  Cooling         210581 non-null  int64  \n",
            "dtypes: float64(2), int32(1), int64(3), object(8)\n",
            "memory usage: 23.3+ MB\n"
          ]
        }
      ],
      "source": [
        "df.info()"
      ]
    },
    {
      "cell_type": "code",
      "execution_count": null,
      "metadata": {
        "id": "vdwtuBFKaIZB",
        "outputId": "a4d5c0b9-6fe4-42ee-d36d-2d95d9107c7e"
      },
      "outputs": [
        {
          "data": {
            "text/html": [
              "<div>\n",
              "<style scoped>\n",
              "    .dataframe tbody tr th:only-of-type {\n",
              "        vertical-align: middle;\n",
              "    }\n",
              "\n",
              "    .dataframe tbody tr th {\n",
              "        vertical-align: top;\n",
              "    }\n",
              "\n",
              "    .dataframe thead th {\n",
              "        text-align: right;\n",
              "    }\n",
              "</style>\n",
              "<table border=\"1\" class=\"dataframe\">\n",
              "  <thead>\n",
              "    <tr style=\"text-align: right;\">\n",
              "      <th></th>\n",
              "      <th>status</th>\n",
              "      <th>propertyType</th>\n",
              "      <th>sqft</th>\n",
              "      <th>beds</th>\n",
              "      <th>state</th>\n",
              "      <th>target</th>\n",
              "      <th>school_rating</th>\n",
              "      <th>Price/sqft</th>\n",
              "      <th>Remodeled year</th>\n",
              "      <th>Parking</th>\n",
              "      <th>lotsize</th>\n",
              "      <th>Year built</th>\n",
              "      <th>Heating</th>\n",
              "      <th>Cooling</th>\n",
              "    </tr>\n",
              "  </thead>\n",
              "  <tbody>\n",
              "    <tr>\n",
              "      <th>1</th>\n",
              "      <td>for sale</td>\n",
              "      <td>single</td>\n",
              "      <td>1,947 sqft</td>\n",
              "      <td>3 Beds</td>\n",
              "      <td>1</td>\n",
              "      <td>310000.0</td>\n",
              "      <td>4.0</td>\n",
              "      <td>$159/sqft</td>\n",
              "      <td></td>\n",
              "      <td>0</td>\n",
              "      <td>5828 sqft</td>\n",
              "      <td>2019</td>\n",
              "      <td>0</td>\n",
              "      <td>0</td>\n",
              "    </tr>\n",
              "    <tr>\n",
              "      <th>2</th>\n",
              "      <td>for sale</td>\n",
              "      <td>single</td>\n",
              "      <td>3,000 sqft</td>\n",
              "      <td>3 Beds</td>\n",
              "      <td>2</td>\n",
              "      <td>2895000.0</td>\n",
              "      <td>7.0</td>\n",
              "      <td>$965/sqft</td>\n",
              "      <td>1967</td>\n",
              "      <td>1</td>\n",
              "      <td>8,626 sqft</td>\n",
              "      <td>1961</td>\n",
              "      <td>1</td>\n",
              "      <td>1</td>\n",
              "    </tr>\n",
              "    <tr>\n",
              "      <th>3</th>\n",
              "      <td>for sale</td>\n",
              "      <td>single</td>\n",
              "      <td>6,457 sqft</td>\n",
              "      <td>5 Beds</td>\n",
              "      <td>3</td>\n",
              "      <td>2395000.0</td>\n",
              "      <td>9.0</td>\n",
              "      <td>$371/sqft</td>\n",
              "      <td>2006</td>\n",
              "      <td>1</td>\n",
              "      <td>8,220 sqft</td>\n",
              "      <td>2006</td>\n",
              "      <td>1</td>\n",
              "      <td>1</td>\n",
              "    </tr>\n",
              "  </tbody>\n",
              "</table>\n",
              "</div>"
            ],
            "text/plain": [
              "     status propertyType        sqft    beds  state     target  school_rating   \n",
              "1  for sale       single  1,947 sqft  3 Beds      1   310000.0            4.0  \\\n",
              "2  for sale       single  3,000 sqft  3 Beds      2  2895000.0            7.0   \n",
              "3  for sale       single  6,457 sqft  5 Beds      3  2395000.0            9.0   \n",
              "\n",
              "  Price/sqft Remodeled year  Parking     lotsize Year built  Heating  Cooling  \n",
              "1  $159/sqft                       0   5828 sqft       2019        0        0  \n",
              "2  $965/sqft           1967        1  8,626 sqft       1961        1        1  \n",
              "3  $371/sqft           2006        1  8,220 sqft       2006        1        1  "
            ]
          },
          "execution_count": 225,
          "metadata": {},
          "output_type": "execute_result"
        }
      ],
      "source": [
        "df.head(3)"
      ]
    },
    {
      "cell_type": "code",
      "execution_count": null,
      "metadata": {
        "id": "tTwriMdZaIZC",
        "outputId": "f05279f0-2b77-4ac7-eba8-c67cd1e516b1"
      },
      "outputs": [
        {
          "data": {
            "text/plain": [
              "Year built\n",
              "2019    18884\n",
              "        13008\n",
              "2006     5184\n",
              "2005     4886\n",
              "2007     4291\n",
              "        ...  \n",
              "1845        1\n",
              "1807        1\n",
              "1740        1\n",
              "1809        1\n",
              "1857        1\n",
              "Name: count, Length: 221, dtype: int64"
            ]
          },
          "execution_count": 226,
          "metadata": {},
          "output_type": "execute_result"
        }
      ],
      "source": [
        "df['Year built'].value_counts()"
      ]
    },
    {
      "cell_type": "code",
      "execution_count": null,
      "metadata": {
        "id": "MnvczptmaIZD"
      },
      "outputs": [],
      "source": [
        "def convert_currency_1(val):\n",
        "    try:\n",
        "        if val is not np.nan:\n",
        "            new_val = val[0:5]\n",
        "            return int(new_val)\n",
        "        else:\n",
        "            return np.nan\n",
        "    except ValueError as e:\n",
        "        return np.nan"
      ]
    },
    {
      "cell_type": "code",
      "execution_count": null,
      "metadata": {
        "id": "7aZpkiftaIZD",
        "outputId": "97175930-0690-4957-c3eb-ab6c9c151867"
      },
      "outputs": [
        {
          "data": {
            "text/plain": [
              "Year built\n",
              "2019    18884\n",
              "        13008\n",
              "2006     5184\n",
              "2005     4886\n",
              "2007     4291\n",
              "        ...  \n",
              "1845        1\n",
              "1807        1\n",
              "1740        1\n",
              "1809        1\n",
              "1857        1\n",
              "Name: count, Length: 221, dtype: int64"
            ]
          },
          "execution_count": 228,
          "metadata": {},
          "output_type": "execute_result"
        }
      ],
      "source": [
        "df['Year built'].value_counts()"
      ]
    },
    {
      "cell_type": "code",
      "execution_count": null,
      "metadata": {
        "id": "GgO1c9ZdaIZE"
      },
      "outputs": [],
      "source": [
        "df1=df\n",
        "df1['Year built'].fillna(\"\").replace('', pd.NA, inplace=True)"
      ]
    },
    {
      "cell_type": "code",
      "execution_count": null,
      "metadata": {
        "id": "OrAFZjFiaIZE",
        "outputId": "b488ab09-d828-4635-f3fb-c09c36223c62"
      },
      "outputs": [
        {
          "data": {
            "text/plain": [
              "Year built\n",
              "2019    18884\n",
              "        13008\n",
              "2006     5184\n",
              "2005     4886\n",
              "2007     4291\n",
              "        ...  \n",
              "1845        1\n",
              "1807        1\n",
              "1740        1\n",
              "1809        1\n",
              "1857        1\n",
              "Name: count, Length: 221, dtype: int64"
            ]
          },
          "execution_count": 230,
          "metadata": {},
          "output_type": "execute_result"
        }
      ],
      "source": [
        "df1['Year built'].value_counts()"
      ]
    },
    {
      "cell_type": "code",
      "execution_count": null,
      "metadata": {
        "id": "tzNUGaOoaIZF",
        "outputId": "f477b828-abe3-46a5-a892-83706fd15a61"
      },
      "outputs": [
        {
          "data": {
            "text/plain": [
              "Year built\n",
              "2019.0    18884\n",
              "2006.0     5184\n",
              "2005.0     4886\n",
              "2007.0     4291\n",
              "2018.0     4288\n",
              "          ...  \n",
              "1809.0        1\n",
              "1823.0        1\n",
              "1807.0        1\n",
              "1740.0        1\n",
              "1857.0        1\n",
              "Name: count, Length: 219, dtype: int64"
            ]
          },
          "execution_count": 231,
          "metadata": {},
          "output_type": "execute_result"
        }
      ],
      "source": [
        "df1['Year built'] = df['Year built'].apply(convert_currency_1)\n",
        "df1['Year built'].value_counts()"
      ]
    },
    {
      "cell_type": "code",
      "execution_count": null,
      "metadata": {
        "id": "Pod-MhFOaIZF"
      },
      "outputs": [],
      "source": [
        "data_bin_4 = ord_encoder.fit_transform(df1[['propertyType']])"
      ]
    },
    {
      "cell_type": "code",
      "execution_count": null,
      "metadata": {
        "id": "oFQlfQB_aIZG",
        "outputId": "a6f7da1b-ab3d-4343-d484-dc49d28b56b4"
      },
      "outputs": [
        {
          "data": {
            "text/plain": [
              "propertyType\n",
              "1               149149\n",
              "6                25801\n",
              "2                13561\n",
              "4                 7927\n",
              "9                 2515\n",
              "8                 2242\n",
              "11                2236\n",
              "3                 1414\n",
              "10                1171\n",
              "7                  860\n",
              "14                 713\n",
              "18                 653\n",
              "16                 629\n",
              "13                 547\n",
              "5                  463\n",
              "19                 234\n",
              "12                 222\n",
              "15                 151\n",
              "17                  90\n",
              "20                   3\n",
              "Name: count, dtype: int64"
            ]
          },
          "execution_count": 233,
          "metadata": {},
          "output_type": "execute_result"
        }
      ],
      "source": [
        "data_bin_4.value_counts()"
      ]
    },
    {
      "cell_type": "code",
      "execution_count": null,
      "metadata": {
        "id": "bj0kTwINaIZG",
        "outputId": "8e12238f-e4b5-4466-d7c7-f20ece453449"
      },
      "outputs": [
        {
          "data": {
            "text/plain": [
              "1          1\n",
              "2          2\n",
              "3          3\n",
              "5          4\n",
              "8          5\n",
              "          ..\n",
              "377173    16\n",
              "377174     3\n",
              "377175     3\n",
              "377181    13\n",
              "377182     6\n",
              "Name: propertyType, Length: 210581, dtype: int32"
            ]
          },
          "execution_count": 234,
          "metadata": {},
          "output_type": "execute_result"
        }
      ],
      "source": [
        "df1['propertyType'] = data_bin_3\n",
        "df1['propertyType']"
      ]
    },
    {
      "cell_type": "code",
      "execution_count": null,
      "metadata": {
        "id": "zju2lzpdaIZH",
        "outputId": "4a8b40f7-4f82-4a82-d8c1-af897317d1df"
      },
      "outputs": [
        {
          "name": "stdout",
          "output_type": "stream",
          "text": [
            "<class 'pandas.core.frame.DataFrame'>\n",
            "Index: 210581 entries, 1 to 377182\n",
            "Data columns (total 14 columns):\n",
            " #   Column          Non-Null Count   Dtype  \n",
            "---  ------          --------------   -----  \n",
            " 0   status          210581 non-null  object \n",
            " 1   propertyType    210581 non-null  int32  \n",
            " 2   sqft            210581 non-null  object \n",
            " 3   beds            210581 non-null  object \n",
            " 4   state           210581 non-null  int32  \n",
            " 5   target          210581 non-null  float64\n",
            " 6   school_rating   210581 non-null  float64\n",
            " 7   Price/sqft      210581 non-null  object \n",
            " 8   Remodeled year  210581 non-null  object \n",
            " 9   Parking         210581 non-null  int64  \n",
            " 10  lotsize         210581 non-null  object \n",
            " 11  Year built      197567 non-null  float64\n",
            " 12  Heating         210581 non-null  int64  \n",
            " 13  Cooling         210581 non-null  int64  \n",
            "dtypes: float64(3), int32(2), int64(3), object(6)\n",
            "memory usage: 22.5+ MB\n"
          ]
        }
      ],
      "source": [
        "df1.info()"
      ]
    },
    {
      "cell_type": "code",
      "execution_count": null,
      "metadata": {
        "id": "41NyTqJuaIZH"
      },
      "outputs": [],
      "source": [
        "df1=df"
      ]
    },
    {
      "cell_type": "code",
      "execution_count": null,
      "metadata": {
        "id": "ZwtcVUJIaIZH"
      },
      "outputs": [],
      "source": [
        "df1['Year built'].fillna(\"\").replace('', pd.NA, inplace=True)"
      ]
    },
    {
      "cell_type": "code",
      "execution_count": null,
      "metadata": {
        "id": "5matm3_AaIZI",
        "outputId": "07b4c488-d5a4-4d60-86c7-806a7fd05bd5"
      },
      "outputs": [
        {
          "data": {
            "text/plain": [
              "Year built\n",
              "2019.0    18884\n",
              "2006.0     5184\n",
              "2005.0     4886\n",
              "2007.0     4291\n",
              "2018.0     4288\n",
              "          ...  \n",
              "1809.0        1\n",
              "1823.0        1\n",
              "1807.0        1\n",
              "1740.0        1\n",
              "1857.0        1\n",
              "Name: count, Length: 219, dtype: int64"
            ]
          },
          "execution_count": 238,
          "metadata": {},
          "output_type": "execute_result"
        }
      ],
      "source": [
        "df1['Year built'].value_counts()"
      ]
    },
    {
      "cell_type": "code",
      "execution_count": null,
      "metadata": {
        "id": "vqNPfshSaIZI"
      },
      "outputs": [],
      "source": [
        "df1['Remodeled year'].fillna(\"\").replace('', pd.NA, inplace=True)"
      ]
    },
    {
      "cell_type": "code",
      "execution_count": null,
      "metadata": {
        "id": "HyYjrp-zaIZJ",
        "outputId": "8047f064-d3c7-4830-98fb-b8dd41615e60"
      },
      "outputs": [
        {
          "name": "stdout",
          "output_type": "stream",
          "text": [
            "<class 'pandas.core.frame.DataFrame'>\n",
            "Index: 210581 entries, 1 to 377182\n",
            "Data columns (total 14 columns):\n",
            " #   Column          Non-Null Count   Dtype  \n",
            "---  ------          --------------   -----  \n",
            " 0   status          210581 non-null  object \n",
            " 1   propertyType    210581 non-null  int32  \n",
            " 2   sqft            210581 non-null  object \n",
            " 3   beds            210581 non-null  object \n",
            " 4   state           210581 non-null  int32  \n",
            " 5   target          210581 non-null  float64\n",
            " 6   school_rating   210581 non-null  float64\n",
            " 7   Price/sqft      210581 non-null  object \n",
            " 8   Remodeled year  210581 non-null  object \n",
            " 9   Parking         210581 non-null  int64  \n",
            " 10  lotsize         210581 non-null  object \n",
            " 11  Year built      197567 non-null  float64\n",
            " 12  Heating         210581 non-null  int64  \n",
            " 13  Cooling         210581 non-null  int64  \n",
            "dtypes: float64(3), int32(2), int64(3), object(6)\n",
            "memory usage: 22.5+ MB\n"
          ]
        }
      ],
      "source": [
        "df1.info()"
      ]
    },
    {
      "cell_type": "code",
      "execution_count": null,
      "metadata": {
        "id": "2X3oczi6aIZJ",
        "outputId": "2696d210-fbcf-4359-be1b-3dc1273660e3"
      },
      "outputs": [
        {
          "data": {
            "text/plain": [
              "Remodeled year\n",
              "2006.0    3370\n",
              "2005.0    3030\n",
              "2007.0    2529\n",
              "2004.0    2145\n",
              "1980.0    2030\n",
              "          ... \n",
              "1853.0       1\n",
              "1888.0       1\n",
              "1897.0       1\n",
              "1874.0       1\n",
              "1862.0       1\n",
              "Name: count, Length: 147, dtype: int64"
            ]
          },
          "execution_count": 241,
          "metadata": {},
          "output_type": "execute_result"
        }
      ],
      "source": [
        "df1['Remodeled year'] = df['Remodeled year'].apply(convert_currency_1)\n",
        "df1['Remodeled year'].value_counts()"
      ]
    },
    {
      "cell_type": "code",
      "execution_count": null,
      "metadata": {
        "id": "DZh1qmDJaIZJ",
        "outputId": "54763820-2d27-41dd-acea-2d61d74de378"
      },
      "outputs": [
        {
          "name": "stdout",
          "output_type": "stream",
          "text": [
            "<class 'pandas.core.frame.DataFrame'>\n",
            "Index: 210581 entries, 1 to 377182\n",
            "Data columns (total 14 columns):\n",
            " #   Column          Non-Null Count   Dtype  \n",
            "---  ------          --------------   -----  \n",
            " 0   status          210581 non-null  object \n",
            " 1   propertyType    210581 non-null  int32  \n",
            " 2   sqft            210581 non-null  object \n",
            " 3   beds            210581 non-null  object \n",
            " 4   state           210581 non-null  int32  \n",
            " 5   target          210581 non-null  float64\n",
            " 6   school_rating   210581 non-null  float64\n",
            " 7   Price/sqft      210581 non-null  object \n",
            " 8   Remodeled year  90572 non-null   float64\n",
            " 9   Parking         210581 non-null  int64  \n",
            " 10  lotsize         210581 non-null  object \n",
            " 11  Year built      197567 non-null  float64\n",
            " 12  Heating         210581 non-null  int64  \n",
            " 13  Cooling         210581 non-null  int64  \n",
            "dtypes: float64(4), int32(2), int64(3), object(5)\n",
            "memory usage: 22.5+ MB\n"
          ]
        }
      ],
      "source": [
        "df1.info()"
      ]
    },
    {
      "cell_type": "code",
      "execution_count": null,
      "metadata": {
        "id": "cjPJry48aIZK"
      },
      "outputs": [],
      "source": [
        "# в признаке Remodeled year очень мало ненулевых данных, удалим его.\n",
        "df1 = df1.drop(columns = ['Remodeled year'], axis = 1)"
      ]
    },
    {
      "cell_type": "code",
      "execution_count": null,
      "metadata": {
        "id": "zX5t3PUwaIZK",
        "outputId": "543367fd-0d2d-4215-8740-cbb0be6f503c"
      },
      "outputs": [
        {
          "data": {
            "text/plain": [
              "Year built       13014\n",
              "status               0\n",
              "propertyType         0\n",
              "sqft                 0\n",
              "beds                 0\n",
              "state                0\n",
              "target               0\n",
              "school_rating        0\n",
              "Price/sqft           0\n",
              "Parking              0\n",
              "lotsize              0\n",
              "Heating              0\n",
              "Cooling              0\n",
              "dtype: int64"
            ]
          },
          "execution_count": 244,
          "metadata": {},
          "output_type": "execute_result"
        }
      ],
      "source": [
        "df1.isnull().sum().sort_values(ascending=False)"
      ]
    },
    {
      "cell_type": "code",
      "execution_count": null,
      "metadata": {
        "id": "s81HDE5saIZL"
      },
      "outputs": [],
      "source": [
        "\n",
        "df1.dropna(subset=['Year built'], inplace=True)"
      ]
    },
    {
      "cell_type": "code",
      "execution_count": null,
      "metadata": {
        "id": "zecdD2BIaIZL",
        "outputId": "eeaf5047-cbda-4469-c3c8-4aa29577fdfc"
      },
      "outputs": [
        {
          "name": "stdout",
          "output_type": "stream",
          "text": [
            "<class 'pandas.core.frame.DataFrame'>\n",
            "Index: 197567 entries, 1 to 377182\n",
            "Data columns (total 13 columns):\n",
            " #   Column         Non-Null Count   Dtype  \n",
            "---  ------         --------------   -----  \n",
            " 0   status         197567 non-null  object \n",
            " 1   propertyType   197567 non-null  int32  \n",
            " 2   sqft           197567 non-null  object \n",
            " 3   beds           197567 non-null  object \n",
            " 4   state          197567 non-null  int32  \n",
            " 5   target         197567 non-null  float64\n",
            " 6   school_rating  197567 non-null  float64\n",
            " 7   Price/sqft     197567 non-null  object \n",
            " 8   Parking        197567 non-null  int64  \n",
            " 9   lotsize        197567 non-null  object \n",
            " 10  Year built     197567 non-null  float64\n",
            " 11  Heating        197567 non-null  int64  \n",
            " 12  Cooling        197567 non-null  int64  \n",
            "dtypes: float64(3), int32(2), int64(3), object(5)\n",
            "memory usage: 19.6+ MB\n"
          ]
        }
      ],
      "source": [
        "df1.info()"
      ]
    },
    {
      "cell_type": "code",
      "execution_count": null,
      "metadata": {
        "id": "GfArXndJaIZM"
      },
      "outputs": [],
      "source": [
        "# Удалим неинформативные признаки\n",
        "df1.drop(['status', 'sqft'], axis= 1 , inplace= True )"
      ]
    },
    {
      "cell_type": "code",
      "execution_count": null,
      "metadata": {
        "id": "yUXO78TJaIZM"
      },
      "outputs": [],
      "source": [
        "# Удалим неинформативные признаки\n",
        "df1.drop(['Price/sqft', 'lotsize'], axis= 1 , inplace= True )"
      ]
    },
    {
      "cell_type": "code",
      "execution_count": null,
      "metadata": {
        "id": "_U5Y4UayaIZN",
        "outputId": "28ab3837-b320-4172-fcb3-6302be4ec284"
      },
      "outputs": [
        {
          "name": "stdout",
          "output_type": "stream",
          "text": [
            "<class 'pandas.core.frame.DataFrame'>\n",
            "Index: 197567 entries, 1 to 377182\n",
            "Data columns (total 9 columns):\n",
            " #   Column         Non-Null Count   Dtype  \n",
            "---  ------         --------------   -----  \n",
            " 0   propertyType   197567 non-null  int32  \n",
            " 1   beds           197567 non-null  object \n",
            " 2   state          197567 non-null  int32  \n",
            " 3   target         197567 non-null  float64\n",
            " 4   school_rating  197567 non-null  float64\n",
            " 5   Parking        197567 non-null  int64  \n",
            " 6   Year built     197567 non-null  float64\n",
            " 7   Heating        197567 non-null  int64  \n",
            " 8   Cooling        197567 non-null  int64  \n",
            "dtypes: float64(3), int32(2), int64(3), object(1)\n",
            "memory usage: 13.6+ MB\n"
          ]
        }
      ],
      "source": [
        "df1.info()"
      ]
    },
    {
      "cell_type": "code",
      "execution_count": null,
      "metadata": {
        "id": "261JK-AhaIZN"
      },
      "outputs": [],
      "source": [
        "pattern = r'(\\d*\\.\\d+|\\d+)'"
      ]
    },
    {
      "cell_type": "code",
      "execution_count": null,
      "metadata": {
        "id": "YHxfZDJhaIZN"
      },
      "outputs": [],
      "source": [
        "df[\"beds\"] = pd.to_numeric(df[\"beds\"].str.extract(pattern)[0], downcast='float')"
      ]
    },
    {
      "cell_type": "code",
      "execution_count": null,
      "metadata": {
        "id": "bQ2fp2ElaIZO",
        "outputId": "5632adca-8333-41cf-d989-da9ede4704f1"
      },
      "outputs": [
        {
          "data": {
            "text/plain": [
              "beds\n",
              "3.00     82262\n",
              "4.00     54692\n",
              "2.00     35413\n",
              "5.00     17436\n",
              "6.00      5186\n",
              "         ...  \n",
              "0.63         1\n",
              "0.32         1\n",
              "1.80         1\n",
              "0.71         1\n",
              "88.00        1\n",
              "Name: count, Length: 63, dtype: int64"
            ]
          },
          "execution_count": 252,
          "metadata": {},
          "output_type": "execute_result"
        }
      ],
      "source": [
        "df['beds'].value_counts()"
      ]
    },
    {
      "cell_type": "code",
      "execution_count": null,
      "metadata": {
        "id": "d0edGLiVaIZO"
      },
      "outputs": [],
      "source": [
        "df1['beds'] = df['beds']"
      ]
    },
    {
      "cell_type": "code",
      "execution_count": null,
      "metadata": {
        "id": "ddT554QVaIZO",
        "outputId": "23b56fa4-767b-4b0c-b24c-c4630996a30b"
      },
      "outputs": [
        {
          "name": "stdout",
          "output_type": "stream",
          "text": [
            "<class 'pandas.core.frame.DataFrame'>\n",
            "Index: 197567 entries, 1 to 377182\n",
            "Data columns (total 9 columns):\n",
            " #   Column         Non-Null Count   Dtype  \n",
            "---  ------         --------------   -----  \n",
            " 0   propertyType   197567 non-null  int32  \n",
            " 1   beds           187473 non-null  float32\n",
            " 2   state          197567 non-null  int32  \n",
            " 3   target         197567 non-null  float64\n",
            " 4   school_rating  197567 non-null  float64\n",
            " 5   Parking        197567 non-null  int64  \n",
            " 6   Year built     197567 non-null  float64\n",
            " 7   Heating        197567 non-null  int64  \n",
            " 8   Cooling        197567 non-null  int64  \n",
            "dtypes: float32(1), float64(3), int32(2), int64(3)\n",
            "memory usage: 12.8 MB\n"
          ]
        }
      ],
      "source": [
        "df1.info()"
      ]
    },
    {
      "cell_type": "code",
      "execution_count": null,
      "metadata": {
        "id": "Bf-HMqV1aIZP"
      },
      "outputs": [],
      "source": [
        "df1.dropna(subset=['beds'], inplace=True)"
      ]
    },
    {
      "cell_type": "code",
      "execution_count": null,
      "metadata": {
        "id": "OuPO3A8XaIZP",
        "outputId": "343f0f41-2bf6-4198-ec99-ecc97c03bde7"
      },
      "outputs": [
        {
          "name": "stdout",
          "output_type": "stream",
          "text": [
            "<class 'pandas.core.frame.DataFrame'>\n",
            "Index: 187473 entries, 1 to 377182\n",
            "Data columns (total 9 columns):\n",
            " #   Column         Non-Null Count   Dtype  \n",
            "---  ------         --------------   -----  \n",
            " 0   propertyType   187473 non-null  int32  \n",
            " 1   beds           187473 non-null  float32\n",
            " 2   state          187473 non-null  int32  \n",
            " 3   target         187473 non-null  float64\n",
            " 4   school_rating  187473 non-null  float64\n",
            " 5   Parking        187473 non-null  int64  \n",
            " 6   Year built     187473 non-null  float64\n",
            " 7   Heating        187473 non-null  int64  \n",
            " 8   Cooling        187473 non-null  int64  \n",
            "dtypes: float32(1), float64(3), int32(2), int64(3)\n",
            "memory usage: 12.2 MB\n"
          ]
        }
      ],
      "source": [
        "df1.info()"
      ]
    },
    {
      "cell_type": "code",
      "execution_count": null,
      "metadata": {
        "id": "b8wLCrfPaIZQ",
        "outputId": "fcc54359-8ab7-4697-a5f5-13f5d51cfa28"
      },
      "outputs": [
        {
          "data": {
            "text/html": [
              "<div>\n",
              "<style scoped>\n",
              "    .dataframe tbody tr th:only-of-type {\n",
              "        vertical-align: middle;\n",
              "    }\n",
              "\n",
              "    .dataframe tbody tr th {\n",
              "        vertical-align: top;\n",
              "    }\n",
              "\n",
              "    .dataframe thead th {\n",
              "        text-align: right;\n",
              "    }\n",
              "</style>\n",
              "<table border=\"1\" class=\"dataframe\">\n",
              "  <thead>\n",
              "    <tr style=\"text-align: right;\">\n",
              "      <th></th>\n",
              "      <th>propertyType</th>\n",
              "      <th>beds</th>\n",
              "      <th>state</th>\n",
              "      <th>target</th>\n",
              "      <th>school_rating</th>\n",
              "      <th>Parking</th>\n",
              "      <th>Year built</th>\n",
              "      <th>Heating</th>\n",
              "      <th>Cooling</th>\n",
              "    </tr>\n",
              "  </thead>\n",
              "  <tbody>\n",
              "    <tr>\n",
              "      <th>count</th>\n",
              "      <td>187473.000000</td>\n",
              "      <td>187473.000000</td>\n",
              "      <td>187473.000000</td>\n",
              "      <td>1.874730e+05</td>\n",
              "      <td>187473.000000</td>\n",
              "      <td>187473.000000</td>\n",
              "      <td>187473.000000</td>\n",
              "      <td>187473.000000</td>\n",
              "      <td>187473.000000</td>\n",
              "    </tr>\n",
              "    <tr>\n",
              "      <th>mean</th>\n",
              "      <td>8.159303</td>\n",
              "      <td>3.443691</td>\n",
              "      <td>8.159303</td>\n",
              "      <td>6.606082e+05</td>\n",
              "      <td>4.875406</td>\n",
              "      <td>0.716252</td>\n",
              "      <td>1978.102052</td>\n",
              "      <td>0.858790</td>\n",
              "      <td>0.752423</td>\n",
              "    </tr>\n",
              "    <tr>\n",
              "      <th>std</th>\n",
              "      <td>5.856898</td>\n",
              "      <td>2.318315</td>\n",
              "      <td>5.856898</td>\n",
              "      <td>1.800245e+06</td>\n",
              "      <td>1.919243</td>\n",
              "      <td>0.450817</td>\n",
              "      <td>34.199504</td>\n",
              "      <td>0.348239</td>\n",
              "      <td>0.431606</td>\n",
              "    </tr>\n",
              "    <tr>\n",
              "      <th>min</th>\n",
              "      <td>1.000000</td>\n",
              "      <td>0.000000</td>\n",
              "      <td>1.000000</td>\n",
              "      <td>1.000000e+00</td>\n",
              "      <td>1.000000</td>\n",
              "      <td>0.000000</td>\n",
              "      <td>1057.000000</td>\n",
              "      <td>0.000000</td>\n",
              "      <td>0.000000</td>\n",
              "    </tr>\n",
              "    <tr>\n",
              "      <th>25%</th>\n",
              "      <td>3.000000</td>\n",
              "      <td>3.000000</td>\n",
              "      <td>3.000000</td>\n",
              "      <td>2.050000e+05</td>\n",
              "      <td>3.000000</td>\n",
              "      <td>0.000000</td>\n",
              "      <td>1955.000000</td>\n",
              "      <td>1.000000</td>\n",
              "      <td>1.000000</td>\n",
              "    </tr>\n",
              "    <tr>\n",
              "      <th>50%</th>\n",
              "      <td>7.000000</td>\n",
              "      <td>3.000000</td>\n",
              "      <td>7.000000</td>\n",
              "      <td>3.389650e+05</td>\n",
              "      <td>5.000000</td>\n",
              "      <td>1.000000</td>\n",
              "      <td>1985.000000</td>\n",
              "      <td>1.000000</td>\n",
              "      <td>1.000000</td>\n",
              "    </tr>\n",
              "    <tr>\n",
              "      <th>75%</th>\n",
              "      <td>11.000000</td>\n",
              "      <td>4.000000</td>\n",
              "      <td>11.000000</td>\n",
              "      <td>5.999000e+05</td>\n",
              "      <td>6.000000</td>\n",
              "      <td>1.000000</td>\n",
              "      <td>2006.000000</td>\n",
              "      <td>1.000000</td>\n",
              "      <td>1.000000</td>\n",
              "    </tr>\n",
              "    <tr>\n",
              "      <th>max</th>\n",
              "      <td>34.000000</td>\n",
              "      <td>708.000000</td>\n",
              "      <td>34.000000</td>\n",
              "      <td>1.650000e+08</td>\n",
              "      <td>9.000000</td>\n",
              "      <td>1.000000</td>\n",
              "      <td>2020.000000</td>\n",
              "      <td>1.000000</td>\n",
              "      <td>1.000000</td>\n",
              "    </tr>\n",
              "  </tbody>\n",
              "</table>\n",
              "</div>"
            ],
            "text/plain": [
              "        propertyType           beds          state        target   \n",
              "count  187473.000000  187473.000000  187473.000000  1.874730e+05  \\\n",
              "mean        8.159303       3.443691       8.159303  6.606082e+05   \n",
              "std         5.856898       2.318315       5.856898  1.800245e+06   \n",
              "min         1.000000       0.000000       1.000000  1.000000e+00   \n",
              "25%         3.000000       3.000000       3.000000  2.050000e+05   \n",
              "50%         7.000000       3.000000       7.000000  3.389650e+05   \n",
              "75%        11.000000       4.000000      11.000000  5.999000e+05   \n",
              "max        34.000000     708.000000      34.000000  1.650000e+08   \n",
              "\n",
              "       school_rating        Parking     Year built        Heating   \n",
              "count  187473.000000  187473.000000  187473.000000  187473.000000  \\\n",
              "mean        4.875406       0.716252    1978.102052       0.858790   \n",
              "std         1.919243       0.450817      34.199504       0.348239   \n",
              "min         1.000000       0.000000    1057.000000       0.000000   \n",
              "25%         3.000000       0.000000    1955.000000       1.000000   \n",
              "50%         5.000000       1.000000    1985.000000       1.000000   \n",
              "75%         6.000000       1.000000    2006.000000       1.000000   \n",
              "max         9.000000       1.000000    2020.000000       1.000000   \n",
              "\n",
              "             Cooling  \n",
              "count  187473.000000  \n",
              "mean        0.752423  \n",
              "std         0.431606  \n",
              "min         0.000000  \n",
              "25%         1.000000  \n",
              "50%         1.000000  \n",
              "75%         1.000000  \n",
              "max         1.000000  "
            ]
          },
          "execution_count": 257,
          "metadata": {},
          "output_type": "execute_result"
        }
      ],
      "source": [
        "df1.describe()"
      ]
    },
    {
      "cell_type": "markdown",
      "metadata": {
        "id": "U8K40ShLaIZQ"
      },
      "source": [
        "# Очистка данных завершена"
      ]
    },
    {
      "cell_type": "markdown",
      "metadata": {
        "id": "NiVT65ZkaIZQ"
      },
      "source": [
        "### Удаляем выбросы в данных"
      ]
    },
    {
      "cell_type": "code",
      "execution_count": null,
      "metadata": {
        "id": "pyEzYnvKaIZR"
      },
      "outputs": [],
      "source": [
        "import numpy as np\n",
        "import pandas as pd\n",
        "import scipy.stats as stats"
      ]
    },
    {
      "cell_type": "code",
      "execution_count": null,
      "metadata": {
        "id": "TnTbUCUlaIZR"
      },
      "outputs": [],
      "source": [
        "df2=df1"
      ]
    },
    {
      "cell_type": "code",
      "execution_count": null,
      "metadata": {
        "id": "DhLg0sdVaIZS",
        "outputId": "43f87a58-4c31-4d10-9bcb-7af7b10f3c10"
      },
      "outputs": [
        {
          "name": "stdout",
          "output_type": "stream",
          "text": [
            "<class 'pandas.core.frame.DataFrame'>\n",
            "Index: 187473 entries, 1 to 377182\n",
            "Data columns (total 9 columns):\n",
            " #   Column         Non-Null Count   Dtype  \n",
            "---  ------         --------------   -----  \n",
            " 0   propertyType   187473 non-null  int32  \n",
            " 1   beds           187473 non-null  float32\n",
            " 2   state          187473 non-null  int32  \n",
            " 3   target         187473 non-null  float64\n",
            " 4   school_rating  187473 non-null  float64\n",
            " 5   Parking        187473 non-null  int64  \n",
            " 6   Year built     187473 non-null  float64\n",
            " 7   Heating        187473 non-null  int64  \n",
            " 8   Cooling        187473 non-null  int64  \n",
            "dtypes: float32(1), float64(3), int32(2), int64(3)\n",
            "memory usage: 12.2 MB\n"
          ]
        }
      ],
      "source": [
        "df2.info()"
      ]
    },
    {
      "cell_type": "code",
      "execution_count": null,
      "metadata": {
        "id": "Liqc7WxYaIZS"
      },
      "outputs": [],
      "source": [
        "df2['targetlg'] = df2['target'].apply(lambda x: np.log(x+1))\n",
        "df2['bedslg'] = df2['beds'].apply(lambda x: np.log(x+1))"
      ]
    },
    {
      "cell_type": "code",
      "execution_count": null,
      "metadata": {
        "id": "QNN9WxKPaIZT"
      },
      "outputs": [],
      "source": [
        "df1.drop(['target', 'beds'], axis= 1 , inplace= True )"
      ]
    },
    {
      "cell_type": "code",
      "execution_count": null,
      "metadata": {
        "id": "dboXNzvWaIZU",
        "outputId": "c12cabec-09c9-4959-b39a-e64a7d134cb1"
      },
      "outputs": [
        {
          "data": {
            "text/html": [
              "<div>\n",
              "<style scoped>\n",
              "    .dataframe tbody tr th:only-of-type {\n",
              "        vertical-align: middle;\n",
              "    }\n",
              "\n",
              "    .dataframe tbody tr th {\n",
              "        vertical-align: top;\n",
              "    }\n",
              "\n",
              "    .dataframe thead th {\n",
              "        text-align: right;\n",
              "    }\n",
              "</style>\n",
              "<table border=\"1\" class=\"dataframe\">\n",
              "  <thead>\n",
              "    <tr style=\"text-align: right;\">\n",
              "      <th></th>\n",
              "      <th>propertyType</th>\n",
              "      <th>state</th>\n",
              "      <th>school_rating</th>\n",
              "      <th>Parking</th>\n",
              "      <th>Year built</th>\n",
              "      <th>Heating</th>\n",
              "      <th>Cooling</th>\n",
              "      <th>targetlg</th>\n",
              "      <th>bedslg</th>\n",
              "    </tr>\n",
              "  </thead>\n",
              "  <tbody>\n",
              "    <tr>\n",
              "      <th>count</th>\n",
              "      <td>187473.000000</td>\n",
              "      <td>187473.000000</td>\n",
              "      <td>187473.000000</td>\n",
              "      <td>187473.000000</td>\n",
              "      <td>187473.000000</td>\n",
              "      <td>187473.000000</td>\n",
              "      <td>187473.000000</td>\n",
              "      <td>187473.000000</td>\n",
              "      <td>187473.000000</td>\n",
              "    </tr>\n",
              "    <tr>\n",
              "      <th>mean</th>\n",
              "      <td>8.159303</td>\n",
              "      <td>8.159303</td>\n",
              "      <td>4.875406</td>\n",
              "      <td>0.716252</td>\n",
              "      <td>1978.102052</td>\n",
              "      <td>0.858790</td>\n",
              "      <td>0.752423</td>\n",
              "      <td>12.768768</td>\n",
              "      <td>1.453678</td>\n",
              "    </tr>\n",
              "    <tr>\n",
              "      <th>std</th>\n",
              "      <td>5.856898</td>\n",
              "      <td>5.856898</td>\n",
              "      <td>1.919243</td>\n",
              "      <td>0.450817</td>\n",
              "      <td>34.199504</td>\n",
              "      <td>0.348239</td>\n",
              "      <td>0.431606</td>\n",
              "      <td>1.058086</td>\n",
              "      <td>0.262194</td>\n",
              "    </tr>\n",
              "    <tr>\n",
              "      <th>min</th>\n",
              "      <td>1.000000</td>\n",
              "      <td>1.000000</td>\n",
              "      <td>1.000000</td>\n",
              "      <td>0.000000</td>\n",
              "      <td>1057.000000</td>\n",
              "      <td>0.000000</td>\n",
              "      <td>0.000000</td>\n",
              "      <td>0.693147</td>\n",
              "      <td>0.000000</td>\n",
              "    </tr>\n",
              "    <tr>\n",
              "      <th>25%</th>\n",
              "      <td>3.000000</td>\n",
              "      <td>3.000000</td>\n",
              "      <td>3.000000</td>\n",
              "      <td>0.000000</td>\n",
              "      <td>1955.000000</td>\n",
              "      <td>1.000000</td>\n",
              "      <td>1.000000</td>\n",
              "      <td>12.230770</td>\n",
              "      <td>1.386294</td>\n",
              "    </tr>\n",
              "    <tr>\n",
              "      <th>50%</th>\n",
              "      <td>7.000000</td>\n",
              "      <td>7.000000</td>\n",
              "      <td>5.000000</td>\n",
              "      <td>1.000000</td>\n",
              "      <td>1985.000000</td>\n",
              "      <td>1.000000</td>\n",
              "      <td>1.000000</td>\n",
              "      <td>12.733655</td>\n",
              "      <td>1.386294</td>\n",
              "    </tr>\n",
              "    <tr>\n",
              "      <th>75%</th>\n",
              "      <td>11.000000</td>\n",
              "      <td>11.000000</td>\n",
              "      <td>6.000000</td>\n",
              "      <td>1.000000</td>\n",
              "      <td>2006.000000</td>\n",
              "      <td>1.000000</td>\n",
              "      <td>1.000000</td>\n",
              "      <td>13.304520</td>\n",
              "      <td>1.609438</td>\n",
              "    </tr>\n",
              "    <tr>\n",
              "      <th>max</th>\n",
              "      <td>34.000000</td>\n",
              "      <td>34.000000</td>\n",
              "      <td>9.000000</td>\n",
              "      <td>1.000000</td>\n",
              "      <td>2020.000000</td>\n",
              "      <td>1.000000</td>\n",
              "      <td>1.000000</td>\n",
              "      <td>18.921456</td>\n",
              "      <td>6.563856</td>\n",
              "    </tr>\n",
              "  </tbody>\n",
              "</table>\n",
              "</div>"
            ],
            "text/plain": [
              "        propertyType          state  school_rating        Parking   \n",
              "count  187473.000000  187473.000000  187473.000000  187473.000000  \\\n",
              "mean        8.159303       8.159303       4.875406       0.716252   \n",
              "std         5.856898       5.856898       1.919243       0.450817   \n",
              "min         1.000000       1.000000       1.000000       0.000000   \n",
              "25%         3.000000       3.000000       3.000000       0.000000   \n",
              "50%         7.000000       7.000000       5.000000       1.000000   \n",
              "75%        11.000000      11.000000       6.000000       1.000000   \n",
              "max        34.000000      34.000000       9.000000       1.000000   \n",
              "\n",
              "          Year built        Heating        Cooling       targetlg   \n",
              "count  187473.000000  187473.000000  187473.000000  187473.000000  \\\n",
              "mean     1978.102052       0.858790       0.752423      12.768768   \n",
              "std        34.199504       0.348239       0.431606       1.058086   \n",
              "min      1057.000000       0.000000       0.000000       0.693147   \n",
              "25%      1955.000000       1.000000       1.000000      12.230770   \n",
              "50%      1985.000000       1.000000       1.000000      12.733655   \n",
              "75%      2006.000000       1.000000       1.000000      13.304520   \n",
              "max      2020.000000       1.000000       1.000000      18.921456   \n",
              "\n",
              "              bedslg  \n",
              "count  187473.000000  \n",
              "mean        1.453678  \n",
              "std         0.262194  \n",
              "min         0.000000  \n",
              "25%         1.386294  \n",
              "50%         1.386294  \n",
              "75%         1.609438  \n",
              "max         6.563856  "
            ]
          },
          "execution_count": 263,
          "metadata": {},
          "output_type": "execute_result"
        }
      ],
      "source": [
        "df2.describe()"
      ]
    },
    {
      "cell_type": "code",
      "execution_count": null,
      "metadata": {
        "id": "g3Q4tv33aIZV",
        "outputId": "8a369e6e-94ec-4e48-da46-611105fc17cf"
      },
      "outputs": [
        {
          "data": {
            "image/png": "[encoded data removed]",
            "text/plain": [
              "<Figure size 800x550 with 1 Axes>"
            ]
          },
          "metadata": {},
          "output_type": "display_data"
        }
      ],
      "source": [
        "df2['targetlg'].plot(kind='box', title='Распределение цены недвижимости')\n",
        "plt.show()"
      ]
    },
    {
      "cell_type": "code",
      "execution_count": null,
      "metadata": {
        "id": "lVn5VdziaIZW",
        "outputId": "5985baf9-e088-4193-e231-3531dfc45b18"
      },
      "outputs": [
        {
          "data": {
            "image/png": "[encoded data removed]",
            "text/plain": [
              "<Figure size 800x550 with 1 Axes>"
            ]
          },
          "metadata": {},
          "output_type": "display_data"
        }
      ],
      "source": [
        "df2['propertyType'].plot(kind='box', title='Распределение типов недвижимости')\n",
        "plt.show()"
      ]
    },
    {
      "cell_type": "code",
      "execution_count": null,
      "metadata": {
        "id": "rcNOac9DaIZX",
        "outputId": "201878de-5e70-417f-cc89-645cb9ba8db2"
      },
      "outputs": [
        {
          "data": {
            "image/png": "[encoded data removed]",
            "text/plain": [
              "<Figure size 800x550 with 1 Axes>"
            ]
          },
          "metadata": {},
          "output_type": "display_data"
        }
      ],
      "source": [
        "df2['state'].plot(kind='box', title='Распределение по штатам')\n",
        "plt.show()"
      ]
    },
    {
      "cell_type": "code",
      "execution_count": null,
      "metadata": {
        "id": "Ogyyf3OBaIZY",
        "outputId": "c0603f56-fd74-495c-c035-53aa7dbc9598"
      },
      "outputs": [
        {
          "data": {
            "image/png": "[encoded data removed]",
            "text/plain": [
              "<Figure size 800x550 with 1 Axes>"
            ]
          },
          "metadata": {},
          "output_type": "display_data"
        }
      ],
      "source": [
        "df2['Year built'].plot(kind='box', title='Распределение по году постройки')\n",
        "plt.show()"
      ]
    },
    {
      "cell_type": "code",
      "execution_count": null,
      "metadata": {
        "id": "7M8XeK8eaIZY",
        "outputId": "038d02a3-82aa-42a4-a421-12e0c2614a33"
      },
      "outputs": [
        {
          "data": {
            "image/png": "[encoded data removed]",
            "text/plain": [
              "<Figure size 800x550 with 1 Axes>"
            ]
          },
          "metadata": {},
          "output_type": "display_data"
        }
      ],
      "source": [
        "df2['bedslg'].plot(kind='box', title='Распределение по количеству спален')\n",
        "plt.show()"
      ]
    },
    {
      "cell_type": "code",
      "execution_count": null,
      "metadata": {
        "id": "AQ8BrzXmaIZZ"
      },
      "outputs": [],
      "source": [
        "q_low = df2['targetlg'].quantile(0.25)\n",
        "q_hi = df2['targetlg'].quantile(0.75)\n",
        "q_range = q_hi - q_low\n",
        "df2 = df2[(df2['targetlg'] < q_hi + 1.5 * q_range) & (df2['targetlg'] > q_low - 1.5 * q_range)]"
      ]
    },
    {
      "cell_type": "code",
      "execution_count": null,
      "metadata": {
        "id": "DbypO7CdaIZZ",
        "outputId": "ea9c902f-df50-4099-8e05-f64187f892ad"
      },
      "outputs": [
        {
          "data": {
            "image/png": "[encoded data removed]",
            "text/plain": [
              "<Figure size 800x550 with 1 Axes>"
            ]
          },
          "metadata": {},
          "output_type": "display_data"
        }
      ],
      "source": [
        "df2['targetlg'].plot(kind='box', title='Распределение цены недвижимости')\n",
        "plt.show()"
      ]
    },
    {
      "cell_type": "code",
      "execution_count": null,
      "metadata": {
        "id": "KW9D1HChaIZa"
      },
      "outputs": [],
      "source": [
        "q_low = df2['bedslg'].quantile(0.25)\n",
        "q_hi = df2['bedslg'].quantile(0.75)\n",
        "q_range = q_hi - q_low\n",
        "df2 = df2[(df2['bedslg'] < q_hi + 1.5 * q_range) & (df2['bedslg'] > q_low - 1.5 * q_range)]"
      ]
    },
    {
      "cell_type": "code",
      "execution_count": null,
      "metadata": {
        "id": "2L43DENGaIZa",
        "outputId": "cd5fafbb-64ae-4279-8dd1-0eb720f32f16"
      },
      "outputs": [
        {
          "data": {
            "image/png": "[encoded data removed]",
            "text/plain": [
              "<Figure size 800x550 with 1 Axes>"
            ]
          },
          "metadata": {},
          "output_type": "display_data"
        }
      ],
      "source": [
        "df2['bedslg'].plot(kind='box', title='Распределение по количеству спален')\n",
        "plt.show()"
      ]
    },
    {
      "cell_type": "code",
      "execution_count": null,
      "metadata": {
        "id": "ucRRwPx8aIZa"
      },
      "outputs": [],
      "source": [
        "q_low = df2['propertyType'].quantile(0.25)\n",
        "q_hi = df2['propertyType'].quantile(0.75)\n",
        "q_range = q_hi - q_low\n",
        "df2 = df2[(df2['propertyType'] < q_hi + 1.5 * q_range) & (df2['propertyType'] > q_low - 1.5 * q_range)]"
      ]
    },
    {
      "cell_type": "code",
      "execution_count": null,
      "metadata": {
        "id": "2DWuLGWLaIZb",
        "outputId": "2c7cf124-9af4-45ba-a49c-fb2e46944daa"
      },
      "outputs": [
        {
          "data": {
            "image/png": "[encoded data removed]",
            "text/plain": [
              "<Figure size 800x550 with 1 Axes>"
            ]
          },
          "metadata": {},
          "output_type": "display_data"
        }
      ],
      "source": [
        "df2['propertyType'].plot(kind='box', title='Распределение по типу недвижимости')\n",
        "plt.show()"
      ]
    },
    {
      "cell_type": "code",
      "execution_count": null,
      "metadata": {
        "id": "ftiWMmJfaIZb"
      },
      "outputs": [],
      "source": [
        "q_low = df2['Year built'].quantile(0.25)\n",
        "q_hi = df2['Year built'].quantile(0.75)\n",
        "q_range = q_hi - q_low\n",
        "df2 = df2[(df2['Year built'] < q_hi + 1.5 * q_range) & (df2['Year built'] > q_low - 1.5 * q_range)]"
      ]
    },
    {
      "cell_type": "code",
      "execution_count": null,
      "metadata": {
        "id": "Nh9bZulVaIZc",
        "outputId": "923185e8-759e-4884-905a-1e396b1d6e65"
      },
      "outputs": [
        {
          "data": {
            "image/png": "[encoded data removed]",
            "text/plain": [
              "<Figure size 800x550 with 1 Axes>"
            ]
          },
          "metadata": {},
          "output_type": "display_data"
        }
      ],
      "source": [
        "df2['Year built'].plot(kind='box', title='Распределение по году постройки')\n",
        "plt.show()"
      ]
    },
    {
      "cell_type": "code",
      "execution_count": null,
      "metadata": {
        "id": "-twkihDcaIZc"
      },
      "outputs": [],
      "source": [
        "q_low = df2['state'].quantile(0.25)\n",
        "q_hi = df2['state'].quantile(0.75)\n",
        "q_range = q_hi - q_low\n",
        "df2 = df2[(df2['state'] < q_hi + 1.5 * q_range) & (df2['state'] > q_low - 1.5 * q_range)]"
      ]
    },
    {
      "cell_type": "code",
      "execution_count": null,
      "metadata": {
        "id": "E5bkKj32aIZd",
        "outputId": "ef6c3d69-e218-4605-b9c2-f4d1d3ae61e1"
      },
      "outputs": [
        {
          "data": {
            "image/png": "[encoded data removed]",
            "text/plain": [
              "<Figure size 800x550 with 1 Axes>"
            ]
          },
          "metadata": {},
          "output_type": "display_data"
        }
      ],
      "source": [
        "df2['state'].plot(kind='box', title='Распределение по году постройки')\n",
        "plt.show()"
      ]
    },
    {
      "cell_type": "code",
      "execution_count": null,
      "metadata": {
        "id": "eiyNh8VDaIZd",
        "outputId": "3b681e56-05d8-43e1-f433-76482a11b9ad"
      },
      "outputs": [
        {
          "name": "stdout",
          "output_type": "stream",
          "text": [
            "<class 'pandas.core.frame.DataFrame'>\n",
            "Index: 162132 entries, 1 to 377182\n",
            "Data columns (total 9 columns):\n",
            " #   Column         Non-Null Count   Dtype  \n",
            "---  ------         --------------   -----  \n",
            " 0   propertyType   162132 non-null  int32  \n",
            " 1   state          162132 non-null  int32  \n",
            " 2   school_rating  162132 non-null  float64\n",
            " 3   Parking        162132 non-null  int64  \n",
            " 4   Year built     162132 non-null  float64\n",
            " 5   Heating        162132 non-null  int64  \n",
            " 6   Cooling        162132 non-null  int64  \n",
            " 7   targetlg       162132 non-null  float64\n",
            " 8   bedslg         162132 non-null  float64\n",
            "dtypes: float64(4), int32(2), int64(3)\n",
            "memory usage: 11.1 MB\n"
          ]
        }
      ],
      "source": [
        "df2.info()"
      ]
    },
    {
      "cell_type": "markdown",
      "metadata": {
        "id": "naDaUn58aIZd"
      },
      "source": [
        "# выбросы устранены"
      ]
    },
    {
      "cell_type": "markdown",
      "metadata": {
        "id": "PKHqrdjqaIZe"
      },
      "source": [
        "# Оценим возможность построения простой модели линейной корреляции"
      ]
    },
    {
      "cell_type": "code",
      "execution_count": null,
      "metadata": {
        "id": "6JJwyNv6aIZe",
        "outputId": "dbebafaf-1def-49f2-a213-7b4733dac6dd"
      },
      "outputs": [
        {
          "data": {
            "text/html": [
              "<div>\n",
              "<style scoped>\n",
              "    .dataframe tbody tr th:only-of-type {\n",
              "        vertical-align: middle;\n",
              "    }\n",
              "\n",
              "    .dataframe tbody tr th {\n",
              "        vertical-align: top;\n",
              "    }\n",
              "\n",
              "    .dataframe thead th {\n",
              "        text-align: right;\n",
              "    }\n",
              "</style>\n",
              "<table border=\"1\" class=\"dataframe\">\n",
              "  <thead>\n",
              "    <tr style=\"text-align: right;\">\n",
              "      <th></th>\n",
              "      <th>propertyType</th>\n",
              "      <th>state</th>\n",
              "      <th>school_rating</th>\n",
              "      <th>Parking</th>\n",
              "      <th>Year built</th>\n",
              "      <th>Heating</th>\n",
              "      <th>Cooling</th>\n",
              "      <th>targetlg</th>\n",
              "      <th>bedslg</th>\n",
              "    </tr>\n",
              "  </thead>\n",
              "  <tbody>\n",
              "    <tr>\n",
              "      <th>propertyType</th>\n",
              "      <td>1.000000</td>\n",
              "      <td>1.000000</td>\n",
              "      <td>-0.129540</td>\n",
              "      <td>-0.004168</td>\n",
              "      <td>-0.107167</td>\n",
              "      <td>0.168532</td>\n",
              "      <td>0.083844</td>\n",
              "      <td>-0.213882</td>\n",
              "      <td>-0.004204</td>\n",
              "    </tr>\n",
              "    <tr>\n",
              "      <th>state</th>\n",
              "      <td>1.000000</td>\n",
              "      <td>1.000000</td>\n",
              "      <td>-0.129540</td>\n",
              "      <td>-0.004168</td>\n",
              "      <td>-0.107167</td>\n",
              "      <td>0.168532</td>\n",
              "      <td>0.083844</td>\n",
              "      <td>-0.213882</td>\n",
              "      <td>-0.004204</td>\n",
              "    </tr>\n",
              "    <tr>\n",
              "      <th>school_rating</th>\n",
              "      <td>-0.129540</td>\n",
              "      <td>-0.129540</td>\n",
              "      <td>1.000000</td>\n",
              "      <td>0.112583</td>\n",
              "      <td>0.266067</td>\n",
              "      <td>-0.056855</td>\n",
              "      <td>0.038085</td>\n",
              "      <td>0.326049</td>\n",
              "      <td>0.149672</td>\n",
              "    </tr>\n",
              "    <tr>\n",
              "      <th>Parking</th>\n",
              "      <td>-0.004168</td>\n",
              "      <td>-0.004168</td>\n",
              "      <td>0.112583</td>\n",
              "      <td>1.000000</td>\n",
              "      <td>0.055445</td>\n",
              "      <td>0.294330</td>\n",
              "      <td>0.241928</td>\n",
              "      <td>0.136466</td>\n",
              "      <td>0.111878</td>\n",
              "    </tr>\n",
              "    <tr>\n",
              "      <th>Year built</th>\n",
              "      <td>-0.107167</td>\n",
              "      <td>-0.107167</td>\n",
              "      <td>0.266067</td>\n",
              "      <td>0.055445</td>\n",
              "      <td>1.000000</td>\n",
              "      <td>-0.035163</td>\n",
              "      <td>0.178485</td>\n",
              "      <td>0.130719</td>\n",
              "      <td>0.095835</td>\n",
              "    </tr>\n",
              "    <tr>\n",
              "      <th>Heating</th>\n",
              "      <td>0.168532</td>\n",
              "      <td>0.168532</td>\n",
              "      <td>-0.056855</td>\n",
              "      <td>0.294330</td>\n",
              "      <td>-0.035163</td>\n",
              "      <td>1.000000</td>\n",
              "      <td>0.446305</td>\n",
              "      <td>-0.102114</td>\n",
              "      <td>0.007270</td>\n",
              "    </tr>\n",
              "    <tr>\n",
              "      <th>Cooling</th>\n",
              "      <td>0.083844</td>\n",
              "      <td>0.083844</td>\n",
              "      <td>0.038085</td>\n",
              "      <td>0.241928</td>\n",
              "      <td>0.178485</td>\n",
              "      <td>0.446305</td>\n",
              "      <td>1.000000</td>\n",
              "      <td>0.007383</td>\n",
              "      <td>0.022046</td>\n",
              "    </tr>\n",
              "    <tr>\n",
              "      <th>targetlg</th>\n",
              "      <td>-0.213882</td>\n",
              "      <td>-0.213882</td>\n",
              "      <td>0.326049</td>\n",
              "      <td>0.136466</td>\n",
              "      <td>0.130719</td>\n",
              "      <td>-0.102114</td>\n",
              "      <td>0.007383</td>\n",
              "      <td>1.000000</td>\n",
              "      <td>0.270343</td>\n",
              "    </tr>\n",
              "    <tr>\n",
              "      <th>bedslg</th>\n",
              "      <td>-0.004204</td>\n",
              "      <td>-0.004204</td>\n",
              "      <td>0.149672</td>\n",
              "      <td>0.111878</td>\n",
              "      <td>0.095835</td>\n",
              "      <td>0.007270</td>\n",
              "      <td>0.022046</td>\n",
              "      <td>0.270343</td>\n",
              "      <td>1.000000</td>\n",
              "    </tr>\n",
              "  </tbody>\n",
              "</table>\n",
              "</div>"
            ],
            "text/plain": [
              "               propertyType     state  school_rating   Parking  Year built   \n",
              "propertyType       1.000000  1.000000      -0.129540 -0.004168   -0.107167  \\\n",
              "state              1.000000  1.000000      -0.129540 -0.004168   -0.107167   \n",
              "school_rating     -0.129540 -0.129540       1.000000  0.112583    0.266067   \n",
              "Parking           -0.004168 -0.004168       0.112583  1.000000    0.055445   \n",
              "Year built        -0.107167 -0.107167       0.266067  0.055445    1.000000   \n",
              "Heating            0.168532  0.168532      -0.056855  0.294330   -0.035163   \n",
              "Cooling            0.083844  0.083844       0.038085  0.241928    0.178485   \n",
              "targetlg          -0.213882 -0.213882       0.326049  0.136466    0.130719   \n",
              "bedslg            -0.004204 -0.004204       0.149672  0.111878    0.095835   \n",
              "\n",
              "                Heating   Cooling  targetlg    bedslg  \n",
              "propertyType   0.168532  0.083844 -0.213882 -0.004204  \n",
              "state          0.168532  0.083844 -0.213882 -0.004204  \n",
              "school_rating -0.056855  0.038085  0.326049  0.149672  \n",
              "Parking        0.294330  0.241928  0.136466  0.111878  \n",
              "Year built    -0.035163  0.178485  0.130719  0.095835  \n",
              "Heating        1.000000  0.446305 -0.102114  0.007270  \n",
              "Cooling        0.446305  1.000000  0.007383  0.022046  \n",
              "targetlg      -0.102114  0.007383  1.000000  0.270343  \n",
              "bedslg         0.007270  0.022046  0.270343  1.000000  "
            ]
          },
          "execution_count": 280,
          "metadata": {},
          "output_type": "execute_result"
        }
      ],
      "source": [
        "df2.corr()"
      ]
    },
    {
      "cell_type": "code",
      "execution_count": null,
      "metadata": {
        "id": "IdJ-TPxAaIZf",
        "outputId": "1d4c6ac6-8082-476f-dbd5-18a4a697fd51"
      },
      "outputs": [
        {
          "data": {
            "image/png": "[encoded data removed]",
            "text/plain": [
              "<Figure size 1000x500 with 1 Axes>"
            ]
          },
          "metadata": {},
          "output_type": "display_data"
        }
      ],
      "source": [
        "#Вычисляем модуль корреляции\n",
        "corr_with_target = df2.corr()['targetlg'].abs().sort_values()\n",
        "#Удаляем корреляцию целевой переменной с самой собой\n",
        "corr_with_target = corr_with_target.drop('targetlg')\n",
        "#Строим столбчатую диаграмму корреляций\n",
        "fig, ax = plt.subplots(figsize=(10, 5)) #фигура+координатная плоскость\n",
        "ax.bar(corr_with_target.index, corr_with_target.values) #столбчатая диаграмма\n",
        "ax.set_title('Correlations with target') #название графика\n",
        "ax.set_xlabel('Feature') #название оси x\n",
        "ax.set_ylabel('Сorrelation coefficient'); #название оси y"
      ]
    },
    {
      "cell_type": "code",
      "execution_count": null,
      "metadata": {
        "id": "_rkavST4aIZf",
        "outputId": "42c8f992-d260-4ffe-863e-5e185f326d6f"
      },
      "outputs": [
        {
          "name": "stderr",
          "output_type": "stream",
          "text": [
            "C:\\Users\\VEZem\\AppData\\Local\\Temp\\ipykernel_12296\\2150022218.py:15: MatplotlibDeprecationWarning: The seaborn styles shipped by Matplotlib are deprecated since 3.6, as they no longer correspond to the styles shipped by seaborn. However, they will remain available as 'seaborn-v0_8-<style>'. Alternatively, directly use the seaborn API instead.\n",
            "  plt.style.use('seaborn')\n"
          ]
        }
      ],
      "source": [
        "#импорт библиотек\n",
        "import numpy as np #для матричных вычислений\n",
        "import pandas as pd #для анализа и предобработки данных\n",
        "import matplotlib.pyplot as plt #для визуализации\n",
        "import seaborn as sns #для визуализации\n",
        "\n",
        "from sklearn import linear_model #линейные моделиё\n",
        "from sklearn import tree #деревья решений\n",
        "from sklearn import ensemble #ансамбли\n",
        "from sklearn import metrics #метрики\n",
        "from sklearn import preprocessing #предобработка\n",
        "from sklearn.model_selection import train_test_split #сплитование выборки\n",
        "\n",
        "%matplotlib inline\n",
        "plt.style.use('seaborn')"
      ]
    },
    {
      "cell_type": "code",
      "execution_count": null,
      "metadata": {
        "id": "P-BrriMRaIZg"
      },
      "outputs": [],
      "source": [
        "X = df2.drop(['targetlg'], axis=1)\n",
        "y = df2['targetlg']"
      ]
    },
    {
      "cell_type": "code",
      "execution_count": null,
      "metadata": {
        "id": "7zyOCYw7aIZg"
      },
      "outputs": [],
      "source": [
        "X_train, X_test, y_train, y_test = train_test_split(X, y, random_state = 42, test_size = 0.2)"
      ]
    },
    {
      "cell_type": "code",
      "execution_count": null,
      "metadata": {
        "id": "vhNrdlibaIZh"
      },
      "outputs": [],
      "source": [
        "import numpy as np\n",
        "import pandas as pd\n",
        "import matplotlib.pyplot as plt\n",
        "import seaborn as sns\n",
        "import plotly.express as px\n",
        "from plotly.subplots import make_subplots\n",
        "import plotly.graph_objects as go\n",
        "\n",
        "from scipy import stats\n",
        "from sklearn import linear_model\n",
        "from sklearn import preprocessing\n",
        "from sklearn import model_selection\n",
        "from sklearn import tree\n",
        "from sklearn import ensemble\n",
        "from sklearn import metrics\n",
        "from sklearn import cluster\n",
        "from sklearn import feature_selection"
      ]
    },
    {
      "cell_type": "code",
      "execution_count": null,
      "metadata": {
        "id": "erWuHbjoaIZh",
        "outputId": "573c13aa-2b45-4f30-ac9b-aae8190a55a0"
      },
      "outputs": [
        {
          "data": {
            "text/html": [
              "<style>#sk-container-id-5 {color: black;background-color: white;}#sk-container-id-5 pre{padding: 0;}#sk-container-id-5 div.sk-toggleable {background-color: white;}#sk-container-id-5 label.sk-toggleable__label {cursor: pointer;display: block;width: 100%;margin-bottom: 0;padding: 0.3em;box-sizing: border-box;text-align: center;}#sk-container-id-5 label.sk-toggleable__label-arrow:before {content: \"▸\";float: left;margin-right: 0.25em;color: #696969;}#sk-container-id-5 label.sk-toggleable__label-arrow:hover:before {color: black;}#sk-container-id-5 div.sk-estimator:hover label.sk-toggleable__label-arrow:before {color: black;}#sk-container-id-5 div.sk-toggleable__content {max-height: 0;max-width: 0;overflow: hidden;text-align: left;background-color: #f0f8ff;}#sk-container-id-5 div.sk-toggleable__content pre {margin: 0.2em;color: black;border-radius: 0.25em;background-color: #f0f8ff;}#sk-container-id-5 input.sk-toggleable__control:checked~div.sk-toggleable__content {max-height: 200px;max-width: 100%;overflow: auto;}#sk-container-id-5 input.sk-toggleable__control:checked~label.sk-toggleable__label-arrow:before {content: \"▾\";}#sk-container-id-5 div.sk-estimator input.sk-toggleable__control:checked~label.sk-toggleable__label {background-color: #d4ebff;}#sk-container-id-5 div.sk-label input.sk-toggleable__control:checked~label.sk-toggleable__label {background-color: #d4ebff;}#sk-container-id-5 input.sk-hidden--visually {border: 0;clip: rect(1px 1px 1px 1px);clip: rect(1px, 1px, 1px, 1px);height: 1px;margin: -1px;overflow: hidden;padding: 0;position: absolute;width: 1px;}#sk-container-id-5 div.sk-estimator {font-family: monospace;background-color: #f0f8ff;border: 1px dotted black;border-radius: 0.25em;box-sizing: border-box;margin-bottom: 0.5em;}#sk-container-id-5 div.sk-estimator:hover {background-color: #d4ebff;}#sk-container-id-5 div.sk-parallel-item::after {content: \"\";width: 100%;border-bottom: 1px solid gray;flex-grow: 1;}#sk-container-id-5 div.sk-label:hover label.sk-toggleable__label {background-color: #d4ebff;}#sk-container-id-5 div.sk-serial::before {content: \"\";position: absolute;border-left: 1px solid gray;box-sizing: border-box;top: 0;bottom: 0;left: 50%;z-index: 0;}#sk-container-id-5 div.sk-serial {display: flex;flex-direction: column;align-items: center;background-color: white;padding-right: 0.2em;padding-left: 0.2em;position: relative;}#sk-container-id-5 div.sk-item {position: relative;z-index: 1;}#sk-container-id-5 div.sk-parallel {display: flex;align-items: stretch;justify-content: center;background-color: white;position: relative;}#sk-container-id-5 div.sk-item::before, #sk-container-id-5 div.sk-parallel-item::before {content: \"\";position: absolute;border-left: 1px solid gray;box-sizing: border-box;top: 0;bottom: 0;left: 50%;z-index: -1;}#sk-container-id-5 div.sk-parallel-item {display: flex;flex-direction: column;z-index: 1;position: relative;background-color: white;}#sk-container-id-5 div.sk-parallel-item:first-child::after {align-self: flex-end;width: 50%;}#sk-container-id-5 div.sk-parallel-item:last-child::after {align-self: flex-start;width: 50%;}#sk-container-id-5 div.sk-parallel-item:only-child::after {width: 0;}#sk-container-id-5 div.sk-dashed-wrapped {border: 1px dashed gray;margin: 0 0.4em 0.5em 0.4em;box-sizing: border-box;padding-bottom: 0.4em;background-color: white;}#sk-container-id-5 div.sk-label label {font-family: monospace;font-weight: bold;display: inline-block;line-height: 1.2em;}#sk-container-id-5 div.sk-label-container {text-align: center;}#sk-container-id-5 div.sk-container {/* jupyter's `normalize.less` sets `[hidden] { display: none; }` but bootstrap.min.css set `[hidden] { display: none !important; }` so we also need the `!important` here to be able to override the default hidden behavior on the sphinx rendered scikit-learn.org. See: https://github.com/scikit-learn/scikit-learn/issues/21755 */display: inline-block !important;position: relative;}#sk-container-id-5 div.sk-text-repr-fallback {display: none;}</style><div id=\"sk-container-id-5\" class=\"sk-top-container\"><div class=\"sk-text-repr-fallback\"><pre>LinearRegression()</pre><b>In a Jupyter environment, please rerun this cell to show the HTML representation or trust the notebook. <br />On GitHub, the HTML representation is unable to render, please try loading this page with nbviewer.org.</b></div><div class=\"sk-container\" hidden><div class=\"sk-item\"><div class=\"sk-estimator sk-toggleable\"><input class=\"sk-toggleable__control sk-hidden--visually\" id=\"sk-estimator-id-7\" type=\"checkbox\" checked><label for=\"sk-estimator-id-7\" class=\"sk-toggleable__label sk-toggleable__label-arrow\">LinearRegression</label><div class=\"sk-toggleable__content\"><pre>LinearRegression()</pre></div></div></div></div></div>"
            ],
            "text/plain": [
              "LinearRegression()"
            ]
          },
          "execution_count": 286,
          "metadata": {},
          "output_type": "execute_result"
        }
      ],
      "source": [
        "# из набора линейных моделей библиотеки sklearn импортируем линейную регрессию\n",
        "from sklearn.linear_model import LinearRegression\n",
        "\n",
        "# создадим объект этого класса и запишем в переменную model\n",
        "model = LinearRegression()\n",
        "\n",
        "# обучим нашу модель\n",
        "model.fit(X_train, y_train)"
      ]
    },
    {
      "cell_type": "code",
      "execution_count": null,
      "metadata": {
        "id": "DWYXbrNkaIZh",
        "outputId": "be6b3f84-18f6-4616-8a92-1b890eb2e38c"
      },
      "outputs": [
        {
          "name": "stdout",
          "output_type": "stream",
          "text": [
            "[12.53869809 13.00135114 12.42743185 12.96977684 12.43790016]\n"
          ]
        }
      ],
      "source": [
        "# на основе нескольких независимых переменных (Х) предскажем цену на жилье (y)\n",
        "y_pred = model.predict(X_test)\n",
        "\n",
        "# выведем первые пять значений с помощью диапазона индексов\n",
        "print(y_pred[:5])"
      ]
    },
    {
      "cell_type": "code",
      "execution_count": null,
      "metadata": {
        "id": "zdcEJdPZaIZi",
        "outputId": "9a7cd7af-68d3-4e43-b14d-1da5ccd37fcd"
      },
      "outputs": [
        {
          "name": "stdout",
          "output_type": "stream",
          "text": [
            "Root Mean Squared Error (RMSE): 0.7008281470687144\n",
            "R2: 0.2\n"
          ]
        }
      ],
      "source": [
        "# импортируем модуль метрик\n",
        "from sklearn import metrics\n",
        "\n",
        "# выведем корень среднеквадратической ошибки\n",
        "# сравним тестовые и прогнозные значения цен на жилье\n",
        "print('Root Mean Squared Error (RMSE):', np.sqrt(metrics.mean_squared_error(y_test, y_pred)))\n",
        "print('R2:', np.round(metrics.r2_score(y_test, y_pred), 2))\n",
        "\n"
      ]
    },
    {
      "cell_type": "code",
      "execution_count": null,
      "metadata": {
        "id": "UkKx5v0saIZi",
        "outputId": "ea9b8a52-7639-482f-a210-1759c57ba602"
      },
      "outputs": [
        {
          "name": "stdout",
          "output_type": "stream",
          "text": [
            "w0: 10.611100071459262\n",
            "w1: [-2.49199473e+09  2.49199473e+09  1.03526205e-01  1.86650499e-01\n",
            "  3.25441360e-04 -2.33304076e-01  4.09740210e-02  8.41739493e-01]\n"
          ]
        }
      ],
      "source": [
        "print('w0: {}'.format(model.intercept_)) #свободный член w0\n",
        "print('w1: {}'.format(model.coef_)) #остальные параметры модели w1, w2, ..., wm"
      ]
    },
    {
      "cell_type": "code",
      "execution_count": null,
      "metadata": {
        "id": "96MI8QGHaIZj",
        "outputId": "cea6c788-6497-4d23-b723-208ea90bbf2f"
      },
      "outputs": [
        {
          "data": {
            "text/html": [
              "<style>#sk-container-id-6 {color: black;background-color: white;}#sk-container-id-6 pre{padding: 0;}#sk-container-id-6 div.sk-toggleable {background-color: white;}#sk-container-id-6 label.sk-toggleable__label {cursor: pointer;display: block;width: 100%;margin-bottom: 0;padding: 0.3em;box-sizing: border-box;text-align: center;}#sk-container-id-6 label.sk-toggleable__label-arrow:before {content: \"▸\";float: left;margin-right: 0.25em;color: #696969;}#sk-container-id-6 label.sk-toggleable__label-arrow:hover:before {color: black;}#sk-container-id-6 div.sk-estimator:hover label.sk-toggleable__label-arrow:before {color: black;}#sk-container-id-6 div.sk-toggleable__content {max-height: 0;max-width: 0;overflow: hidden;text-align: left;background-color: #f0f8ff;}#sk-container-id-6 div.sk-toggleable__content pre {margin: 0.2em;color: black;border-radius: 0.25em;background-color: #f0f8ff;}#sk-container-id-6 input.sk-toggleable__control:checked~div.sk-toggleable__content {max-height: 200px;max-width: 100%;overflow: auto;}#sk-container-id-6 input.sk-toggleable__control:checked~label.sk-toggleable__label-arrow:before {content: \"▾\";}#sk-container-id-6 div.sk-estimator input.sk-toggleable__control:checked~label.sk-toggleable__label {background-color: #d4ebff;}#sk-container-id-6 div.sk-label input.sk-toggleable__control:checked~label.sk-toggleable__label {background-color: #d4ebff;}#sk-container-id-6 input.sk-hidden--visually {border: 0;clip: rect(1px 1px 1px 1px);clip: rect(1px, 1px, 1px, 1px);height: 1px;margin: -1px;overflow: hidden;padding: 0;position: absolute;width: 1px;}#sk-container-id-6 div.sk-estimator {font-family: monospace;background-color: #f0f8ff;border: 1px dotted black;border-radius: 0.25em;box-sizing: border-box;margin-bottom: 0.5em;}#sk-container-id-6 div.sk-estimator:hover {background-color: #d4ebff;}#sk-container-id-6 div.sk-parallel-item::after {content: \"\";width: 100%;border-bottom: 1px solid gray;flex-grow: 1;}#sk-container-id-6 div.sk-label:hover label.sk-toggleable__label {background-color: #d4ebff;}#sk-container-id-6 div.sk-serial::before {content: \"\";position: absolute;border-left: 1px solid gray;box-sizing: border-box;top: 0;bottom: 0;left: 50%;z-index: 0;}#sk-container-id-6 div.sk-serial {display: flex;flex-direction: column;align-items: center;background-color: white;padding-right: 0.2em;padding-left: 0.2em;position: relative;}#sk-container-id-6 div.sk-item {position: relative;z-index: 1;}#sk-container-id-6 div.sk-parallel {display: flex;align-items: stretch;justify-content: center;background-color: white;position: relative;}#sk-container-id-6 div.sk-item::before, #sk-container-id-6 div.sk-parallel-item::before {content: \"\";position: absolute;border-left: 1px solid gray;box-sizing: border-box;top: 0;bottom: 0;left: 50%;z-index: -1;}#sk-container-id-6 div.sk-parallel-item {display: flex;flex-direction: column;z-index: 1;position: relative;background-color: white;}#sk-container-id-6 div.sk-parallel-item:first-child::after {align-self: flex-end;width: 50%;}#sk-container-id-6 div.sk-parallel-item:last-child::after {align-self: flex-start;width: 50%;}#sk-container-id-6 div.sk-parallel-item:only-child::after {width: 0;}#sk-container-id-6 div.sk-dashed-wrapped {border: 1px dashed gray;margin: 0 0.4em 0.5em 0.4em;box-sizing: border-box;padding-bottom: 0.4em;background-color: white;}#sk-container-id-6 div.sk-label label {font-family: monospace;font-weight: bold;display: inline-block;line-height: 1.2em;}#sk-container-id-6 div.sk-label-container {text-align: center;}#sk-container-id-6 div.sk-container {/* jupyter's `normalize.less` sets `[hidden] { display: none; }` but bootstrap.min.css set `[hidden] { display: none !important; }` so we also need the `!important` here to be able to override the default hidden behavior on the sphinx rendered scikit-learn.org. See: https://github.com/scikit-learn/scikit-learn/issues/21755 */display: inline-block !important;position: relative;}#sk-container-id-6 div.sk-text-repr-fallback {display: none;}</style><div id=\"sk-container-id-6\" class=\"sk-top-container\"><div class=\"sk-text-repr-fallback\"><pre>LinearRegression()</pre><b>In a Jupyter environment, please rerun this cell to show the HTML representation or trust the notebook. <br />On GitHub, the HTML representation is unable to render, please try loading this page with nbviewer.org.</b></div><div class=\"sk-container\" hidden><div class=\"sk-item\"><div class=\"sk-estimator sk-toggleable\"><input class=\"sk-toggleable__control sk-hidden--visually\" id=\"sk-estimator-id-8\" type=\"checkbox\" checked><label for=\"sk-estimator-id-8\" class=\"sk-toggleable__label sk-toggleable__label-arrow\">LinearRegression</label><div class=\"sk-toggleable__content\"><pre>LinearRegression()</pre></div></div></div></div></div>"
            ],
            "text/plain": [
              "LinearRegression()"
            ]
          },
          "execution_count": 290,
          "metadata": {},
          "output_type": "execute_result"
        }
      ],
      "source": [
        "#Составляем список факторов (исключили целевой столбец)\n",
        "features = df2.drop('targetlg', axis=1).columns\n",
        "#Составляем матрицу наблюдений X и вектор ответов y\n",
        "X = df2[features]\n",
        "y = df2['targetlg']\n",
        "#Создаём объект класса LinearRegression\n",
        "lr_full = linear_model.LinearRegression()\n",
        "#Обучаем модель — ищем параметры по МНК\n",
        "lr_full.fit(X, y)"
      ]
    },
    {
      "cell_type": "code",
      "execution_count": null,
      "metadata": {
        "id": "SKviDHuUaIZj",
        "outputId": "5ac67a9b-5437-49d1-ab99-1d4f581987a0"
      },
      "outputs": [
        {
          "data": {
            "text/html": [
              "<div>\n",
              "<style scoped>\n",
              "    .dataframe tbody tr th:only-of-type {\n",
              "        vertical-align: middle;\n",
              "    }\n",
              "\n",
              "    .dataframe tbody tr th {\n",
              "        vertical-align: top;\n",
              "    }\n",
              "\n",
              "    .dataframe thead th {\n",
              "        text-align: right;\n",
              "    }\n",
              "</style>\n",
              "<table border=\"1\" class=\"dataframe\">\n",
              "  <thead>\n",
              "    <tr style=\"text-align: right;\">\n",
              "      <th></th>\n",
              "      <th>Features</th>\n",
              "      <th>Coefficients</th>\n",
              "    </tr>\n",
              "  </thead>\n",
              "  <tbody>\n",
              "    <tr>\n",
              "      <th>0</th>\n",
              "      <td>propertyType</td>\n",
              "      <td>3.733413e+08</td>\n",
              "    </tr>\n",
              "    <tr>\n",
              "      <th>1</th>\n",
              "      <td>state</td>\n",
              "      <td>-3.733413e+08</td>\n",
              "    </tr>\n",
              "    <tr>\n",
              "      <th>2</th>\n",
              "      <td>school_rating</td>\n",
              "      <td>1.034414e-01</td>\n",
              "    </tr>\n",
              "    <tr>\n",
              "      <th>3</th>\n",
              "      <td>Parking</td>\n",
              "      <td>1.879703e-01</td>\n",
              "    </tr>\n",
              "    <tr>\n",
              "      <th>4</th>\n",
              "      <td>Year built</td>\n",
              "      <td>2.813935e-04</td>\n",
              "    </tr>\n",
              "    <tr>\n",
              "      <th>5</th>\n",
              "      <td>Heating</td>\n",
              "      <td>-2.380766e-01</td>\n",
              "    </tr>\n",
              "    <tr>\n",
              "      <th>6</th>\n",
              "      <td>Cooling</td>\n",
              "      <td>4.737695e-02</td>\n",
              "    </tr>\n",
              "    <tr>\n",
              "      <th>7</th>\n",
              "      <td>bedslg</td>\n",
              "      <td>8.361576e-01</td>\n",
              "    </tr>\n",
              "    <tr>\n",
              "      <th>8</th>\n",
              "      <td>INTERCEPT</td>\n",
              "      <td>1.070803e+01</td>\n",
              "    </tr>\n",
              "  </tbody>\n",
              "</table>\n",
              "</div>"
            ],
            "text/plain": [
              "        Features  Coefficients\n",
              "0   propertyType  3.733413e+08\n",
              "1          state -3.733413e+08\n",
              "2  school_rating  1.034414e-01\n",
              "3        Parking  1.879703e-01\n",
              "4     Year built  2.813935e-04\n",
              "5        Heating -2.380766e-01\n",
              "6        Cooling  4.737695e-02\n",
              "7         bedslg  8.361576e-01\n",
              "8      INTERCEPT  1.070803e+01"
            ]
          },
          "metadata": {},
          "output_type": "display_data"
        }
      ],
      "source": [
        "#Составляем таблицу из признаков и их коэффициентов\n",
        "w_df = pd.DataFrame({'Features': features, 'Coefficients': lr_full .coef_})\n",
        "#Составляем строку таблицы со свободным членом\n",
        "intercept_df =pd.DataFrame({'Features': ['INTERCEPT'], 'Coefficients': lr_full .intercept_})\n",
        "coef_df = pd.concat([w_df, intercept_df], ignore_index=True)\n",
        "display(coef_df)"
      ]
    },
    {
      "cell_type": "code",
      "execution_count": null,
      "metadata": {
        "id": "hpcvtSxMaIZk",
        "outputId": "bc1fea66-a312-4244-c856-6a7fff207bbb"
      },
      "outputs": [
        {
          "data": {
            "image/png": "[encoded data removed]",
            "text/plain": [
              "<Figure size 1200x600 with 1 Axes>"
            ]
          },
          "metadata": {},
          "output_type": "display_data"
        }
      ],
      "source": [
        "#Визуализируем ошибки\n",
        "fig, ax = plt.subplots(figsize=(12, 6)) #фигура + координатная плоскость\n",
        "\n",
        "#Ошибки модели на всех факторах\n",
        "y_errors_full = y - lr_full.predict(df2[features])\n",
        "#Для удобства визуализации составим DataFrame из ошибок\n",
        "errors_df = pd.DataFrame(\n",
        "    {'Full_factors_predict': y_errors_full\n",
        "    }\n",
        ")\n",
        "#Строим boxplot для ошибок\n",
        "sns.boxplot(data=errors_df, orient='h', ax=ax)\n",
        "ax.set_xlabel('Model errors') #название оси абсцисс\n",
        "ax.set_ylabel('Model'); #название оси ординат"
      ]
    },
    {
      "cell_type": "markdown",
      "metadata": {
        "id": "91Q5p0O7aIZl"
      },
      "source": [
        "#На обеих диаграммах присутствуют точки, сильно выбивающиеся за пределы усов. Это наблюдения, для которых модель допустила очень большую ошибку, по сравнению с основной группой.\n",
        "Можно предположить, что это объекты, для которых гипотеза о линейной зависимости несправедлива, и линейной модели не хватает для предсказания целевой переменной для таких объектов."
      ]
    },
    {
      "cell_type": "code",
      "execution_count": null,
      "metadata": {
        "id": "XzO0GsQOaIZm",
        "outputId": "e03118fe-bc1f-4f8d-8919-98f4cc257dab"
      },
      "outputs": [
        {
          "name": "stdout",
          "output_type": "stream",
          "text": [
            "MAE score: 0.556 thou. $\n",
            "RMSE score: 0.701 thou. $\n",
            "MAPE score: 4.364 %\n",
            "R2 score: 0.203\n"
          ]
        }
      ],
      "source": [
        "#Делаем предсказание по всем признакам\n",
        "y_predict_full = lr_full.predict(df2[features])\n",
        "#Рассчитываем MAE\n",
        "print('MAE score: {:.3f} thou. $'.format(metrics.mean_absolute_error(y, y_predict_full)))\n",
        "#Рассчитываем RMSE\n",
        "print('RMSE score: {:.3f} thou. $'.format(np.sqrt(metrics.mean_squared_error(y, y_predict_full))))\n",
        "#Рассчитываем MAPE\n",
        "print('MAPE score: {:.3f} %'.format(metrics.mean_absolute_percentage_error(y, y_predict_full) * 100))\n",
        "#Рассчитываем коэффициент детерминации\n",
        "print('R2 score: {:.3f}'.format(metrics.r2_score(y, y_predict_full)))\n",
        "\n",
        "\n"
      ]
    },
    {
      "cell_type": "markdown",
      "metadata": {
        "id": "Co9CBTmVaIZm"
      },
      "source": [
        "#Модель имеет плохое значение R2"
      ]
    },
    {
      "cell_type": "code",
      "execution_count": null,
      "metadata": {
        "id": "r0vRr7c0aIZn",
        "outputId": "b952a750-8254-41bc-9b6e-823526d2bb5a"
      },
      "outputs": [
        {
          "name": "stdout",
          "output_type": "stream",
          "text": [
            "Train: (113492, 8) (113492,)\n",
            "Test: (48640, 8) (48640,)\n"
          ]
        }
      ],
      "source": [
        "from sklearn.model_selection import train_test_split\n",
        "#Разделяем выборку на тренировочную и тестовую в соотношении 70/30\n",
        "#Устанавливаем random_state для воспроизводимости результатов\n",
        "X_train, X_test, y_train, y_test = train_test_split(X, y, test_size=0.3, random_state=40)\n",
        "#Выводим результирующие размеры таблиц\n",
        "print('Train:', X_train.shape, y_train.shape)\n",
        "print('Test:', X_test.shape, y_test.shape)\n",
        "\n",
        "# Train: (354, 13) (354,)\n",
        "# Test: (152, 13) (152,)"
      ]
    },
    {
      "cell_type": "code",
      "execution_count": null,
      "metadata": {
        "id": "OO8Ow6NPaIZo",
        "outputId": "de2a176b-94cb-47c0-97d3-5f56390a7ebc"
      },
      "outputs": [
        {
          "name": "stdout",
          "output_type": "stream",
          "text": [
            "Train R^2: 0.200\n",
            "Test R^2: 0.210\n"
          ]
        }
      ],
      "source": [
        "#Создаём объект класса LinearRegression\n",
        "lr_model = linear_model.LinearRegression()\n",
        "#Обучаем модель по МНК\n",
        "lr_model.fit(X_train, y_train)\n",
        "\n",
        "#Делаем предсказание для тренировочной выборки\n",
        "y_train_predict = lr_model.predict(X_train)\n",
        "#Делаем предсказание для тестовой выборки\n",
        "y_test_predict = lr_model.predict(X_test)\n",
        "\n",
        "print(\"Train R^2: {:.3f}\".format(metrics.r2_score(y_train, y_train_predict)))\n",
        "print(\"Test R^2: {:.3f}\".format(metrics.r2_score(y_test, y_test_predict)))\n",
        "\n"
      ]
    },
    {
      "cell_type": "code",
      "execution_count": null,
      "metadata": {
        "id": "57gX3uxzaIZo",
        "outputId": "e83b7b0b-3a36-4cd5-cdcb-f388d0215c9e"
      },
      "outputs": [
        {
          "name": "stdout",
          "output_type": "stream",
          "text": [
            "(113492, 44)\n",
            "(48640, 44)\n"
          ]
        }
      ],
      "source": [
        "#Создаём генератор полиномиальных признаков\n",
        "poly = preprocessing.PolynomialFeatures(degree=2, include_bias=False)\n",
        "poly.fit(X_train)\n",
        "#Генерируем полиномиальные признаки для тренировочной выборки\n",
        "X_train_poly = poly.transform(X_train)\n",
        "#Генерируем полиномиальные признаки для тестовой выборки\n",
        "X_test_poly = poly.transform(X_test)\n",
        "#Выводим результирующие размерности таблиц\n",
        "print(X_train_poly.shape)\n",
        "print(X_test_poly.shape)\n",
        "\n"
      ]
    },
    {
      "cell_type": "code",
      "execution_count": null,
      "metadata": {
        "id": "a8qR6u_vaIZo",
        "outputId": "dbc4ba3d-423b-4b1b-ef4c-ea1107a97186"
      },
      "outputs": [
        {
          "name": "stdout",
          "output_type": "stream",
          "text": [
            "Train R^2: 0.298\n",
            "Test R^2: 0.310\n"
          ]
        }
      ],
      "source": [
        "#Создаём объект класса LinearRegression\n",
        "lr_model_poly = linear_model.LinearRegression()\n",
        "#Обучаем модель по МНК\n",
        "lr_model_poly.fit(X_train_poly, y_train)\n",
        "#Делаем предсказание для тренировочной выборки\n",
        "y_train_predict_poly = lr_model_poly.predict(X_train_poly)\n",
        "#Делаем предсказание для тестовой выборки\n",
        "y_test_predict_poly = lr_model_poly.predict(X_test_poly)\n",
        "\n",
        "#Рассчитываем коэффициент детерминации для двух выборок\n",
        "print(\"Train R^2: {:.3f}\".format(metrics.r2_score(y_train, y_train_predict_poly)))\n",
        "print(\"Test R^2: {:.3f}\".format(metrics.r2_score(y_test, y_test_predict_poly)))\n",
        "\n",
        "# Train R^2: 0.929\n",
        "# Test R^2: 0.268\n",
        "\n"
      ]
    },
    {
      "cell_type": "markdown",
      "metadata": {
        "id": "XyIqxcvDaIZp"
      },
      "source": [
        "#Метрика R2 выросла"
      ]
    },
    {
      "cell_type": "code",
      "execution_count": null,
      "metadata": {
        "id": "wihB_2gBaIZp",
        "outputId": "ec280cd3-6738-4e70-a72c-99d867a4a3e6"
      },
      "outputs": [
        {
          "name": "stdout",
          "output_type": "stream",
          "text": [
            "(113492, 44)\n",
            "(48640, 44)\n"
          ]
        }
      ],
      "source": [
        "#Инициализируем стандартизатор StandardScaler\n",
        "scaler = preprocessing.StandardScaler()\n",
        "#Подгоняем параметры стандартизатора (вычисляем среднее и СКО)\n",
        "scaler.fit(X_train)\n",
        "#Производим стандартизацию тренировочной выборки\n",
        "X_train_scaled = scaler.transform(X_train)\n",
        "#Производим стандартизацию тестовой выборки\n",
        "X_test_scaled = scaler.transform(X_test)\n",
        "\n",
        "#Создаём генератор полиномиальных признаков\n",
        "poly = preprocessing.PolynomialFeatures(degree=2, include_bias=False)\n",
        "poly.fit(X_train_scaled)\n",
        "#Генерируем полиномиальные признаки для тренировочной выборки\n",
        "X_train_scaled_poly = poly.transform(X_train_scaled)\n",
        "#Генерируем полиномиальные признаки для тестовой выборки\n",
        "X_test_scaled_poly = poly.transform(X_test_scaled)\n",
        "#Выводим результирующие размерности таблиц\n",
        "\n",
        "print(X_train_scaled_poly.shape)\n",
        "print(X_test_scaled_poly.shape)"
      ]
    },
    {
      "cell_type": "code",
      "execution_count": null,
      "metadata": {
        "id": "t2hw2wV4aIZq",
        "outputId": "5222505c-a3e8-4ae7-9b18-207cde3b839a"
      },
      "outputs": [
        {
          "name": "stdout",
          "output_type": "stream",
          "text": [
            "Train R^2: 0.158\n",
            "Test R^2: 0.163\n"
          ]
        }
      ],
      "source": [
        "#Создаём объект класса линейной регрессии с L1-регуляризацией\n",
        "lasso_lr_poly = linear_model.Lasso(alpha=0.1)\n",
        "#Обучаем модель\n",
        "lasso_lr_poly.fit(X_train_scaled_poly, y_train)\n",
        "#Делаем предсказание для тренировочной выборки\n",
        "y_train_predict_poly = lasso_lr_poly.predict(X_train_scaled_poly)\n",
        "#Делаем предсказание для тестовой выборки\n",
        "y_test_predict_poly = lasso_lr_poly.predict(X_test_scaled_poly)\n",
        "#Рассчитываем коэффициент детерминации для двух выборок\n",
        "print(\"Train R^2: {:.3f}\".format(metrics.r2_score(y_train, y_train_predict_poly)))\n",
        "print(\"Test R^2: {:.3f}\".format(metrics.r2_score(y_test, y_test_predict_poly)))"
      ]
    },
    {
      "cell_type": "code",
      "execution_count": null,
      "metadata": {
        "id": "wes6CFgoaIZq",
        "outputId": "baa4cc1d-a326-4e61-bd05-b983535065ae"
      },
      "outputs": [
        {
          "name": "stdout",
          "output_type": "stream",
          "text": [
            "Train R^2: 0.298\n",
            "Test R^2: 0.310\n"
          ]
        }
      ],
      "source": [
        "#Создаём объект класса линейной регрессии с L2-регуляризацией\n",
        "ridge_lr_poly = linear_model.Ridge(alpha=10)\n",
        "#Обучаем модель\n",
        "ridge_lr_poly.fit(X_train_scaled_poly, y_train)\n",
        "#Делаем предсказание для тренировочной выборки\n",
        "y_train_predict_poly = ridge_lr_poly.predict(X_train_scaled_poly)\n",
        "#Делаем предсказание для тестовой выборки\n",
        "y_test_predict_poly = ridge_lr_poly.predict(X_test_scaled_poly)\n",
        "#Рассчитываем коэффициент детерминации для двух выборок\n",
        "print(\"Train R^2: {:.3f}\".format(metrics.r2_score(y_train, y_train_predict_poly)))\n",
        "print(\"Test R^2: {:.3f}\".format(metrics.r2_score(y_test, y_test_predict_poly)))"
      ]
    },
    {
      "cell_type": "code",
      "execution_count": null,
      "metadata": {
        "id": "_D3bVPBkaIZr"
      },
      "outputs": [],
      "source": [
        "#Создаём список из 20 возможных значений от 0.0001 до 0.001\n",
        "alpha_list = np.linspace(0.0001, 0.001, 3)\n",
        "#Создаём пустые списки, в которые будем добавлять результаты\n",
        "train_scores = []\n",
        "test_scores = []\n",
        "for alpha in alpha_list:\n",
        "    #Создаём объект класса линейной регрессии с L1-регуляризацией\n",
        "    lasso_lr_poly = linear_model.Lasso(alpha=alpha, max_iter=10000)\n",
        "    #Обучаем модель\n",
        "    lasso_lr_poly.fit(X_train_scaled_poly, y_train)\n",
        "    #Делаем предсказание для тренировочной выборки\n",
        "    y_train_predict_poly = lasso_lr_poly.predict(X_train_scaled_poly)\n",
        "    #Делаем предсказание для тестовой выборки\n",
        "    y_test_predict_poly = lasso_lr_poly.predict(X_test_scaled_poly)\n",
        "    #Рассчитываем коэффициенты детерминации для двух выборок и добавляем их в списки\n",
        "    train_scores.append(metrics.r2_score(y_train, y_train_predict_poly))\n",
        "    test_scores.append(metrics.r2_score(y_test, y_test_predict_poly))"
      ]
    },
    {
      "cell_type": "code",
      "execution_count": null,
      "metadata": {
        "id": "D0JhkpdQaIZs",
        "outputId": "98df8b28-e28e-4ef6-acc0-683dcff53f79"
      },
      "outputs": [
        {
          "data": {
            "image/png": "[encoded data removed]",
            "text/plain": [
              "<Figure size 1200x400 with 1 Axes>"
            ]
          },
          "metadata": {},
          "output_type": "display_data"
        }
      ],
      "source": [
        "#Визуализируем изменение R^2 в зависимости от alpha\n",
        "fig, ax = plt.subplots(figsize=(12, 4)) #фигура + координатная плоскость\n",
        "ax.plot(alpha_list, train_scores, label='Train') #линейный график для тренировочной выборки\n",
        "ax.plot(alpha_list, test_scores, label='Test') #линейный график для тестовой выборки\n",
        "ax.set_xlabel('Alpha') #название оси абсцисс\n",
        "ax.set_ylabel('R^2') #название оси ординат\n",
        "ax.set_xticks(alpha_list) #метки по оси абсцисс\n",
        "ax.xaxis.set_tick_params(rotation=45) #поворот меток на оси абсцисс\n",
        "ax.legend(); #отображение легенды"
      ]
    },
    {
      "cell_type": "code",
      "execution_count": null,
      "metadata": {
        "id": "OOOlR2TeaIZs",
        "outputId": "cb7c750b-dbdc-420f-da0b-c883ba5b0a4f"
      },
      "outputs": [
        {
          "name": "stdout",
          "output_type": "stream",
          "text": [
            "Train R^2: 0.298\n",
            "Test R^2: 0.310\n"
          ]
        }
      ],
      "source": [
        "#Создаём объект класса линейной регрессии с L1-регуляризацией\n",
        "lasso_lr_poly = linear_model.Lasso(alpha=0.0001)\n",
        "#Обучаем модель\n",
        "lasso_lr_poly.fit(X_train_scaled_poly, y_train)\n",
        "#Делаем предсказание для тренировочной выборки\n",
        "y_train_predict_poly = lasso_lr_poly.predict(X_train_scaled_poly)\n",
        "#Делаем предсказание для тестовой выборки\n",
        "y_test_predict_poly = lasso_lr_poly.predict(X_test_scaled_poly)\n",
        "#Рассчитываем коэффициент детерминации для двух выборок\n",
        "print(\"Train R^2: {:.3f}\".format(metrics.r2_score(y_train, y_train_predict_poly)))\n",
        "print(\"Test R^2: {:.3f}\".format(metrics.r2_score(y_test, y_test_predict_poly)))"
      ]
    },
    {
      "cell_type": "markdown",
      "metadata": {
        "id": "dJRY7JjfaIZs"
      },
      "source": [
        "### Простые модели показывают хорошую метрику МАРЕ, но довольно низкую R2. Попробуем модели случайного леса и сохраним  pipline"
      ]
    },
    {
      "cell_type": "code",
      "execution_count": null,
      "metadata": {
        "id": "InNJjGJqaIZt"
      },
      "outputs": [],
      "source": [
        "from sklearn.ensemble import RandomForestRegressor"
      ]
    },
    {
      "cell_type": "code",
      "execution_count": null,
      "metadata": {
        "id": "88o_aVIPaIZt"
      },
      "outputs": [],
      "source": [
        "rf_mdel = RandomForestRegressor(n_estimators= 200,\n",
        "                               n_jobs=-1,\n",
        "                                bootstrap=False,\n",
        "                                criterion='friedman_mse',\n",
        "                                max_features=3,\n",
        "                                random_state=1,\n",
        "                                max_depth=55,\n",
        "                                min_samples_split=5\n",
        "                               )"
      ]
    },
    {
      "cell_type": "code",
      "execution_count": null,
      "metadata": {
        "id": "FhUBIzYyaIZu",
        "outputId": "64e1380d-a06e-4154-dac1-93fc8a9de8df"
      },
      "outputs": [
        {
          "data": {
            "text/html": [
              "<style>#sk-container-id-7 {color: black;background-color: white;}#sk-container-id-7 pre{padding: 0;}#sk-container-id-7 div.sk-toggleable {background-color: white;}#sk-container-id-7 label.sk-toggleable__label {cursor: pointer;display: block;width: 100%;margin-bottom: 0;padding: 0.3em;box-sizing: border-box;text-align: center;}#sk-container-id-7 label.sk-toggleable__label-arrow:before {content: \"▸\";float: left;margin-right: 0.25em;color: #696969;}#sk-container-id-7 label.sk-toggleable__label-arrow:hover:before {color: black;}#sk-container-id-7 div.sk-estimator:hover label.sk-toggleable__label-arrow:before {color: black;}#sk-container-id-7 div.sk-toggleable__content {max-height: 0;max-width: 0;overflow: hidden;text-align: left;background-color: #f0f8ff;}#sk-container-id-7 div.sk-toggleable__content pre {margin: 0.2em;color: black;border-radius: 0.25em;background-color: #f0f8ff;}#sk-container-id-7 input.sk-toggleable__control:checked~div.sk-toggleable__content {max-height: 200px;max-width: 100%;overflow: auto;}#sk-container-id-7 input.sk-toggleable__control:checked~label.sk-toggleable__label-arrow:before {content: \"▾\";}#sk-container-id-7 div.sk-estimator input.sk-toggleable__control:checked~label.sk-toggleable__label {background-color: #d4ebff;}#sk-container-id-7 div.sk-label input.sk-toggleable__control:checked~label.sk-toggleable__label {background-color: #d4ebff;}#sk-container-id-7 input.sk-hidden--visually {border: 0;clip: rect(1px 1px 1px 1px);clip: rect(1px, 1px, 1px, 1px);height: 1px;margin: -1px;overflow: hidden;padding: 0;position: absolute;width: 1px;}#sk-container-id-7 div.sk-estimator {font-family: monospace;background-color: #f0f8ff;border: 1px dotted black;border-radius: 0.25em;box-sizing: border-box;margin-bottom: 0.5em;}#sk-container-id-7 div.sk-estimator:hover {background-color: #d4ebff;}#sk-container-id-7 div.sk-parallel-item::after {content: \"\";width: 100%;border-bottom: 1px solid gray;flex-grow: 1;}#sk-container-id-7 div.sk-label:hover label.sk-toggleable__label {background-color: #d4ebff;}#sk-container-id-7 div.sk-serial::before {content: \"\";position: absolute;border-left: 1px solid gray;box-sizing: border-box;top: 0;bottom: 0;left: 50%;z-index: 0;}#sk-container-id-7 div.sk-serial {display: flex;flex-direction: column;align-items: center;background-color: white;padding-right: 0.2em;padding-left: 0.2em;position: relative;}#sk-container-id-7 div.sk-item {position: relative;z-index: 1;}#sk-container-id-7 div.sk-parallel {display: flex;align-items: stretch;justify-content: center;background-color: white;position: relative;}#sk-container-id-7 div.sk-item::before, #sk-container-id-7 div.sk-parallel-item::before {content: \"\";position: absolute;border-left: 1px solid gray;box-sizing: border-box;top: 0;bottom: 0;left: 50%;z-index: -1;}#sk-container-id-7 div.sk-parallel-item {display: flex;flex-direction: column;z-index: 1;position: relative;background-color: white;}#sk-container-id-7 div.sk-parallel-item:first-child::after {align-self: flex-end;width: 50%;}#sk-container-id-7 div.sk-parallel-item:last-child::after {align-self: flex-start;width: 50%;}#sk-container-id-7 div.sk-parallel-item:only-child::after {width: 0;}#sk-container-id-7 div.sk-dashed-wrapped {border: 1px dashed gray;margin: 0 0.4em 0.5em 0.4em;box-sizing: border-box;padding-bottom: 0.4em;background-color: white;}#sk-container-id-7 div.sk-label label {font-family: monospace;font-weight: bold;display: inline-block;line-height: 1.2em;}#sk-container-id-7 div.sk-label-container {text-align: center;}#sk-container-id-7 div.sk-container {/* jupyter's `normalize.less` sets `[hidden] { display: none; }` but bootstrap.min.css set `[hidden] { display: none !important; }` so we also need the `!important` here to be able to override the default hidden behavior on the sphinx rendered scikit-learn.org. See: https://github.com/scikit-learn/scikit-learn/issues/21755 */display: inline-block !important;position: relative;}#sk-container-id-7 div.sk-text-repr-fallback {display: none;}</style><div id=\"sk-container-id-7\" class=\"sk-top-container\"><div class=\"sk-text-repr-fallback\"><pre>RandomForestRegressor(bootstrap=False, criterion=&#x27;friedman_mse&#x27;, max_depth=55,\n",
              "                      max_features=3, min_samples_split=5, n_estimators=200,\n",
              "                      n_jobs=-1, random_state=1)</pre><b>In a Jupyter environment, please rerun this cell to show the HTML representation or trust the notebook. <br />On GitHub, the HTML representation is unable to render, please try loading this page with nbviewer.org.</b></div><div class=\"sk-container\" hidden><div class=\"sk-item\"><div class=\"sk-estimator sk-toggleable\"><input class=\"sk-toggleable__control sk-hidden--visually\" id=\"sk-estimator-id-9\" type=\"checkbox\" checked><label for=\"sk-estimator-id-9\" class=\"sk-toggleable__label sk-toggleable__label-arrow\">RandomForestRegressor</label><div class=\"sk-toggleable__content\"><pre>RandomForestRegressor(bootstrap=False, criterion=&#x27;friedman_mse&#x27;, max_depth=55,\n",
              "                      max_features=3, min_samples_split=5, n_estimators=200,\n",
              "                      n_jobs=-1, random_state=1)</pre></div></div></div></div></div>"
            ],
            "text/plain": [
              "RandomForestRegressor(bootstrap=False, criterion='friedman_mse', max_depth=55,\n",
              "                      max_features=3, min_samples_split=5, n_estimators=200,\n",
              "                      n_jobs=-1, random_state=1)"
            ]
          },
          "execution_count": 306,
          "metadata": {},
          "output_type": "execute_result"
        }
      ],
      "source": [
        "rf_mdel.fit(X_train, y_train)"
      ]
    },
    {
      "cell_type": "code",
      "execution_count": null,
      "metadata": {
        "id": "sYR4-El8aIZu"
      },
      "outputs": [],
      "source": [
        "rf_prediction_train =  rf_mdel.predict(X_train)"
      ]
    },
    {
      "cell_type": "code",
      "execution_count": null,
      "metadata": {
        "id": "xiAvEfPzaIZu"
      },
      "outputs": [],
      "source": [
        "rf_prediction =  rf_mdel.predict(X_test)"
      ]
    },
    {
      "cell_type": "code",
      "execution_count": null,
      "metadata": {
        "id": "bPqUaHPdaIZv"
      },
      "outputs": [],
      "source": [
        "import numpy as np\n",
        "from sklearn.metrics import accuracy_score\n",
        "from sklearn.metrics import mean_absolute_percentage_error"
      ]
    },
    {
      "cell_type": "code",
      "execution_count": null,
      "metadata": {
        "id": "ph91AU72aIZv",
        "outputId": "83df2680-4795-45f6-d5b9-d1a91f6bd9e1"
      },
      "outputs": [
        {
          "data": {
            "text/plain": [
              "0.023677426394632845"
            ]
          },
          "execution_count": 310,
          "metadata": {},
          "output_type": "execute_result"
        }
      ],
      "source": [
        "mean_absolute_percentage_error(y_train, rf_prediction_train)"
      ]
    },
    {
      "cell_type": "code",
      "execution_count": null,
      "metadata": {
        "id": "3qHLh3S4aIZv",
        "outputId": "9347789b-fef9-4c18-e9c2-84c97c1764c2"
      },
      "outputs": [
        {
          "data": {
            "text/plain": [
              "0.034525036101051"
            ]
          },
          "execution_count": 311,
          "metadata": {},
          "output_type": "execute_result"
        }
      ],
      "source": [
        "mean_absolute_percentage_error(y_test, rf_prediction)"
      ]
    },
    {
      "cell_type": "code",
      "execution_count": null,
      "metadata": {
        "id": "KEdLqTYhaIZv"
      },
      "outputs": [],
      "source": [
        "import numpy as np\n",
        "from sklearn.metrics import accuracy_score"
      ]
    },
    {
      "cell_type": "code",
      "execution_count": null,
      "metadata": {
        "id": "oRoYXCVuaIZw"
      },
      "outputs": [],
      "source": [
        "from sklearn.metrics import mean_squared_error"
      ]
    },
    {
      "cell_type": "code",
      "execution_count": null,
      "metadata": {
        "id": "nKQHiWvBaIZw",
        "outputId": "c49e0c92-0ac8-491c-8bbc-247a60c87dba"
      },
      "outputs": [
        {
          "data": {
            "text/plain": [
              "0.3529883400876947"
            ]
          },
          "execution_count": 314,
          "metadata": {},
          "output_type": "execute_result"
        }
      ],
      "source": [
        "mean_squared_error(y_test, rf_prediction)"
      ]
    },
    {
      "cell_type": "code",
      "execution_count": null,
      "metadata": {
        "id": "AafD8w0IaIZw"
      },
      "outputs": [],
      "source": [
        "from sklearn.ensemble import RandomForestRegressor\n",
        "from sklearn.tree import DecisionTreeRegressor\n",
        "from sklearn.metrics import mean_squared_error\n",
        "from sklearn.model_selection import train_test_split\n",
        "import pandas as pd\n",
        "import numpy as np"
      ]
    },
    {
      "cell_type": "code",
      "execution_count": null,
      "metadata": {
        "id": "V85A6To7aIZx",
        "outputId": "50b8dcac-86fa-4f93-e9f6-da8ac614fd30"
      },
      "outputs": [
        {
          "name": "stdout",
          "output_type": "stream",
          "text": [
            "Качество предсказания по MSE для решающего дерева 0.36\n",
            "Качество предсказания по MSE для случайного леса  0.34\n"
          ]
        }
      ],
      "source": [
        "# Создаем модель дерева решений с максимальной глубиной 10\n",
        "regr1 = DecisionTreeRegressor(\n",
        "    max_depth=10, #максимальная глубина дерева\n",
        "    random_state=42 #датчик генератора случайных чисел\n",
        ")\n",
        "# Обучаем модель\n",
        "regr1.fit(X_train, y_train)\n",
        "\n",
        "\n",
        "\n",
        "# Создаем модель случайного леса из 10 деревьев с максимальной глубиной 10 для каждого дерева\n",
        "regr2 = RandomForestRegressor(\n",
        "    max_depth=10, #максимальная глубина дерева\n",
        "    n_estimators=10, #количество деревьев в ансамбле\n",
        "    random_state=42 #датчик генератора случайных чисел\n",
        ")\n",
        "# Обучаем модель\n",
        "regr2.fit(X_train, y_train)\n",
        "\n",
        "\n",
        "# Формируем предсказания каждой из моделей\n",
        "y_pred1 = regr1.predict(X_test)\n",
        "y_pred2 = regr2.predict(X_test)\n",
        "\n",
        "# Оцениваем качество по метрике MSE\n",
        "print(f'Качество предсказания по MSE для решающего дерева {round(mean_squared_error(y_test, y_pred1), 2)}')\n",
        "print(f'Качество предсказания по MSE для случайного леса  {round(mean_squared_error(y_test, y_pred2), 2)}')"
      ]
    },
    {
      "cell_type": "code",
      "execution_count": null,
      "metadata": {
        "id": "qYrM9ee8aIZx"
      },
      "outputs": [],
      "source": [
        "import pandas as pd\n",
        "import numpy as np\n",
        "from sklearn.pipeline import Pipeline\n",
        "from sklearn.ensemble import RandomForestRegressor\n",
        "from sklearn.preprocessing import StandardScaler\n",
        "\n",
        "from sklearn.datasets import fetch_california_housing\n",
        "from sklearn.metrics import r2_score, mean_squared_error\n",
        "from sklearn.model_selection import train_test_split"
      ]
    },
    {
      "cell_type": "code",
      "execution_count": null,
      "metadata": {
        "id": "tJiOOlCYaIZy"
      },
      "outputs": [],
      "source": [
        "def rmse(y_hat, y):\n",
        "    return mean_squared_error(y_hat, y, squared = False)"
      ]
    },
    {
      "cell_type": "code",
      "execution_count": null,
      "metadata": {
        "id": "n5Me41KdaIZy",
        "outputId": "af03fa3a-2b16-4ad3-a1a3-68a1b5c1d8df"
      },
      "outputs": [
        {
          "data": {
            "text/html": [
              "<style>#sk-container-id-8 {color: black;background-color: white;}#sk-container-id-8 pre{padding: 0;}#sk-container-id-8 div.sk-toggleable {background-color: white;}#sk-container-id-8 label.sk-toggleable__label {cursor: pointer;display: block;width: 100%;margin-bottom: 0;padding: 0.3em;box-sizing: border-box;text-align: center;}#sk-container-id-8 label.sk-toggleable__label-arrow:before {content: \"▸\";float: left;margin-right: 0.25em;color: #696969;}#sk-container-id-8 label.sk-toggleable__label-arrow:hover:before {color: black;}#sk-container-id-8 div.sk-estimator:hover label.sk-toggleable__label-arrow:before {color: black;}#sk-container-id-8 div.sk-toggleable__content {max-height: 0;max-width: 0;overflow: hidden;text-align: left;background-color: #f0f8ff;}#sk-container-id-8 div.sk-toggleable__content pre {margin: 0.2em;color: black;border-radius: 0.25em;background-color: #f0f8ff;}#sk-container-id-8 input.sk-toggleable__control:checked~div.sk-toggleable__content {max-height: 200px;max-width: 100%;overflow: auto;}#sk-container-id-8 input.sk-toggleable__control:checked~label.sk-toggleable__label-arrow:before {content: \"▾\";}#sk-container-id-8 div.sk-estimator input.sk-toggleable__control:checked~label.sk-toggleable__label {background-color: #d4ebff;}#sk-container-id-8 div.sk-label input.sk-toggleable__control:checked~label.sk-toggleable__label {background-color: #d4ebff;}#sk-container-id-8 input.sk-hidden--visually {border: 0;clip: rect(1px 1px 1px 1px);clip: rect(1px, 1px, 1px, 1px);height: 1px;margin: -1px;overflow: hidden;padding: 0;position: absolute;width: 1px;}#sk-container-id-8 div.sk-estimator {font-family: monospace;background-color: #f0f8ff;border: 1px dotted black;border-radius: 0.25em;box-sizing: border-box;margin-bottom: 0.5em;}#sk-container-id-8 div.sk-estimator:hover {background-color: #d4ebff;}#sk-container-id-8 div.sk-parallel-item::after {content: \"\";width: 100%;border-bottom: 1px solid gray;flex-grow: 1;}#sk-container-id-8 div.sk-label:hover label.sk-toggleable__label {background-color: #d4ebff;}#sk-container-id-8 div.sk-serial::before {content: \"\";position: absolute;border-left: 1px solid gray;box-sizing: border-box;top: 0;bottom: 0;left: 50%;z-index: 0;}#sk-container-id-8 div.sk-serial {display: flex;flex-direction: column;align-items: center;background-color: white;padding-right: 0.2em;padding-left: 0.2em;position: relative;}#sk-container-id-8 div.sk-item {position: relative;z-index: 1;}#sk-container-id-8 div.sk-parallel {display: flex;align-items: stretch;justify-content: center;background-color: white;position: relative;}#sk-container-id-8 div.sk-item::before, #sk-container-id-8 div.sk-parallel-item::before {content: \"\";position: absolute;border-left: 1px solid gray;box-sizing: border-box;top: 0;bottom: 0;left: 50%;z-index: -1;}#sk-container-id-8 div.sk-parallel-item {display: flex;flex-direction: column;z-index: 1;position: relative;background-color: white;}#sk-container-id-8 div.sk-parallel-item:first-child::after {align-self: flex-end;width: 50%;}#sk-container-id-8 div.sk-parallel-item:last-child::after {align-self: flex-start;width: 50%;}#sk-container-id-8 div.sk-parallel-item:only-child::after {width: 0;}#sk-container-id-8 div.sk-dashed-wrapped {border: 1px dashed gray;margin: 0 0.4em 0.5em 0.4em;box-sizing: border-box;padding-bottom: 0.4em;background-color: white;}#sk-container-id-8 div.sk-label label {font-family: monospace;font-weight: bold;display: inline-block;line-height: 1.2em;}#sk-container-id-8 div.sk-label-container {text-align: center;}#sk-container-id-8 div.sk-container {/* jupyter's `normalize.less` sets `[hidden] { display: none; }` but bootstrap.min.css set `[hidden] { display: none !important; }` so we also need the `!important` here to be able to override the default hidden behavior on the sphinx rendered scikit-learn.org. See: https://github.com/scikit-learn/scikit-learn/issues/21755 */display: inline-block !important;position: relative;}#sk-container-id-8 div.sk-text-repr-fallback {display: none;}</style><div id=\"sk-container-id-8\" class=\"sk-top-container\"><div class=\"sk-text-repr-fallback\"><pre>Pipeline(steps=[(&#x27;scaler&#x27;, StandardScaler()), (&#x27;rf&#x27;, RandomForestRegressor())])</pre><b>In a Jupyter environment, please rerun this cell to show the HTML representation or trust the notebook. <br />On GitHub, the HTML representation is unable to render, please try loading this page with nbviewer.org.</b></div><div class=\"sk-container\" hidden><div class=\"sk-item sk-dashed-wrapped\"><div class=\"sk-label-container\"><div class=\"sk-label sk-toggleable\"><input class=\"sk-toggleable__control sk-hidden--visually\" id=\"sk-estimator-id-10\" type=\"checkbox\" ><label for=\"sk-estimator-id-10\" class=\"sk-toggleable__label sk-toggleable__label-arrow\">Pipeline</label><div class=\"sk-toggleable__content\"><pre>Pipeline(steps=[(&#x27;scaler&#x27;, StandardScaler()), (&#x27;rf&#x27;, RandomForestRegressor())])</pre></div></div></div><div class=\"sk-serial\"><div class=\"sk-item\"><div class=\"sk-estimator sk-toggleable\"><input class=\"sk-toggleable__control sk-hidden--visually\" id=\"sk-estimator-id-11\" type=\"checkbox\" ><label for=\"sk-estimator-id-11\" class=\"sk-toggleable__label sk-toggleable__label-arrow\">StandardScaler</label><div class=\"sk-toggleable__content\"><pre>StandardScaler()</pre></div></div></div><div class=\"sk-item\"><div class=\"sk-estimator sk-toggleable\"><input class=\"sk-toggleable__control sk-hidden--visually\" id=\"sk-estimator-id-12\" type=\"checkbox\" ><label for=\"sk-estimator-id-12\" class=\"sk-toggleable__label sk-toggleable__label-arrow\">RandomForestRegressor</label><div class=\"sk-toggleable__content\"><pre>RandomForestRegressor()</pre></div></div></div></div></div></div></div>"
            ],
            "text/plain": [
              "Pipeline(steps=[('scaler', StandardScaler()), ('rf', RandomForestRegressor())])"
            ]
          },
          "execution_count": 319,
          "metadata": {},
          "output_type": "execute_result"
        }
      ],
      "source": [
        "pipeline = Pipeline([('scaler', StandardScaler()), ('rf', RandomForestRegressor())])\n",
        "pipeline.fit(X_train, y_train)\n"
      ]
    },
    {
      "cell_type": "code",
      "execution_count": null,
      "metadata": {
        "id": "A96e9QhPaIZ0",
        "outputId": "f24020c4-0e36-4db1-ae70-2db567d446aa"
      },
      "outputs": [
        {
          "name": "stdout",
          "output_type": "stream",
          "text": [
            "Качество по метрике R2: 0.4492\n",
            "Качество по RSME: 0.5857\n"
          ]
        }
      ],
      "source": [
        "y_pred = pipeline.predict(X_test)\n",
        "print(f'Качество по метрике R2: { round(r2_score(y_test, y_pred),4)}')\n",
        "print(f'Качество по RSME: {round(rmse(y_test, y_pred),4)}')"
      ]
    },
    {
      "cell_type": "markdown",
      "metadata": {
        "id": "YHDiV5FEaIZ1"
      },
      "source": [
        "### Удалось улучшить метрики моделей"
      ]
    },
    {
      "cell_type": "code",
      "execution_count": null,
      "metadata": {
        "id": "BITYUBsFaIZ2",
        "outputId": "5f236597-96d5-4f3f-da0d-e194a31b21bb"
      },
      "outputs": [
        {
          "name": "stdout",
          "output_type": "stream",
          "text": [
            "Requirement already satisfied: joblib in c:\\users\\vezem\\appdata\\local\\programs\\python\\python311\\lib\\site-packages (1.3.2)\n"
          ]
        },
        {
          "data": {
            "text/plain": [
              "['pipeline.pkl']"
            ]
          },
          "execution_count": 321,
          "metadata": {},
          "output_type": "execute_result"
        }
      ],
      "source": [
        "!pip install joblib\n",
        "import joblib\n",
        "joblib.dump(pipeline, 'pipeline.pkl')"
      ]
    },
    {
      "cell_type": "code",
      "execution_count": null,
      "metadata": {
        "id": "l_G-vdU4aIZ3",
        "outputId": "c9d1ca88-9b17-4c98-b1f9-901989fe2303"
      },
      "outputs": [
        {
          "name": "stdout",
          "output_type": "stream",
          "text": [
            "Pipeline(steps=[('scaler', StandardScaler()), ('rf', RandomForestRegressor())])\n"
          ]
        }
      ],
      "source": [
        "pipeline_loaded = joblib.load('pipeline.pkl')\n",
        "print(pipeline_loaded)"
      ]
    },
    {
      "cell_type": "code",
      "execution_count": null,
      "metadata": {
        "id": "-SVxbpb9aIZ4"
      },
      "outputs": [],
      "source": [
        "pipeline.set_params(rf__n_estimators = 200)\n",
        "pipeline.fit(X_train,y_train)\n",
        "y_pred = pipeline.predict(X_test)"
      ]
    },
    {
      "cell_type": "code",
      "execution_count": null,
      "metadata": {
        "id": "65sys-LJaIZ6",
        "outputId": "e25e3bc7-5bd9-4dad-f21d-c4a826e2cab7"
      },
      "outputs": [
        {
          "name": "stdout",
          "output_type": "stream",
          "text": [
            "Качество по RSME: 0.5851\n",
            "Качество по метрике R2: 0.4504\n"
          ]
        }
      ],
      "source": [
        "print(f'Качество по RSME: {round(rmse(y_test, y_pred),4)}')\n",
        "print(f'Качество по метрике R2: { round(r2_score(y_test, y_pred),4)}')"
      ]
    },
    {
      "cell_type": "code",
      "execution_count": null,
      "metadata": {
        "id": "8ywQXgzWaIZ7",
        "outputId": "de3feff5-00ef-48a3-a866-4702a063fd84"
      },
      "outputs": [
        {
          "name": "stdout",
          "output_type": "stream",
          "text": [
            "Качество по RSME: 0.59\n",
            "Качество по метрике R2: 0.4504\n"
          ]
        }
      ],
      "source": [
        "from sklearn.linear_model import RidgeCV\n",
        "from sklearn.tree import DecisionTreeRegressor\n",
        "from sklearn.ensemble import StackingRegressor\n",
        "\n",
        "estimators = [\n",
        "    ('lr', RidgeCV()),\n",
        "    ('dt',  DecisionTreeRegressor(random_state=42))\n",
        "]\n",
        "\n",
        "reg = StackingRegressor(\n",
        "    estimators=estimators,\n",
        "    final_estimator=RandomForestRegressor(n_estimators=500,\n",
        "                                          random_state=42)\n",
        ")\n",
        "\n",
        "\n",
        "\n",
        "\n",
        "\n",
        "pipeline.fit(X_train,y_train)\n",
        "\n",
        "\n",
        "\n",
        "y_pred = pipeline.predict(X_test)\n",
        "print(f'Качество по RSME: {round(rmse(y_test, y_pred),2)}')\n",
        "print(f'Качество по метрике R2: { round(r2_score(y_test, y_pred),4)}')"
      ]
    },
    {
      "cell_type": "markdown",
      "metadata": {
        "id": "51wzORC1aIZ8"
      },
      "source": [
        "#Проведем сериализацию"
      ]
    },
    {
      "cell_type": "code",
      "execution_count": null,
      "metadata": {
        "id": "bNrXQFoLaIZ8",
        "outputId": "b8cc34e6-e744-4d06-e923-a34cdef0198f"
      },
      "outputs": [
        {
          "name": "stdout",
          "output_type": "stream",
          "text": [
            "<class 'bytes'>\n",
            "<class 'sklearn.pipeline.Pipeline'>\n"
          ]
        }
      ],
      "source": [
        "model = pickle.dumps(pipeline_loaded )\n",
        "\n",
        "print(type(model))\n",
        "print(type(pipeline_loaded ))"
      ]
    },
    {
      "cell_type": "code",
      "execution_count": null,
      "metadata": {
        "id": "3JQGMRvjaIZ-"
      },
      "outputs": [],
      "source": [
        "### Проведен анализ, очистка и преобразование данных. Получены хорошие метрики модели. Модель сохранена в пайплайне."
      ]
    }
  ],
  "metadata": {
    "kernelspec": {
      "display_name": "Python 3",
      "language": "python",
      "name": "python3"
    },
    "language_info": {
      "codemirror_mode": {
        "name": "ipython",
        "version": 3
      },
      "file_extension": ".py",
      "mimetype": "text/x-python",
      "name": "python",
      "nbconvert_exporter": "python",
      "pygments_lexer": "ipython3",
      "version": "3.11.2"
    },
    "colab": {
      "provenance": [],
      "toc_visible": true,
      "include_colab_link": true
    }
  },
  "nbformat": 4,
  "nbformat_minor": 0
}